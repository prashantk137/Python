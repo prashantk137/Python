{
 "cells": [
  {
   "cell_type": "markdown",
   "id": "df5061a9",
   "metadata": {},
   "source": [
    " 1. Even or Odd"
   ]
  },
  {
   "cell_type": "code",
   "execution_count": 9,
   "id": "8fdb05d0",
   "metadata": {},
   "outputs": [],
   "source": [
    "def evenodd(x):\n",
    "    if x%2==0:\n",
    "        print(\"Even\")\n",
    "    else:\n",
    "        print(\"Odd\")"
   ]
  },
  {
   "cell_type": "code",
   "execution_count": 13,
   "id": "09aabb8b",
   "metadata": {},
   "outputs": [
    {
     "name": "stdout",
     "output_type": "stream",
     "text": [
      "Even\n"
     ]
    }
   ],
   "source": [
    "evenodd(0)"
   ]
  },
  {
   "cell_type": "markdown",
   "id": "1f0595ff",
   "metadata": {},
   "source": [
    "2. Prime Number"
   ]
  },
  {
   "cell_type": "code",
   "execution_count": 17,
   "id": "76fb3dcf",
   "metadata": {},
   "outputs": [
    {
     "name": "stdout",
     "output_type": "stream",
     "text": [
      "8\n",
      "8 is not a prime number.\n"
     ]
    }
   ],
   "source": [
    "n=int(input())\n",
    "if n > 1:\n",
    "    for i in range(2,int(n/2)+1):\n",
    "        if (n%i)==0:\n",
    "            print(n,\"is not a prime number.\")\n",
    "            break\n",
    "    else:\n",
    "        print(n,\"is a prime number.\")\n",
    "else:\n",
    "    print(n,\"is not a prime number.\")"
   ]
  },
  {
   "cell_type": "markdown",
   "id": "3cf81683",
   "metadata": {},
   "source": [
    "3. Fibonacci Series"
   ]
  },
  {
   "cell_type": "code",
   "execution_count": 22,
   "id": "452235ed",
   "metadata": {},
   "outputs": [
    {
     "name": "stdout",
     "output_type": "stream",
     "text": [
      "3\n",
      "0 1 1 "
     ]
    }
   ],
   "source": [
    "a=int(input(\"Enter the number of terms\"))\n",
    "f=0\n",
    "s=1\n",
    "if a<=0:\n",
    "    print(\"The requested series is\",f)\n",
    "else:\n",
    "    print(f,s,end=\" \")\n",
    "    for x in range(2,a):\n",
    "        next=f+s                           \n",
    "        print(next,end=\" \")\n",
    "        f=s\n",
    "        s=next"
   ]
  },
  {
   "cell_type": "markdown",
   "id": "91ecf801",
   "metadata": {},
   "source": [
    "4. Armstrong Number"
   ]
  },
  {
   "cell_type": "code",
   "execution_count": 26,
   "id": "a74f5d87",
   "metadata": {},
   "outputs": [
    {
     "name": "stdout",
     "output_type": "stream",
     "text": [
      "12\n",
      "12 is not a Armstrong number.\n"
     ]
    }
   ],
   "source": [
    "n=int(input())\n",
    "m=len(str(n))\n",
    "temp=n\n",
    "sum=0\n",
    "while temp!=0:\n",
    "    k=temp%10\n",
    "    sum=sum+k**m\n",
    "    temp=temp//10\n",
    "if sum==n:\n",
    "    print(n,\"is a Armstrong number.\")\n",
    "else:\n",
    "    print(n,\"is not a Armstrong number.\")"
   ]
  },
  {
   "cell_type": "markdown",
   "id": "6fe6ef64",
   "metadata": {},
   "source": [
    "5. "
   ]
  }
 ],
 "metadata": {
  "kernelspec": {
   "display_name": "Python 3 (ipykernel)",
   "language": "python",
   "name": "python3"
  },
  "language_info": {
   "codemirror_mode": {
    "name": "ipython",
    "version": 3
   },
   "file_extension": ".py",
   "mimetype": "text/x-python",
   "name": "python",
   "nbconvert_exporter": "python",
   "pygments_lexer": "ipython3",
   "version": "3.9.7"
  }
 },
 "nbformat": 4,
 "nbformat_minor": 5
}
