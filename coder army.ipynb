{
 "cells": [
  {
   "cell_type": "code",
   "execution_count": 1,
   "id": "0b00f232",
   "metadata": {},
   "outputs": [],
   "source": [
    "s=\"Prashant\""
   ]
  },
  {
   "cell_type": "code",
   "execution_count": 2,
   "id": "9f2f8181",
   "metadata": {},
   "outputs": [
    {
     "data": {
      "text/plain": [
       "str"
      ]
     },
     "execution_count": 2,
     "metadata": {},
     "output_type": "execute_result"
    }
   ],
   "source": [
    "type(s)"
   ]
  },
  {
   "cell_type": "code",
   "execution_count": 3,
   "id": "a128c683",
   "metadata": {},
   "outputs": [
    {
     "data": {
      "text/plain": [
       "'P'"
      ]
     },
     "execution_count": 3,
     "metadata": {},
     "output_type": "execute_result"
    }
   ],
   "source": [
    "s[0]"
   ]
  },
  {
   "cell_type": "code",
   "execution_count": 4,
   "id": "5fdc508a",
   "metadata": {},
   "outputs": [
    {
     "data": {
      "text/plain": [
       "'r'"
      ]
     },
     "execution_count": 4,
     "metadata": {},
     "output_type": "execute_result"
    }
   ],
   "source": [
    "s[1]"
   ]
  },
  {
   "cell_type": "code",
   "execution_count": 5,
   "id": "6bdafdf7",
   "metadata": {},
   "outputs": [
    {
     "data": {
      "text/plain": [
       "'a'"
      ]
     },
     "execution_count": 5,
     "metadata": {},
     "output_type": "execute_result"
    }
   ],
   "source": [
    "s[2]"
   ]
  },
  {
   "cell_type": "code",
   "execution_count": 6,
   "id": "aacfaff4",
   "metadata": {},
   "outputs": [
    {
     "data": {
      "text/plain": [
       "'s'"
      ]
     },
     "execution_count": 6,
     "metadata": {},
     "output_type": "execute_result"
    }
   ],
   "source": [
    "s[3]"
   ]
  },
  {
   "cell_type": "code",
   "execution_count": 7,
   "id": "505d7a28",
   "metadata": {},
   "outputs": [
    {
     "data": {
      "text/plain": [
       "'h'"
      ]
     },
     "execution_count": 7,
     "metadata": {},
     "output_type": "execute_result"
    }
   ],
   "source": [
    "s[4]"
   ]
  },
  {
   "cell_type": "code",
   "execution_count": 8,
   "id": "623e516a",
   "metadata": {},
   "outputs": [
    {
     "ename": "IndexError",
     "evalue": "string index out of range",
     "output_type": "error",
     "traceback": [
      "\u001b[1;31m---------------------------------------------------------------------------\u001b[0m",
      "\u001b[1;31mIndexError\u001b[0m                                Traceback (most recent call last)",
      "\u001b[1;32mC:\\Users\\PRASHA~1\\AppData\\Local\\Temp/ipykernel_20016/1734129449.py\u001b[0m in \u001b[0;36m<module>\u001b[1;34m\u001b[0m\n\u001b[1;32m----> 1\u001b[1;33m \u001b[0ms\u001b[0m\u001b[1;33m[\u001b[0m\u001b[1;36m11\u001b[0m\u001b[1;33m]\u001b[0m\u001b[1;33m\u001b[0m\u001b[1;33m\u001b[0m\u001b[0m\n\u001b[0m",
      "\u001b[1;31mIndexError\u001b[0m: string index out of range"
     ]
    }
   ],
   "source": [
    "s[11]"
   ]
  },
  {
   "cell_type": "code",
   "execution_count": 9,
   "id": "59999729",
   "metadata": {},
   "outputs": [
    {
     "data": {
      "text/plain": [
       "'Prashant'"
      ]
     },
     "execution_count": 9,
     "metadata": {},
     "output_type": "execute_result"
    }
   ],
   "source": [
    "s[0:100]"
   ]
  },
  {
   "cell_type": "code",
   "execution_count": 10,
   "id": "072e8249",
   "metadata": {},
   "outputs": [
    {
     "data": {
      "text/plain": [
       "''"
      ]
     },
     "execution_count": 10,
     "metadata": {},
     "output_type": "execute_result"
    }
   ],
   "source": [
    "s[-1:-100]"
   ]
  },
  {
   "cell_type": "code",
   "execution_count": 11,
   "id": "56678493",
   "metadata": {},
   "outputs": [
    {
     "data": {
      "text/plain": [
       "'Pahn'"
      ]
     },
     "execution_count": 11,
     "metadata": {},
     "output_type": "execute_result"
    }
   ],
   "source": [
    "s[0:10:2]"
   ]
  },
  {
   "cell_type": "code",
   "execution_count": 12,
   "id": "1d1928e9",
   "metadata": {},
   "outputs": [
    {
     "data": {
      "text/plain": [
       "''"
      ]
     },
     "execution_count": 12,
     "metadata": {},
     "output_type": "execute_result"
    }
   ],
   "source": [
    "s[0:100:-1]"
   ]
  },
  {
   "cell_type": "code",
   "execution_count": 13,
   "id": "56ba76fb",
   "metadata": {},
   "outputs": [
    {
     "data": {
      "text/plain": [
       "'Prashant'"
      ]
     },
     "execution_count": 13,
     "metadata": {},
     "output_type": "execute_result"
    }
   ],
   "source": [
    "s[0::1]"
   ]
  },
  {
   "cell_type": "code",
   "execution_count": 14,
   "id": "780ce14b",
   "metadata": {},
   "outputs": [
    {
     "data": {
      "text/plain": [
       "'Pahn'"
      ]
     },
     "execution_count": 14,
     "metadata": {},
     "output_type": "execute_result"
    }
   ],
   "source": [
    "s[0::2]"
   ]
  },
  {
   "cell_type": "code",
   "execution_count": 15,
   "id": "84e64c1f",
   "metadata": {},
   "outputs": [
    {
     "data": {
      "text/plain": [
       "'Psn'"
      ]
     },
     "execution_count": 15,
     "metadata": {},
     "output_type": "execute_result"
    }
   ],
   "source": [
    "s[0::3]"
   ]
  },
  {
   "cell_type": "code",
   "execution_count": 16,
   "id": "1feb372d",
   "metadata": {},
   "outputs": [
    {
     "data": {
      "text/plain": [
       "'PrashantPrashantPrashant'"
      ]
     },
     "execution_count": 16,
     "metadata": {},
     "output_type": "execute_result"
    }
   ],
   "source": [
    "s*3"
   ]
  },
  {
   "cell_type": "code",
   "execution_count": 18,
   "id": "273e1497",
   "metadata": {},
   "outputs": [
    {
     "data": {
      "text/plain": [
       "'Prashant Kumar'"
      ]
     },
     "execution_count": 18,
     "metadata": {},
     "output_type": "execute_result"
    }
   ],
   "source": [
    "s+\" Kumar\""
   ]
  },
  {
   "cell_type": "code",
   "execution_count": 19,
   "id": "5abad43e",
   "metadata": {},
   "outputs": [
    {
     "data": {
      "text/plain": [
       "8"
      ]
     },
     "execution_count": 19,
     "metadata": {},
     "output_type": "execute_result"
    }
   ],
   "source": [
    "len(s)"
   ]
  },
  {
   "cell_type": "code",
   "execution_count": 21,
   "id": "3df6f81f",
   "metadata": {},
   "outputs": [
    {
     "data": {
      "text/plain": [
       "2"
      ]
     },
     "execution_count": 21,
     "metadata": {},
     "output_type": "execute_result"
    }
   ],
   "source": [
    "s.find('a')"
   ]
  },
  {
   "cell_type": "code",
   "execution_count": 22,
   "id": "3574081f",
   "metadata": {},
   "outputs": [
    {
     "data": {
      "text/plain": [
       "3"
      ]
     },
     "execution_count": 22,
     "metadata": {},
     "output_type": "execute_result"
    }
   ],
   "source": [
    "s.find(\"sh\")"
   ]
  },
  {
   "cell_type": "code",
   "execution_count": 23,
   "id": "6729cd51",
   "metadata": {},
   "outputs": [
    {
     "data": {
      "text/plain": [
       "2"
      ]
     },
     "execution_count": 23,
     "metadata": {},
     "output_type": "execute_result"
    }
   ],
   "source": [
    "s.count(\"a\")"
   ]
  },
  {
   "cell_type": "code",
   "execution_count": 25,
   "id": "a9f03259",
   "metadata": {},
   "outputs": [],
   "source": [
    "l=s.split()"
   ]
  },
  {
   "cell_type": "code",
   "execution_count": 26,
   "id": "bf298a3d",
   "metadata": {},
   "outputs": [
    {
     "data": {
      "text/plain": [
       "'Prashant'"
      ]
     },
     "execution_count": 26,
     "metadata": {},
     "output_type": "execute_result"
    }
   ],
   "source": [
    "l[0]"
   ]
  },
  {
   "cell_type": "code",
   "execution_count": 28,
   "id": "32c46d25",
   "metadata": {},
   "outputs": [
    {
     "data": {
      "text/plain": [
       "['Prashant']"
      ]
     },
     "execution_count": 28,
     "metadata": {},
     "output_type": "execute_result"
    }
   ],
   "source": [
    "l[0:]"
   ]
  },
  {
   "cell_type": "code",
   "execution_count": 29,
   "id": "0d9435ea",
   "metadata": {},
   "outputs": [
    {
     "data": {
      "text/plain": [
       "'PRASHANT'"
      ]
     },
     "execution_count": 29,
     "metadata": {},
     "output_type": "execute_result"
    }
   ],
   "source": [
    "s.upper()"
   ]
  },
  {
   "cell_type": "code",
   "execution_count": 30,
   "id": "c7ab85b1",
   "metadata": {},
   "outputs": [
    {
     "data": {
      "text/plain": [
       "'prashant'"
      ]
     },
     "execution_count": 30,
     "metadata": {},
     "output_type": "execute_result"
    }
   ],
   "source": [
    "s.lower()"
   ]
  },
  {
   "cell_type": "code",
   "execution_count": 31,
   "id": "2dba0f76",
   "metadata": {},
   "outputs": [],
   "source": [
    "p=\"KuMaR\""
   ]
  },
  {
   "cell_type": "code",
   "execution_count": 32,
   "id": "9d9460bd",
   "metadata": {},
   "outputs": [
    {
     "data": {
      "text/plain": [
       "'kUmAr'"
      ]
     },
     "execution_count": 32,
     "metadata": {},
     "output_type": "execute_result"
    }
   ],
   "source": [
    "p.swapcase()"
   ]
  },
  {
   "cell_type": "code",
   "execution_count": 33,
   "id": "a13f75c2",
   "metadata": {},
   "outputs": [
    {
     "data": {
      "text/plain": [
       "'KUMAR'"
      ]
     },
     "execution_count": 33,
     "metadata": {},
     "output_type": "execute_result"
    }
   ],
   "source": [
    "p.upper()"
   ]
  },
  {
   "cell_type": "code",
   "execution_count": 34,
   "id": "ba76989c",
   "metadata": {},
   "outputs": [
    {
     "data": {
      "text/plain": [
       "'kumar'"
      ]
     },
     "execution_count": 34,
     "metadata": {},
     "output_type": "execute_result"
    }
   ],
   "source": [
    "p.lower()"
   ]
  },
  {
   "cell_type": "code",
   "execution_count": 35,
   "id": "f25e3bd1",
   "metadata": {},
   "outputs": [
    {
     "data": {
      "text/plain": [
       "'KuMaR'"
      ]
     },
     "execution_count": 35,
     "metadata": {},
     "output_type": "execute_result"
    }
   ],
   "source": [
    "p"
   ]
  },
  {
   "cell_type": "code",
   "execution_count": 36,
   "id": "4fdb4fdf",
   "metadata": {},
   "outputs": [
    {
     "data": {
      "text/plain": [
       "'Prashant'"
      ]
     },
     "execution_count": 36,
     "metadata": {},
     "output_type": "execute_result"
    }
   ],
   "source": [
    "s.title()"
   ]
  },
  {
   "cell_type": "code",
   "execution_count": 37,
   "id": "644e90ed",
   "metadata": {},
   "outputs": [
    {
     "data": {
      "text/plain": [
       "'Kumar'"
      ]
     },
     "execution_count": 37,
     "metadata": {},
     "output_type": "execute_result"
    }
   ],
   "source": [
    "p.title()"
   ]
  },
  {
   "cell_type": "code",
   "execution_count": 39,
   "id": "c2da5b7e",
   "metadata": {},
   "outputs": [
    {
     "data": {
      "text/plain": [
       "'Kumar'"
      ]
     },
     "execution_count": 39,
     "metadata": {},
     "output_type": "execute_result"
    }
   ],
   "source": [
    "p.capitalize()"
   ]
  },
  {
   "cell_type": "code",
   "execution_count": 42,
   "id": "703862de",
   "metadata": {},
   "outputs": [
    {
     "data": {
      "text/plain": [
       "b'KuMaR'"
      ]
     },
     "execution_count": 42,
     "metadata": {},
     "output_type": "execute_result"
    }
   ],
   "source": [
    "p.encode()"
   ]
  },
  {
   "cell_type": "code",
   "execution_count": 43,
   "id": "946784d5",
   "metadata": {},
   "outputs": [
    {
     "data": {
      "text/plain": [
       "b'Prashant'"
      ]
     },
     "execution_count": 43,
     "metadata": {},
     "output_type": "execute_result"
    }
   ],
   "source": [
    "s.encode()"
   ]
  },
  {
   "cell_type": "code",
   "execution_count": 44,
   "id": "ce636eb7",
   "metadata": {},
   "outputs": [],
   "source": [
    "l1=[1,2,3,4]"
   ]
  },
  {
   "cell_type": "code",
   "execution_count": 52,
   "id": "8a930451",
   "metadata": {},
   "outputs": [],
   "source": [
    "l1.extend([5,6,7])"
   ]
  },
  {
   "cell_type": "code",
   "execution_count": 53,
   "id": "9890254e",
   "metadata": {},
   "outputs": [
    {
     "data": {
      "text/plain": [
       "[1, 2, 3, 4, 5, 6, 7]"
      ]
     },
     "execution_count": 53,
     "metadata": {},
     "output_type": "execute_result"
    }
   ],
   "source": [
    "l1"
   ]
  },
  {
   "cell_type": "code",
   "execution_count": 54,
   "id": "83de01e2",
   "metadata": {},
   "outputs": [],
   "source": [
    "l1.append([8,9])"
   ]
  },
  {
   "cell_type": "code",
   "execution_count": 55,
   "id": "a89101fe",
   "metadata": {},
   "outputs": [
    {
     "data": {
      "text/plain": [
       "[1, 2, 3, 4, 5, 6, 7, [8, 9]]"
      ]
     },
     "execution_count": 55,
     "metadata": {},
     "output_type": "execute_result"
    }
   ],
   "source": [
    "l1"
   ]
  },
  {
   "cell_type": "code",
   "execution_count": 58,
   "id": "f8005056",
   "metadata": {},
   "outputs": [],
   "source": [
    "l1.insert(8,[10,11])"
   ]
  },
  {
   "cell_type": "code",
   "execution_count": 59,
   "id": "df371c14",
   "metadata": {},
   "outputs": [
    {
     "data": {
      "text/plain": [
       "[1, 2, 3, 4, 5, 6, 7, [8, 9], [10, 11]]"
      ]
     },
     "execution_count": 59,
     "metadata": {},
     "output_type": "execute_result"
    }
   ],
   "source": [
    "l1"
   ]
  },
  {
   "cell_type": "code",
   "execution_count": 60,
   "id": "37fb37d6",
   "metadata": {},
   "outputs": [],
   "source": [
    "l1.insert(11,[1,2])"
   ]
  },
  {
   "cell_type": "code",
   "execution_count": 61,
   "id": "76577ed9",
   "metadata": {},
   "outputs": [
    {
     "data": {
      "text/plain": [
       "[1, 2, 3, 4, 5, 6, 7, [8, 9], [10, 11], [1, 2]]"
      ]
     },
     "execution_count": 61,
     "metadata": {},
     "output_type": "execute_result"
    }
   ],
   "source": [
    "l1"
   ]
  },
  {
   "cell_type": "code",
   "execution_count": 69,
   "id": "ac07307c",
   "metadata": {},
   "outputs": [],
   "source": [
    "l=[\"prashant\",\"Kumar\",9999,9+6j,99.9]"
   ]
  },
  {
   "cell_type": "code",
   "execution_count": 64,
   "id": "13da60d1",
   "metadata": {},
   "outputs": [
    {
     "data": {
      "text/plain": [
       "'9999'"
      ]
     },
     "execution_count": 64,
     "metadata": {},
     "output_type": "execute_result"
    }
   ],
   "source": [
    "l[2]"
   ]
  },
  {
   "cell_type": "code",
   "execution_count": 66,
   "id": "d183e6bf",
   "metadata": {},
   "outputs": [
    {
     "data": {
      "text/plain": [
       "9999"
      ]
     },
     "execution_count": 66,
     "metadata": {},
     "output_type": "execute_result"
    }
   ],
   "source": [
    "l[2]"
   ]
  },
  {
   "cell_type": "code",
   "execution_count": 70,
   "id": "2f4edd7b",
   "metadata": {},
   "outputs": [
    {
     "data": {
      "text/plain": [
       "(9+6j)"
      ]
     },
     "execution_count": 70,
     "metadata": {},
     "output_type": "execute_result"
    }
   ],
   "source": [
    "l[3]"
   ]
  },
  {
   "cell_type": "code",
   "execution_count": 2,
   "id": "d64c8e76",
   "metadata": {},
   "outputs": [
    {
     "name": "stdout",
     "output_type": "stream",
     "text": [
      "100 101 102 103 104 105 106 107 108 109 110 111 112 113 114 115 116 117 118 119 120 121 122 123 124 125 126 127 128 129 130 131 132 133 134 135 136 137 138 139 140 141 142 143 144 145 146 147 148 149 150 151 152 153 154 155 156 157 158 159 160 161 162 163 164 165 166 167 168 169 170 171 172 173 174 175 176 177 178 179 180 181 182 183 184 185 186 187 188 189 190 191 192 193 194 195 196 197 198 199 200 "
     ]
    }
   ],
   "source": [
    "a=200\n",
    "for i in range(100,a+1):\n",
    "    print(i,end=' ')"
   ]
  },
  {
   "cell_type": "code",
   "execution_count": 19,
   "id": "09e77fb7",
   "metadata": {},
   "outputs": [
    {
     "name": "stdout",
     "output_type": "stream",
     "text": [
      "a b c d e f g h i j k l m n o p q r s t u v w x y z "
     ]
    }
   ],
   "source": [
    "for i in range(26):\n",
    "    print(chr(97+i),end=' ')"
   ]
  },
  {
   "cell_type": "code",
   "execution_count": 14,
   "id": "45c5254b",
   "metadata": {},
   "outputs": [],
   "source": [
    "a=98"
   ]
  },
  {
   "cell_type": "code",
   "execution_count": 15,
   "id": "7dee9d2f",
   "metadata": {},
   "outputs": [
    {
     "data": {
      "text/plain": [
       "'b'"
      ]
     },
     "execution_count": 15,
     "metadata": {},
     "output_type": "execute_result"
    }
   ],
   "source": [
    "chr(a)"
   ]
  },
  {
   "cell_type": "code",
   "execution_count": 20,
   "id": "ad169956",
   "metadata": {},
   "outputs": [
    {
     "name": "stdout",
     "output_type": "stream",
     "text": [
      "A B C D E F G H I J K L M N O P Q R S T U V W X Y Z "
     ]
    }
   ],
   "source": [
    "for i in range(26):\n",
    "    print(chr(65+i),end=' ')"
   ]
  },
  {
   "cell_type": "code",
   "execution_count": 38,
   "id": "17a1363c",
   "metadata": {},
   "outputs": [
    {
     "name": "stdout",
     "output_type": "stream",
     "text": [
      "Enter the number : 10\n",
      "10 9 8 7 6 5 4 3 2 1 "
     ]
    }
   ],
   "source": [
    "n=int(input('Enter the number : '))\n",
    "for i in range(n,0,-1):\n",
    "    print(i,end=' ')"
   ]
  },
  {
   "cell_type": "code",
   "execution_count": 40,
   "id": "44c6f5a5",
   "metadata": {},
   "outputs": [
    {
     "name": "stdout",
     "output_type": "stream",
     "text": [
      "Enter the number : 100\n",
      "1 4 7 10 13 16 19 22 25 28 31 34 37 40 43 46 49 52 55 58 61 64 67 70 73 76 79 82 85 88 91 94 97 100 "
     ]
    }
   ],
   "source": [
    "n=int(input('Enter the number : '))\n",
    "for i in range(1,n+1,3):\n",
    "    print(i,end=' ')"
   ]
  },
  {
   "cell_type": "code",
   "execution_count": 45,
   "id": "1587b0e0",
   "metadata": {},
   "outputs": [
    {
     "name": "stdout",
     "output_type": "stream",
     "text": [
      "Enter the number to print table5\n",
      "5 * 1 = 5\n",
      "5 * 2 = 10\n",
      "5 * 3 = 15\n",
      "5 * 4 = 20\n",
      "5 * 5 = 25\n",
      "5 * 6 = 30\n",
      "5 * 7 = 35\n",
      "5 * 8 = 40\n",
      "5 * 9 = 45\n",
      "5 * 10 = 50\n"
     ]
    }
   ],
   "source": [
    "n=int(input('Enter the number to print table'))\n",
    "for i in range(1,11):\n",
    "    print(n,'*',i,'=',n*i)"
   ]
  },
  {
   "cell_type": "code",
   "execution_count": 46,
   "id": "8e2cdf87",
   "metadata": {},
   "outputs": [],
   "source": [
    "a=pow(3,2)"
   ]
  },
  {
   "cell_type": "code",
   "execution_count": 47,
   "id": "6538a0a3",
   "metadata": {},
   "outputs": [
    {
     "data": {
      "text/plain": [
       "9"
      ]
     },
     "execution_count": 47,
     "metadata": {},
     "output_type": "execute_result"
    }
   ],
   "source": [
    "a"
   ]
  },
  {
   "cell_type": "code",
   "execution_count": 60,
   "id": "e2afe1df",
   "metadata": {},
   "outputs": [
    {
     "name": "stdout",
     "output_type": "stream",
     "text": [
      "Enter the number : 5\n",
      "Enter the power : 6\n",
      "15625\n"
     ]
    }
   ],
   "source": [
    "n=int(input('Enter the number : '))\n",
    "i=int(input('Enter the power : '))\n",
    "num=n\n",
    "for j in range(1,i):\n",
    "    num=num*n\n",
    "print(num) "
   ]
  },
  {
   "cell_type": "code",
   "execution_count": 66,
   "id": "689a2b3c",
   "metadata": {},
   "outputs": [
    {
     "name": "stdout",
     "output_type": "stream",
     "text": [
      "Enter the number : 5\n",
      "15\n"
     ]
    }
   ],
   "source": [
    "n=int(input('Enter the number : '))\n",
    "sum=0\n",
    "for i in range(1,n+1):\n",
    "    sum+=i\n",
    "    \n",
    "print(sum)"
   ]
  },
  {
   "cell_type": "code",
   "execution_count": 70,
   "id": "f4f10729",
   "metadata": {},
   "outputs": [
    {
     "name": "stdout",
     "output_type": "stream",
     "text": [
      "Enter the number : 7\n",
      "28.0\n"
     ]
    }
   ],
   "source": [
    "n=int(input('Enter the number : '))\n",
    "sum=n*(n+1)/2\n",
    "print(sum)"
   ]
  },
  {
   "cell_type": "code",
   "execution_count": 73,
   "id": "982a1934",
   "metadata": {},
   "outputs": [
    {
     "name": "stdout",
     "output_type": "stream",
     "text": [
      "Enter the number : 4\n",
      "30\n"
     ]
    }
   ],
   "source": [
    "n=int(input('Enter the number : '))\n",
    "sum=0\n",
    "for i in range(1,n+1):\n",
    "    sum=sum+i*i\n",
    "    \n",
    "print(sum)"
   ]
  },
  {
   "cell_type": "code",
   "execution_count": 18,
   "id": "bb459fb9",
   "metadata": {},
   "outputs": [
    {
     "name": "stdout",
     "output_type": "stream",
     "text": [
      "Enter the number : 6\n",
      "720\n"
     ]
    }
   ],
   "source": [
    "n=int(input('Enter the number : '))\n",
    "fact=1\n",
    "if n<0:\n",
    "    print('Sorry, factorial does not exist for negative numbers')\n",
    "elif n==0:\n",
    "    print('The factorial of 0 is 1')\n",
    "else:\n",
    "    for i in range(1,n+1):\n",
    "        fact=fact*i\n",
    "    print(fact)"
   ]
  },
  {
   "cell_type": "code",
   "execution_count": 42,
   "id": "f4ae5f73",
   "metadata": {},
   "outputs": [
    {
     "name": "stdout",
     "output_type": "stream",
     "text": [
      "Enter the number : 7\n",
      "7 is the prime number!\n"
     ]
    }
   ],
   "source": [
    "#prime\n",
    "n=int(input('Enter the number : '))\n",
    "if n < 2:\n",
    "    print('The number is not prime!')\n",
    "else:\n",
    "    for i in range(2,n):\n",
    "        if(n%i==0):\n",
    "            print(n,'Not Prime!')\n",
    "            break\n",
    "    else:\n",
    "        print(n,'is the prime number!')"
   ]
  },
  {
   "cell_type": "code",
   "execution_count": 69,
   "id": "a7c4893f",
   "metadata": {},
   "outputs": [
    {
     "name": "stdout",
     "output_type": "stream",
     "text": [
      "Enter the number of terms : 4\n",
      "Fibonacci sequence :  0 1 1 2 "
     ]
    }
   ],
   "source": [
    "n=int(input('Enter the number of terms : '))\n",
    "fib1=0\n",
    "fib2=1\n",
    "count=0\n",
    "if n <= 0:\n",
    "    print('Please enter the positive number!')\n",
    "elif n==1:\n",
    "    print('Fibonacci sequence upto',n,':',fib1,end=' ')\n",
    "else:\n",
    "    print('Fibonacci sequence : ',fib1,fib2,end=' ')\n",
    "    for i in range(2,n):\n",
    "        count=fib1+fib2\n",
    "        print(count,end=' ')\n",
    "        fib1=fib2\n",
    "        fib2=count"
   ]
  },
  {
   "cell_type": "code",
   "execution_count": 8,
   "id": "7a106fed",
   "metadata": {},
   "outputs": [
    {
     "name": "stdout",
     "output_type": "stream",
     "text": [
      "Enter the number : 3\n",
      "*****\n",
      "*****\n",
      "*****\n"
     ]
    }
   ],
   "source": [
    "n=int(input('Enter the number : '))\n",
    "for i in range(n):\n",
    "    for j in range(5):\n",
    "        print('*',end='')\n",
    "    print()"
   ]
  },
  {
   "cell_type": "code",
   "execution_count": 10,
   "id": "9eb95736",
   "metadata": {},
   "outputs": [
    {
     "name": "stdout",
     "output_type": "stream",
     "text": [
      "Enter the number : 4\n",
      "10 10 10 10 10 \n",
      "10 10 10 10 10 \n",
      "10 10 10 10 10 \n",
      "10 10 10 10 10 \n"
     ]
    }
   ],
   "source": [
    "n=int(input('Enter the number : '))\n",
    "for i in range(n):\n",
    "    for j in range(5):\n",
    "        print('10',end=' ')\n",
    "    print()"
   ]
  },
  {
   "cell_type": "code",
   "execution_count": 11,
   "id": "46035697",
   "metadata": {},
   "outputs": [
    {
     "name": "stdout",
     "output_type": "stream",
     "text": [
      "Enter the number : 5\n",
      "1 1 1 1 1 \n",
      "2 2 2 2 2 \n",
      "3 3 3 3 3 \n",
      "4 4 4 4 4 \n",
      "5 5 5 5 5 \n"
     ]
    }
   ],
   "source": [
    "n=int(input('Enter the number : '))\n",
    "for i in range(1,n+1):\n",
    "    for j in range(5):\n",
    "        print(i,end=' ')\n",
    "    print()"
   ]
  },
  {
   "cell_type": "code",
   "execution_count": 16,
   "id": "113d959c",
   "metadata": {},
   "outputs": [
    {
     "name": "stdout",
     "output_type": "stream",
     "text": [
      "Enter the number : 5\n",
      "1 2 3 4 5 \n",
      "1 2 3 4 5 \n",
      "1 2 3 4 5 \n",
      "1 2 3 4 5 \n",
      "1 2 3 4 5 \n"
     ]
    }
   ],
   "source": [
    "n=int(input('Enter the number : '))\n",
    "for i in range(n):\n",
    "    for j in range(1,6):\n",
    "        print(j,end=' ')\n",
    "    print()"
   ]
  },
  {
   "cell_type": "code",
   "execution_count": 32,
   "id": "0ebb5459",
   "metadata": {},
   "outputs": [
    {
     "name": "stdout",
     "output_type": "stream",
     "text": [
      "Enter the number of row : 5\n",
      "5 4 3 2 1 \n",
      "5 4 3 2 1 \n",
      "5 4 3 2 1 \n",
      "5 4 3 2 1 \n",
      "5 4 3 2 1 \n"
     ]
    }
   ],
   "source": [
    "n=int(input('Enter the number of row : '))\n",
    "for i in range(n):\n",
    "    for j in range(5,0,-1):\n",
    "        print(j,end=' ')\n",
    "    print()"
   ]
  },
  {
   "cell_type": "code",
   "execution_count": 20,
   "id": "b8ab39a0",
   "metadata": {},
   "outputs": [
    {
     "name": "stdout",
     "output_type": "stream",
     "text": [
      "Enter the number of row : 5\n",
      "1 4 9 16 25 \n",
      "1 4 9 16 25 \n",
      "1 4 9 16 25 \n",
      "1 4 9 16 25 \n",
      "1 4 9 16 25 \n"
     ]
    }
   ],
   "source": [
    "n=int(input('Enter the number of row : '))\n",
    "for i in range(n):\n",
    "    for j in range(1,6):\n",
    "        print(j**2,end=' ')\n",
    "    print()"
   ]
  },
  {
   "cell_type": "code",
   "execution_count": 23,
   "id": "c743525b",
   "metadata": {},
   "outputs": [
    {
     "name": "stdout",
     "output_type": "stream",
     "text": [
      "Enter the number of row : 5\n",
      "a a a a a \n",
      "b b b b b \n",
      "c c c c c \n",
      "d d d d d \n",
      "e e e e e \n"
     ]
    }
   ],
   "source": [
    "n=int(input('Enter the number of row : '))\n",
    "for i in range(n):\n",
    "    for j in range(5):\n",
    "        print(chr(97+i),end=' ')\n",
    "    print()"
   ]
  },
  {
   "cell_type": "code",
   "execution_count": 26,
   "id": "faf697b1",
   "metadata": {},
   "outputs": [
    {
     "name": "stdout",
     "output_type": "stream",
     "text": [
      "Enter the number of row : 5\n",
      "a b c d e \n",
      "a b c d e \n",
      "a b c d e \n",
      "a b c d e \n",
      "a b c d e \n"
     ]
    }
   ],
   "source": [
    "n=int(input('Enter the number of row : '))\n",
    "for i in range(n):\n",
    "    for j in range(5):\n",
    "        print(chr(97+j),end=' ')\n",
    "    print()"
   ]
  },
  {
   "cell_type": "code",
   "execution_count": 30,
   "id": "dd39651f",
   "metadata": {},
   "outputs": [
    {
     "name": "stdout",
     "output_type": "stream",
     "text": [
      "Enter the number of row : 5\n",
      "Enter the number of col : 5\n",
      "1 2 3 4 5 \n",
      "6 7 8 9 10 \n",
      "11 12 13 14 15 \n",
      "16 17 18 19 20 \n",
      "21 22 23 24 25 \n"
     ]
    }
   ],
   "source": [
    "n=int(input('Enter the number of row : '))\n",
    "m=int(input('Enter the number of col : '))\n",
    "count=1\n",
    "for i in range(n):\n",
    "    for j in range(1,m+1):\n",
    "        print(count,end=' ')\n",
    "        count +=1\n",
    "    print()"
   ]
  },
  {
   "cell_type": "code",
   "execution_count": 36,
   "id": "9dddcc2c",
   "metadata": {},
   "outputs": [
    {
     "name": "stdout",
     "output_type": "stream",
     "text": [
      "Enter the number of row : 5\n",
      "Enter the number of col : 5\n",
      "1 2 3 4 5 \n",
      "6 7 8 9 10 \n",
      "11 12 13 14 15 \n",
      "16 17 18 19 20 \n",
      "21 22 23 24 25 \n"
     ]
    }
   ],
   "source": [
    "n=int(input('Enter the number of row : '))\n",
    "m=int(input('Enter the number of col : '))\n",
    "\n",
    "for i in range(1,n+1):\n",
    "    for j in range(1,m+1):\n",
    "        num=(i-1)*5+j\n",
    "        print(num,end=' ')\n",
    "    print()"
   ]
  },
  {
   "cell_type": "code",
   "execution_count": 25,
   "id": "99707c24",
   "metadata": {},
   "outputs": [
    {
     "name": "stdout",
     "output_type": "stream",
     "text": [
      "Enter the number of row : 5\n",
      "* \n",
      "* * \n",
      "* * * \n",
      "* * * * \n",
      "* * * * * \n"
     ]
    }
   ],
   "source": [
    "row=int(input('Enter the number of row : '))\n",
    "\n",
    "for i in range(1,row+1):\n",
    "    for j in range(1,i+1):\n",
    "        print('*',end=' ')\n",
    "    print()"
   ]
  },
  {
   "cell_type": "code",
   "execution_count": 24,
   "id": "2791cc7e",
   "metadata": {},
   "outputs": [
    {
     "name": "stdout",
     "output_type": "stream",
     "text": [
      "Enter the number of row : 5\n",
      "1 \n",
      "1 2 \n",
      "1 2 3 \n",
      "1 2 3 4 \n",
      "1 2 3 4 5 \n"
     ]
    }
   ],
   "source": [
    "row=int(input('Enter the number of row : '))\n",
    "for i in range(1,row+1):\n",
    "    for j in range(1,i+1):\n",
    "        print(j,end=' ')\n",
    "    print()"
   ]
  },
  {
   "cell_type": "code",
   "execution_count": 23,
   "id": "3ea6204a",
   "metadata": {},
   "outputs": [
    {
     "name": "stdout",
     "output_type": "stream",
     "text": [
      "Enter the number of row : 5\n",
      "1 \n",
      "2 2 \n",
      "3 3 3 \n",
      "4 4 4 4 \n",
      "5 5 5 5 5 \n"
     ]
    }
   ],
   "source": [
    "row=int(input('Enter the number of row : '))\n",
    "for i in range(1,row+1):\n",
    "    for j in range(1,i+1):\n",
    "        print(i,end=' ')\n",
    "    print()"
   ]
  },
  {
   "cell_type": "code",
   "execution_count": 22,
   "id": "76ef2b53",
   "metadata": {},
   "outputs": [
    {
     "name": "stdout",
     "output_type": "stream",
     "text": [
      "Enter the number of row : 6\n",
      "1 \n",
      "2 1 \n",
      "3 2 1 \n",
      "4 3 2 1 \n",
      "5 4 3 2 1 \n",
      "6 5 4 3 2 1 \n"
     ]
    }
   ],
   "source": [
    "row=int(input('Enter the number of row : '))\n",
    "for i in range(1,row+1):\n",
    "    for j in range(i,0,-1):\n",
    "        print(j,end=' ')\n",
    "    print()\n",
    "        "
   ]
  },
  {
   "cell_type": "code",
   "execution_count": 31,
   "id": "9ce53eb0",
   "metadata": {},
   "outputs": [
    {
     "name": "stdout",
     "output_type": "stream",
     "text": [
      "Enter the number of row : 5\n",
      "a \n",
      "b b \n",
      "c c c \n",
      "d d d d \n",
      "e e e e e \n"
     ]
    }
   ],
   "source": [
    "row=int(input('Enter the number of row : '))\n",
    "for i in range(row):\n",
    "    for j in range(i+1):\n",
    "        print(chr(97+i),end=' ')\n",
    "    print()"
   ]
  },
  {
   "cell_type": "code",
   "execution_count": 39,
   "id": "8c8dbd8e",
   "metadata": {},
   "outputs": [
    {
     "name": "stdout",
     "output_type": "stream",
     "text": [
      "Enter the number of row : 5\n",
      "* * * * * \n",
      "* * * * \n",
      "* * * \n",
      "* * \n",
      "* \n"
     ]
    }
   ],
   "source": [
    "n=int(input('Enter the number of row : '))\n",
    "for row in range(n):\n",
    "    for col in range(n,row,-1):\n",
    "        print('*',end=' ')\n",
    "    print()"
   ]
  },
  {
   "cell_type": "code",
   "execution_count": 45,
   "id": "f8366a3a",
   "metadata": {},
   "outputs": [
    {
     "name": "stdout",
     "output_type": "stream",
     "text": [
      "Enter the number of row : 5\n",
      "1 2 3 4 5 \n",
      "1 2 3 4 \n",
      "1 2 3 \n",
      "1 2 \n",
      "1 \n"
     ]
    }
   ],
   "source": [
    "n=int(input('Enter the number of row : '))\n",
    "for row in range(n,0,-1):\n",
    "    for j in range(1,row+1):\n",
    "        print(j,end=' ')\n",
    "    print()"
   ]
  },
  {
   "cell_type": "code",
   "execution_count": 47,
   "id": "60b8c123",
   "metadata": {},
   "outputs": [
    {
     "name": "stdout",
     "output_type": "stream",
     "text": [
      "Enter the number of row : 5\n",
      "5 4 3 2 1 \n",
      "4 3 2 1 \n",
      "3 2 1 \n",
      "2 1 \n",
      "1 \n"
     ]
    }
   ],
   "source": [
    "n=int(input('Enter the number of row : '))\n",
    "for row in range(n,0,-1):\n",
    "    for j in range(row,0,-1):\n",
    "        print(j,end=' ')\n",
    "    print()"
   ]
  },
  {
   "cell_type": "code",
   "execution_count": 1,
   "id": "6a44fe04",
   "metadata": {},
   "outputs": [
    {
     "name": "stdout",
     "output_type": "stream",
     "text": [
      "Enter the number of row : 5\n",
      "5 \n",
      "5 4 \n",
      "5 4 3 \n",
      "5 4 3 2 \n",
      "5 4 3 2 1 \n"
     ]
    }
   ],
   "source": [
    "n=int(input('Enter the number of row : '))\n",
    "for row in range(n,0,-1):\n",
    "    for j in range(n,row-1,-1):\n",
    "        print(j,end=' ')\n",
    "    print()"
   ]
  },
  {
   "cell_type": "code",
   "execution_count": 13,
   "id": "bd0989d6",
   "metadata": {},
   "outputs": [
    {
     "name": "stdout",
     "output_type": "stream",
     "text": [
      "Enter the number of row : 7\n",
      "      *\n",
      "     **\n",
      "    ***\n",
      "   ****\n",
      "  *****\n",
      " ******\n",
      "*******\n"
     ]
    }
   ],
   "source": [
    "n=int(input('Enter the number of row : '))\n",
    "for row in range(1,n+1):\n",
    "    for j in range(1,n-row+1):\n",
    "        print(' ',end='')\n",
    "    for col in range(1,row+1):\n",
    "        print('*',end='')\n",
    "    print()"
   ]
  },
  {
   "cell_type": "code",
   "execution_count": 21,
   "id": "e29aebf6",
   "metadata": {},
   "outputs": [
    {
     "name": "stdout",
     "output_type": "stream",
     "text": [
      "Enter the number of row : 5\n",
      "    1\n",
      "   22\n",
      "  333\n",
      " 4444\n",
      "55555\n"
     ]
    }
   ],
   "source": [
    "n=int(input('Enter the number of row : '))\n",
    "for row in range(1,n+1):\n",
    "    for j in range(n-row):\n",
    "        print(' ',end='')\n",
    "    for col in range(1,row+1):\n",
    "        print(row,end='')\n",
    "    print()"
   ]
  },
  {
   "cell_type": "code",
   "execution_count": 24,
   "id": "4f670646",
   "metadata": {},
   "outputs": [
    {
     "name": "stdout",
     "output_type": "stream",
     "text": [
      "Enter the number of row : 7\n",
      "            1 \n",
      "          1 2 \n",
      "        1 2 3 \n",
      "      1 2 3 4 \n",
      "    1 2 3 4 5 \n",
      "  1 2 3 4 5 6 \n",
      "1 2 3 4 5 6 7 \n"
     ]
    }
   ],
   "source": [
    "n=int(input('Enter the number of row : '))\n",
    "for row in range(1,n+1):\n",
    "    for j in range(n-row):\n",
    "        print(' ',end=' ')\n",
    "    for col in range(1,row+1):\n",
    "        print(col,end=' ')\n",
    "    print()"
   ]
  },
  {
   "cell_type": "code",
   "execution_count": 28,
   "id": "e3faec75",
   "metadata": {},
   "outputs": [
    {
     "name": "stdout",
     "output_type": "stream",
     "text": [
      "Enter the number of row : 5\n",
      "        A \n",
      "      A B \n",
      "    A B C \n",
      "  A B C D \n",
      "A B C D E \n"
     ]
    }
   ],
   "source": [
    "n=int(input('Enter the number of row : '))\n",
    "for row in range(1,n+1):\n",
    "    for col in range(n-row):\n",
    "        print(' ',end=' ')\n",
    "    for col in range(row):\n",
    "        print(chr(65+col),end=' ')\n",
    "    print()"
   ]
  },
  {
   "cell_type": "code",
   "execution_count": 29,
   "id": "38bafca9",
   "metadata": {},
   "outputs": [
    {
     "name": "stdout",
     "output_type": "stream",
     "text": [
      "Enter the number of row : 6\n",
      "          1 \n",
      "        2 1 \n",
      "      3 2 1 \n",
      "    4 3 2 1 \n",
      "  5 4 3 2 1 \n",
      "6 5 4 3 2 1 \n"
     ]
    }
   ],
   "source": [
    "n=int(input('Enter the number of row : '))\n",
    "for row in range(1,n+1):\n",
    "    for col in range(n-row):\n",
    "        print(' ',end=' ')\n",
    "    for col in range(row,0,-1):\n",
    "        print(col,end=' ')\n",
    "    print()"
   ]
  },
  {
   "cell_type": "code",
   "execution_count": null,
   "id": "06cecb2f",
   "metadata": {},
   "outputs": [],
   "source": [
    "n=int(input('Enter the number of row : '))\n",
    "for "
   ]
  }
 ],
 "metadata": {
  "kernelspec": {
   "display_name": "Python 3 (ipykernel)",
   "language": "python",
   "name": "python3"
  },
  "language_info": {
   "codemirror_mode": {
    "name": "ipython",
    "version": 3
   },
   "file_extension": ".py",
   "mimetype": "text/x-python",
   "name": "python",
   "nbconvert_exporter": "python",
   "pygments_lexer": "ipython3",
   "version": "3.9.7"
  }
 },
 "nbformat": 4,
 "nbformat_minor": 5
}
