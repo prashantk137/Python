{
 "cells": [
  {
   "cell_type": "code",
   "execution_count": null,
   "id": "1ef9737f",
   "metadata": {},
   "outputs": [],
   "source": [
    "1.you have to write a fun which will take string and return a len of it without using a inbuilt fun len.\n",
    "2 . write a fun which will be able to print an index of all premitive element which you will pass.\n",
    "3.Write a fun which will take input as a dict and give me out as a list of all the values even in case of 2 level nesting it should work . \n",
    "4 . write a fun which will take another function as an input and return me an output\n",
    "5. write a function which will take multiple list as a input and give me concatnation of all the element as and output\n",
    "6 . write a function which will be able to take a list as an input return an index of each element like an inbuilt index function but even if we have repetative element it should return index\n",
    "7 . Write a function which will whould return list of all the file name from a directory .\n",
    "8  . write a function which will be able to show your system configuration .\n",
    "9 . write a function which will be able to show date and time  .\n",
    "10 . write a function whihc will be able to read a image file and show it to you .\n",
    "11 . write a function which can read video file and play for you .\n",
    "12  . write a function whihc can move a file from one directory to another directory .\n",
    "13 . write a function which will be able to shutdonw your system .\n",
    "14 . write a function which will be able to access your mail .\n",
    "15 . write a func by which i can send a mail to anyone\n",
    "16. write a func to read a complete PDf file .\n",
    "17. write a function to read a word file .\n",
    "18 . write a function which can help you to filter only word file from a directory .\n",
    "19 . write a function by which you can print an ip address of your system .\n",
    "20 . write a function by which you will be able to append two PDF files ."
   ]
  },
  {
   "cell_type": "code",
   "execution_count": 1,
   "id": "df7f6fec",
   "metadata": {},
   "outputs": [
    {
     "data": {
      "text/plain": [
       "14"
      ]
     },
     "execution_count": 1,
     "metadata": {},
     "output_type": "execute_result"
    }
   ],
   "source": [
    "def fun1(s):\n",
    "    if type(s)==str:\n",
    "        count=0\n",
    "        for i in s:\n",
    "            count+=1\n",
    "        return count\n",
    "fun1(\"Prashant Kumar\")"
   ]
  },
  {
   "cell_type": "code",
   "execution_count": 5,
   "id": "292fd08f",
   "metadata": {},
   "outputs": [
    {
     "name": "stdout",
     "output_type": "stream",
     "text": [
      "Index of 34 is 0\n",
      "Index of 454 is 1\n",
      "Index of 100 is 2\n",
      "Index of prashant is 3\n",
      "Index of 108 is 4\n"
     ]
    }
   ],
   "source": [
    "def fun2(l):\n",
    "    if type(l)==list or type(l)==tuple or type(l)==str:\n",
    "        for i in range(len(l)):\n",
    "            print(f\"Index of {l[i]} is {i}\")\n",
    "fun2([34,454,100,\"prashant\",108])"
   ]
  },
  {
   "cell_type": "code",
   "execution_count": 8,
   "id": "d845af7b",
   "metadata": {},
   "outputs": [
    {
     "data": {
      "text/plain": [
       "[2, 3, 4, 5, 8, 9, 6, 4]"
      ]
     },
     "execution_count": 8,
     "metadata": {},
     "output_type": "execute_result"
    }
   ],
   "source": [
    "def fun3(dic1):\n",
    "    lst=[]\n",
    "    fun3b(dic1,lst)\n",
    "    return lst\n",
    "def fun3a(dic2):\n",
    "    return dic2.values()\n",
    "def fun3b(dic3,lst):\n",
    "    if type(dic3)==dict:\n",
    "        a=fun3a(dic3)\n",
    "        for i in a:\n",
    "            if type(i)==dict:\n",
    "                b=fun3b(i,lst)\n",
    "            else:\n",
    "                lst.append(i)\n",
    "    return lst\n",
    "fun3({\"a\":2,\"b\":3,\"c\":4,\"d\":5,\"e\":{\"f\":6,\"f\":8,\"g\":9,\"h\":{\"i\":6,\"j\":4}}})\n",
    "        "
   ]
  },
  {
   "cell_type": "code",
   "execution_count": 9,
   "id": "d393cf94",
   "metadata": {},
   "outputs": [
    {
     "data": {
      "text/plain": [
       "[2, 3, 4, 5, 6]"
      ]
     },
     "execution_count": 9,
     "metadata": {},
     "output_type": "execute_result"
    }
   ],
   "source": [
    "def fun4a(n):\n",
    "    return list(range(n))\n",
    "def fun4(fun):\n",
    "    if type(fun)==list:\n",
    "        l=[]\n",
    "        for i in fun:\n",
    "            l.append(i+2)\n",
    "        return l\n",
    "fun4(fun4a(5))"
   ]
  },
  {
   "cell_type": "code",
   "execution_count": 15,
   "id": "ecbe8c3e",
   "metadata": {},
   "outputs": [
    {
     "data": {
      "text/plain": [
       "[1,\n",
       " 2,\n",
       " 3,\n",
       " 4,\n",
       " 5,\n",
       " 'a',\n",
       " 'b',\n",
       " 'c',\n",
       " 'd',\n",
       " 'e',\n",
       " 6,\n",
       " 7,\n",
       " 8,\n",
       " 9,\n",
       " 'aa',\n",
       " 'bb',\n",
       " 'cc',\n",
       " 'dd',\n",
       " 'ee',\n",
       " 'ff']"
      ]
     },
     "execution_count": 15,
     "metadata": {},
     "output_type": "execute_result"
    }
   ],
   "source": [
    "def fun5(*args):\n",
    "    l=[]\n",
    "    for i in args:\n",
    "        if type(i)==list:\n",
    "            l=l+i\n",
    "    return l\n",
    "fun5([1,2,3,4,5],['a','b','c','d','e'],[6,7,8,9],['aa','bb','cc','dd','ee','ff'],'prashant','kumar',465758)"
   ]
  },
  {
   "cell_type": "code",
   "execution_count": 29,
   "id": "b1078a0a",
   "metadata": {},
   "outputs": [
    {
     "data": {
      "text/plain": [
       "['Index of 1 is 0',\n",
       " 'Index of 2 is 1',\n",
       " 'Index of 3 is 2',\n",
       " 'Index of 4 is 3',\n",
       " 'Index of 22 is 4',\n",
       " 'Index of 22 is 5']"
      ]
     },
     "execution_count": 29,
     "metadata": {},
     "output_type": "execute_result"
    }
   ],
   "source": [
    "def fun6(lst):\n",
    "    l=[]\n",
    "    if type(lst)==list:\n",
    "        for i in range(len(lst)):\n",
    "            l.append(f\"Index of {lst[i]} is {i}\")\n",
    "    return l\n",
    "fun6([1,2,3,4,22,22])"
   ]
  },
  {
   "cell_type": "code",
   "execution_count": 32,
   "id": "94e5a6f7",
   "metadata": {},
   "outputs": [
    {
     "data": {
      "text/plain": [
       "['.anaconda',\n",
       " '.android',\n",
       " '.AndroidStudio3.5',\n",
       " '.appletviewer',\n",
       " '.bash_history',\n",
       " '.cache',\n",
       " '.conda',\n",
       " '.condarc',\n",
       " '.config',\n",
       " '.continuum',\n",
       " '.dotnet',\n",
       " '.eclipse',\n",
       " '.emulator_console_auth_token',\n",
       " '.gradle',\n",
       " '.idlerc',\n",
       " '.ipynb_checkpoints',\n",
       " '.ipython',\n",
       " '.jupyter',\n",
       " '.m2',\n",
       " '.nbi',\n",
       " '.p2',\n",
       " '.spyder-py3',\n",
       " '.tooling',\n",
       " '.VirtualBox',\n",
       " '.vscode',\n",
       " '21st dec(for,while).ipynb',\n",
       " '3D Objects',\n",
       " 'AndroidStudioProjects',\n",
       " 'AppData',\n",
       " 'Application Data',\n",
       " 'conditional statement.ipynb',\n",
       " 'Contacts',\n",
       " 'Cookies',\n",
       " 'Desktop',\n",
       " 'Documents',\n",
       " 'Downloads',\n",
       " 'eclipse',\n",
       " 'eclipse-workspace',\n",
       " 'Favorites',\n",
       " 'for, while,lambda.ipynb',\n",
       " 'function with argument,iterable,iterator.ipynb',\n",
       " 'Function(23th Dec).ipynb',\n",
       " 'generator,file operation.ipynb',\n",
       " 'IBA_IOAPDATA',\n",
       " 'IntelGraphicsProfiles',\n",
       " 'Links',\n",
       " 'Local Settings',\n",
       " 'MicrosoftEdgeBackups',\n",
       " 'Music',\n",
       " 'My Documents',\n",
       " 'NetHood',\n",
       " 'NTUSER.DAT',\n",
       " 'ntuser.dat.LOG1',\n",
       " 'ntuser.dat.LOG2',\n",
       " 'NTUSER.DAT{1c2b59c6-c5f5-11eb-bacb-000d3a96488e}.TM.blf',\n",
       " 'NTUSER.DAT{1c2b59c6-c5f5-11eb-bacb-000d3a96488e}.TMContainer00000000000000000001.regtrans-ms',\n",
       " 'NTUSER.DAT{1c2b59c6-c5f5-11eb-bacb-000d3a96488e}.TMContainer00000000000000000002.regtrans-ms',\n",
       " 'ntuser.ini',\n",
       " 'OneDrive',\n",
       " 'Oracle',\n",
       " 'Pictures',\n",
       " 'PrintHood',\n",
       " 'Questions.ipynb',\n",
       " 'Recent',\n",
       " 'Saved Games',\n",
       " 'Searches',\n",
       " 'SendTo',\n",
       " 'source',\n",
       " 'Start Menu',\n",
       " 'Teams_windows_x64.exe',\n",
       " 'Templates',\n",
       " 'test.txt',\n",
       " 'test1.txt',\n",
       " 'test2.txt',\n",
       " 'text.txt',\n",
       " 'Tracing',\n",
       " 'Untitled.ipynb',\n",
       " 'Untitled1.ipynb',\n",
       " 'Untitled13.ipynb',\n",
       " 'Untitled14.ipynb',\n",
       " 'Untitled15.ipynb',\n",
       " 'Untitled16.ipynb',\n",
       " 'Untitled17.ipynb',\n",
       " 'Untitled18.ipynb',\n",
       " 'Untitled19.ipynb',\n",
       " 'Untitled2.ipynb',\n",
       " 'Untitled3.ipynb',\n",
       " 'Untitled5.ipynb',\n",
       " 'Untitled6.ipynb',\n",
       " 'Untitled7.ipynb',\n",
       " 'Videos',\n",
       " 'webexapp.msi',\n",
       " 'while.ipynb']"
      ]
     },
     "execution_count": 32,
     "metadata": {},
     "output_type": "execute_result"
    }
   ],
   "source": [
    "def fun7(path):\n",
    "    import os\n",
    "    return os.listdir(path)\n",
    "fun7('C:\\\\Users\\\\PRASHANT KUMAR')"
   ]
  },
  {
   "cell_type": "code",
   "execution_count": 34,
   "id": "53e8af7d",
   "metadata": {},
   "outputs": [
    {
     "data": {
      "text/plain": [
       "uname_result(system='Windows', node='DESKTOP-CE4KH8M', release='10', version='10.0.22000', machine='AMD64')"
      ]
     },
     "execution_count": 34,
     "metadata": {},
     "output_type": "execute_result"
    }
   ],
   "source": [
    "def fun8():\n",
    "    import platform as p1\n",
    "    return p1.uname()\n",
    "fun8()\n"
   ]
  },
  {
   "cell_type": "code",
   "execution_count": 39,
   "id": "17836a9e",
   "metadata": {},
   "outputs": [
    {
     "name": "stdout",
     "output_type": "stream",
     "text": [
      "time.struct_time(tm_year=2022, tm_mon=1, tm_mday=19, tm_hour=10, tm_min=58, tm_sec=42, tm_wday=2, tm_yday=19, tm_isdst=0)\n"
     ]
    },
    {
     "data": {
      "text/plain": [
       "'The Date is 2022-1-19 and the Time is 10:58:42'"
      ]
     },
     "execution_count": 39,
     "metadata": {},
     "output_type": "execute_result"
    }
   ],
   "source": [
    "def fun9():\n",
    "    import subprocess as sb\n",
    "    from subprocess import time\n",
    "    a=time.localtime()\n",
    "    print(a)\n",
    "    Date=str(a[0])+'-'+str(a[1])+'-'+str(a[2])\n",
    "    Time=str(a[3])+':'+str(a[4])+':'+str(a[5])\n",
    "    return f\"The Date is {Date} and the Time is {Time}\"\n",
    "fun9()"
   ]
  },
  {
   "cell_type": "code",
   "execution_count": 42,
   "id": "5153f544",
   "metadata": {},
   "outputs": [
    {
     "name": "stdout",
     "output_type": "stream",
     "text": [
      "Please enter the png file name along with .png extension:IMG_20210802_152310.png\n"
     ]
    },
    {
     "ename": "FileNotFoundError",
     "evalue": "[Errno 2] No such file or directory: 'IMG_20210802_152310.png'",
     "output_type": "error",
     "traceback": [
      "\u001b[1;31m---------------------------------------------------------------------------\u001b[0m",
      "\u001b[1;31mFileNotFoundError\u001b[0m                         Traceback (most recent call last)",
      "\u001b[1;32mC:\\Users\\PRASHA~1\\AppData\\Local\\Temp/ipykernel_10604/3618210916.py\u001b[0m in \u001b[0;36m<module>\u001b[1;34m\u001b[0m\n\u001b[0;32m      5\u001b[0m     \u001b[1;32mreturn\u001b[0m \u001b[0mdisplay\u001b[0m\u001b[1;33m(\u001b[0m\u001b[0mimg\u001b[0m\u001b[1;33m)\u001b[0m\u001b[1;33m\u001b[0m\u001b[1;33m\u001b[0m\u001b[0m\n\u001b[0;32m      6\u001b[0m \u001b[0mfile_name\u001b[0m\u001b[1;33m=\u001b[0m\u001b[0minput\u001b[0m\u001b[1;33m(\u001b[0m\u001b[1;34m\"Please enter the png file name along with .png extension:\"\u001b[0m\u001b[1;33m)\u001b[0m\u001b[1;33m\u001b[0m\u001b[1;33m\u001b[0m\u001b[0m\n\u001b[1;32m----> 7\u001b[1;33m \u001b[0mfun10\u001b[0m\u001b[1;33m(\u001b[0m\u001b[0mfile_name\u001b[0m\u001b[1;33m)\u001b[0m\u001b[1;33m\u001b[0m\u001b[1;33m\u001b[0m\u001b[0m\n\u001b[0m",
      "\u001b[1;32mC:\\Users\\PRASHA~1\\AppData\\Local\\Temp/ipykernel_10604/3618210916.py\u001b[0m in \u001b[0;36mfun10\u001b[1;34m(filename)\u001b[0m\n\u001b[0;32m      2\u001b[0m     \u001b[1;32mimport\u001b[0m \u001b[0mPIL\u001b[0m\u001b[1;33m\u001b[0m\u001b[1;33m\u001b[0m\u001b[0m\n\u001b[0;32m      3\u001b[0m     \u001b[1;32mfrom\u001b[0m \u001b[0mPIL\u001b[0m \u001b[1;32mimport\u001b[0m \u001b[0mImage\u001b[0m\u001b[1;33m\u001b[0m\u001b[1;33m\u001b[0m\u001b[0m\n\u001b[1;32m----> 4\u001b[1;33m     \u001b[0mimg\u001b[0m\u001b[1;33m=\u001b[0m\u001b[0mImage\u001b[0m\u001b[1;33m.\u001b[0m\u001b[0mopen\u001b[0m\u001b[1;33m(\u001b[0m\u001b[0mfilename\u001b[0m\u001b[1;33m,\u001b[0m\u001b[1;34m\"r\"\u001b[0m\u001b[1;33m)\u001b[0m\u001b[1;33m\u001b[0m\u001b[1;33m\u001b[0m\u001b[0m\n\u001b[0m\u001b[0;32m      5\u001b[0m     \u001b[1;32mreturn\u001b[0m \u001b[0mdisplay\u001b[0m\u001b[1;33m(\u001b[0m\u001b[0mimg\u001b[0m\u001b[1;33m)\u001b[0m\u001b[1;33m\u001b[0m\u001b[1;33m\u001b[0m\u001b[0m\n\u001b[0;32m      6\u001b[0m \u001b[0mfile_name\u001b[0m\u001b[1;33m=\u001b[0m\u001b[0minput\u001b[0m\u001b[1;33m(\u001b[0m\u001b[1;34m\"Please enter the png file name along with .png extension:\"\u001b[0m\u001b[1;33m)\u001b[0m\u001b[1;33m\u001b[0m\u001b[1;33m\u001b[0m\u001b[0m\n",
      "\u001b[1;32mC:\\ProgramData\\Anaconda3\\lib\\site-packages\\PIL\\Image.py\u001b[0m in \u001b[0;36mopen\u001b[1;34m(fp, mode, formats)\u001b[0m\n\u001b[0;32m   2973\u001b[0m \u001b[1;33m\u001b[0m\u001b[0m\n\u001b[0;32m   2974\u001b[0m     \u001b[1;32mif\u001b[0m \u001b[0mfilename\u001b[0m\u001b[1;33m:\u001b[0m\u001b[1;33m\u001b[0m\u001b[1;33m\u001b[0m\u001b[0m\n\u001b[1;32m-> 2975\u001b[1;33m         \u001b[0mfp\u001b[0m \u001b[1;33m=\u001b[0m \u001b[0mbuiltins\u001b[0m\u001b[1;33m.\u001b[0m\u001b[0mopen\u001b[0m\u001b[1;33m(\u001b[0m\u001b[0mfilename\u001b[0m\u001b[1;33m,\u001b[0m \u001b[1;34m\"rb\"\u001b[0m\u001b[1;33m)\u001b[0m\u001b[1;33m\u001b[0m\u001b[1;33m\u001b[0m\u001b[0m\n\u001b[0m\u001b[0;32m   2976\u001b[0m         \u001b[0mexclusive_fp\u001b[0m \u001b[1;33m=\u001b[0m \u001b[1;32mTrue\u001b[0m\u001b[1;33m\u001b[0m\u001b[1;33m\u001b[0m\u001b[0m\n\u001b[0;32m   2977\u001b[0m \u001b[1;33m\u001b[0m\u001b[0m\n",
      "\u001b[1;31mFileNotFoundError\u001b[0m: [Errno 2] No such file or directory: 'IMG_20210802_152310.png'"
     ]
    }
   ],
   "source": [
    "def fun10(filename):\n",
    "    import PIL\n",
    "    from PIL import Image\n",
    "    img=Image.open(filename,\"r\")\n",
    "    return display(img)\n",
    "file_name=input(\"Please enter the png file name along with .png extension:\")\n",
    "fun10(file_name)"
   ]
  },
  {
   "cell_type": "code",
   "execution_count": 43,
   "id": "81cf4dd6",
   "metadata": {},
   "outputs": [
    {
     "name": "stdout",
     "output_type": "stream",
     "text": [
      "Please enter the source directory pathjhfffhgh\n",
      "Please enter the destination directory pathbvvy\n"
     ]
    },
    {
     "ename": "FileNotFoundError",
     "evalue": "[Errno 2] No such file or directory: 'jhfffhgh'",
     "output_type": "error",
     "traceback": [
      "\u001b[1;31m---------------------------------------------------------------------------\u001b[0m",
      "\u001b[1;31mFileNotFoundError\u001b[0m                         Traceback (most recent call last)",
      "\u001b[1;32mC:\\ProgramData\\Anaconda3\\lib\\shutil.py\u001b[0m in \u001b[0;36mmove\u001b[1;34m(src, dst, copy_function)\u001b[0m\n\u001b[0;32m    813\u001b[0m     \u001b[1;32mtry\u001b[0m\u001b[1;33m:\u001b[0m\u001b[1;33m\u001b[0m\u001b[1;33m\u001b[0m\u001b[0m\n\u001b[1;32m--> 814\u001b[1;33m         \u001b[0mos\u001b[0m\u001b[1;33m.\u001b[0m\u001b[0mrename\u001b[0m\u001b[1;33m(\u001b[0m\u001b[0msrc\u001b[0m\u001b[1;33m,\u001b[0m \u001b[0mreal_dst\u001b[0m\u001b[1;33m)\u001b[0m\u001b[1;33m\u001b[0m\u001b[1;33m\u001b[0m\u001b[0m\n\u001b[0m\u001b[0;32m    815\u001b[0m     \u001b[1;32mexcept\u001b[0m \u001b[0mOSError\u001b[0m\u001b[1;33m:\u001b[0m\u001b[1;33m\u001b[0m\u001b[1;33m\u001b[0m\u001b[0m\n",
      "\u001b[1;31mFileNotFoundError\u001b[0m: [WinError 2] The system cannot find the file specified: 'jhfffhgh' -> 'bvvy'",
      "\nDuring handling of the above exception, another exception occurred:\n",
      "\u001b[1;31mFileNotFoundError\u001b[0m                         Traceback (most recent call last)",
      "\u001b[1;32mC:\\Users\\PRASHA~1\\AppData\\Local\\Temp/ipykernel_10604/2209031942.py\u001b[0m in \u001b[0;36m<module>\u001b[1;34m\u001b[0m\n\u001b[0;32m      4\u001b[0m \u001b[0msrc_path\u001b[0m\u001b[1;33m=\u001b[0m\u001b[0minput\u001b[0m\u001b[1;33m(\u001b[0m\u001b[1;34m\"Please enter the source directory path\"\u001b[0m\u001b[1;33m)\u001b[0m\u001b[1;33m\u001b[0m\u001b[1;33m\u001b[0m\u001b[0m\n\u001b[0;32m      5\u001b[0m \u001b[0mdst_path\u001b[0m\u001b[1;33m=\u001b[0m\u001b[0minput\u001b[0m\u001b[1;33m(\u001b[0m\u001b[1;34m\"Please enter the destination directory path\"\u001b[0m\u001b[1;33m)\u001b[0m\u001b[1;33m\u001b[0m\u001b[1;33m\u001b[0m\u001b[0m\n\u001b[1;32m----> 6\u001b[1;33m \u001b[0mfun12\u001b[0m\u001b[1;33m(\u001b[0m\u001b[0msrc_path\u001b[0m\u001b[1;33m,\u001b[0m\u001b[0mdst_path\u001b[0m\u001b[1;33m)\u001b[0m\u001b[1;33m\u001b[0m\u001b[1;33m\u001b[0m\u001b[0m\n\u001b[0m",
      "\u001b[1;32mC:\\Users\\PRASHA~1\\AppData\\Local\\Temp/ipykernel_10604/2209031942.py\u001b[0m in \u001b[0;36mfun12\u001b[1;34m(src_path, dst_path)\u001b[0m\n\u001b[0;32m      1\u001b[0m \u001b[1;32mdef\u001b[0m \u001b[0mfun12\u001b[0m\u001b[1;33m(\u001b[0m\u001b[0msrc_path\u001b[0m\u001b[1;33m,\u001b[0m\u001b[0mdst_path\u001b[0m\u001b[1;33m)\u001b[0m\u001b[1;33m:\u001b[0m\u001b[1;33m\u001b[0m\u001b[1;33m\u001b[0m\u001b[0m\n\u001b[0;32m      2\u001b[0m     \u001b[1;32mimport\u001b[0m \u001b[0mshutil\u001b[0m\u001b[1;33m\u001b[0m\u001b[1;33m\u001b[0m\u001b[0m\n\u001b[1;32m----> 3\u001b[1;33m     \u001b[0mshutil\u001b[0m\u001b[1;33m.\u001b[0m\u001b[0mmove\u001b[0m\u001b[1;33m(\u001b[0m\u001b[0msrc_path\u001b[0m\u001b[1;33m,\u001b[0m\u001b[0mdst_path\u001b[0m\u001b[1;33m)\u001b[0m\u001b[1;33m\u001b[0m\u001b[1;33m\u001b[0m\u001b[0m\n\u001b[0m\u001b[0;32m      4\u001b[0m \u001b[0msrc_path\u001b[0m\u001b[1;33m=\u001b[0m\u001b[0minput\u001b[0m\u001b[1;33m(\u001b[0m\u001b[1;34m\"Please enter the source directory path\"\u001b[0m\u001b[1;33m)\u001b[0m\u001b[1;33m\u001b[0m\u001b[1;33m\u001b[0m\u001b[0m\n\u001b[0;32m      5\u001b[0m \u001b[0mdst_path\u001b[0m\u001b[1;33m=\u001b[0m\u001b[0minput\u001b[0m\u001b[1;33m(\u001b[0m\u001b[1;34m\"Please enter the destination directory path\"\u001b[0m\u001b[1;33m)\u001b[0m\u001b[1;33m\u001b[0m\u001b[1;33m\u001b[0m\u001b[0m\n",
      "\u001b[1;32mC:\\ProgramData\\Anaconda3\\lib\\shutil.py\u001b[0m in \u001b[0;36mmove\u001b[1;34m(src, dst, copy_function)\u001b[0m\n\u001b[0;32m    832\u001b[0m             \u001b[0mrmtree\u001b[0m\u001b[1;33m(\u001b[0m\u001b[0msrc\u001b[0m\u001b[1;33m)\u001b[0m\u001b[1;33m\u001b[0m\u001b[1;33m\u001b[0m\u001b[0m\n\u001b[0;32m    833\u001b[0m         \u001b[1;32melse\u001b[0m\u001b[1;33m:\u001b[0m\u001b[1;33m\u001b[0m\u001b[1;33m\u001b[0m\u001b[0m\n\u001b[1;32m--> 834\u001b[1;33m             \u001b[0mcopy_function\u001b[0m\u001b[1;33m(\u001b[0m\u001b[0msrc\u001b[0m\u001b[1;33m,\u001b[0m \u001b[0mreal_dst\u001b[0m\u001b[1;33m)\u001b[0m\u001b[1;33m\u001b[0m\u001b[1;33m\u001b[0m\u001b[0m\n\u001b[0m\u001b[0;32m    835\u001b[0m             \u001b[0mos\u001b[0m\u001b[1;33m.\u001b[0m\u001b[0munlink\u001b[0m\u001b[1;33m(\u001b[0m\u001b[0msrc\u001b[0m\u001b[1;33m)\u001b[0m\u001b[1;33m\u001b[0m\u001b[1;33m\u001b[0m\u001b[0m\n\u001b[0;32m    836\u001b[0m     \u001b[1;32mreturn\u001b[0m \u001b[0mreal_dst\u001b[0m\u001b[1;33m\u001b[0m\u001b[1;33m\u001b[0m\u001b[0m\n",
      "\u001b[1;32mC:\\ProgramData\\Anaconda3\\lib\\shutil.py\u001b[0m in \u001b[0;36mcopy2\u001b[1;34m(src, dst, follow_symlinks)\u001b[0m\n\u001b[0;32m    441\u001b[0m     \u001b[1;32mif\u001b[0m \u001b[0mos\u001b[0m\u001b[1;33m.\u001b[0m\u001b[0mpath\u001b[0m\u001b[1;33m.\u001b[0m\u001b[0misdir\u001b[0m\u001b[1;33m(\u001b[0m\u001b[0mdst\u001b[0m\u001b[1;33m)\u001b[0m\u001b[1;33m:\u001b[0m\u001b[1;33m\u001b[0m\u001b[1;33m\u001b[0m\u001b[0m\n\u001b[0;32m    442\u001b[0m         \u001b[0mdst\u001b[0m \u001b[1;33m=\u001b[0m \u001b[0mos\u001b[0m\u001b[1;33m.\u001b[0m\u001b[0mpath\u001b[0m\u001b[1;33m.\u001b[0m\u001b[0mjoin\u001b[0m\u001b[1;33m(\u001b[0m\u001b[0mdst\u001b[0m\u001b[1;33m,\u001b[0m \u001b[0mos\u001b[0m\u001b[1;33m.\u001b[0m\u001b[0mpath\u001b[0m\u001b[1;33m.\u001b[0m\u001b[0mbasename\u001b[0m\u001b[1;33m(\u001b[0m\u001b[0msrc\u001b[0m\u001b[1;33m)\u001b[0m\u001b[1;33m)\u001b[0m\u001b[1;33m\u001b[0m\u001b[1;33m\u001b[0m\u001b[0m\n\u001b[1;32m--> 443\u001b[1;33m     \u001b[0mcopyfile\u001b[0m\u001b[1;33m(\u001b[0m\u001b[0msrc\u001b[0m\u001b[1;33m,\u001b[0m \u001b[0mdst\u001b[0m\u001b[1;33m,\u001b[0m \u001b[0mfollow_symlinks\u001b[0m\u001b[1;33m=\u001b[0m\u001b[0mfollow_symlinks\u001b[0m\u001b[1;33m)\u001b[0m\u001b[1;33m\u001b[0m\u001b[1;33m\u001b[0m\u001b[0m\n\u001b[0m\u001b[0;32m    444\u001b[0m     \u001b[0mcopystat\u001b[0m\u001b[1;33m(\u001b[0m\u001b[0msrc\u001b[0m\u001b[1;33m,\u001b[0m \u001b[0mdst\u001b[0m\u001b[1;33m,\u001b[0m \u001b[0mfollow_symlinks\u001b[0m\u001b[1;33m=\u001b[0m\u001b[0mfollow_symlinks\u001b[0m\u001b[1;33m)\u001b[0m\u001b[1;33m\u001b[0m\u001b[1;33m\u001b[0m\u001b[0m\n\u001b[0;32m    445\u001b[0m     \u001b[1;32mreturn\u001b[0m \u001b[0mdst\u001b[0m\u001b[1;33m\u001b[0m\u001b[1;33m\u001b[0m\u001b[0m\n",
      "\u001b[1;32mC:\\ProgramData\\Anaconda3\\lib\\shutil.py\u001b[0m in \u001b[0;36mcopyfile\u001b[1;34m(src, dst, follow_symlinks)\u001b[0m\n\u001b[0;32m    263\u001b[0m     \u001b[1;32melse\u001b[0m\u001b[1;33m:\u001b[0m\u001b[1;33m\u001b[0m\u001b[1;33m\u001b[0m\u001b[0m\n\u001b[0;32m    264\u001b[0m         \u001b[1;32mtry\u001b[0m\u001b[1;33m:\u001b[0m\u001b[1;33m\u001b[0m\u001b[1;33m\u001b[0m\u001b[0m\n\u001b[1;32m--> 265\u001b[1;33m             \u001b[1;32mwith\u001b[0m \u001b[0mopen\u001b[0m\u001b[1;33m(\u001b[0m\u001b[0msrc\u001b[0m\u001b[1;33m,\u001b[0m \u001b[1;34m'rb'\u001b[0m\u001b[1;33m)\u001b[0m \u001b[1;32mas\u001b[0m \u001b[0mfsrc\u001b[0m\u001b[1;33m,\u001b[0m \u001b[0mopen\u001b[0m\u001b[1;33m(\u001b[0m\u001b[0mdst\u001b[0m\u001b[1;33m,\u001b[0m \u001b[1;34m'wb'\u001b[0m\u001b[1;33m)\u001b[0m \u001b[1;32mas\u001b[0m \u001b[0mfdst\u001b[0m\u001b[1;33m:\u001b[0m\u001b[1;33m\u001b[0m\u001b[1;33m\u001b[0m\u001b[0m\n\u001b[0m\u001b[0;32m    266\u001b[0m                 \u001b[1;31m# macOS\u001b[0m\u001b[1;33m\u001b[0m\u001b[1;33m\u001b[0m\u001b[0m\n\u001b[0;32m    267\u001b[0m                 \u001b[1;32mif\u001b[0m \u001b[0m_HAS_FCOPYFILE\u001b[0m\u001b[1;33m:\u001b[0m\u001b[1;33m\u001b[0m\u001b[1;33m\u001b[0m\u001b[0m\n",
      "\u001b[1;31mFileNotFoundError\u001b[0m: [Errno 2] No such file or directory: 'jhfffhgh'"
     ]
    }
   ],
   "source": [
    "def fun12(src_path,dst_path):\n",
    "    import shutil\n",
    "    shutil.move(src_path,dst_path)\n",
    "src_path=input(\"Please enter the source directory path\")\n",
    "dst_path=input(\"Please enter the destination directory path\")\n",
    "fun12(src_path,dst_path)"
   ]
  },
  {
   "cell_type": "code",
   "execution_count": 44,
   "id": "6e3c39ce",
   "metadata": {},
   "outputs": [
    {
     "data": {
      "text/plain": [
       "'C:\\\\Users\\\\PRASHANT KUMAR'"
      ]
     },
     "execution_count": 44,
     "metadata": {},
     "output_type": "execute_result"
    }
   ],
   "source": [
    "import os\n",
    "os.getcwd()"
   ]
  },
  {
   "cell_type": "code",
   "execution_count": null,
   "id": "cabbdea2",
   "metadata": {},
   "outputs": [],
   "source": [
    "def fun13():\n",
    "    import os\n",
    "    os.system(\"shutdown /s/t 1\")\n",
    "fun13()"
   ]
  },
  {
   "cell_type": "code",
   "execution_count": 46,
   "id": "8d9e1b6a",
   "metadata": {},
   "outputs": [
    {
     "name": "stdout",
     "output_type": "stream",
     "text": [
      "Please enter the pdf file name10th marks\n"
     ]
    },
    {
     "ename": "ModuleNotFoundError",
     "evalue": "No module named 'PyPDF2'",
     "output_type": "error",
     "traceback": [
      "\u001b[1;31m---------------------------------------------------------------------------\u001b[0m",
      "\u001b[1;31mModuleNotFoundError\u001b[0m                       Traceback (most recent call last)",
      "\u001b[1;32mC:\\Users\\PRASHA~1\\AppData\\Local\\Temp/ipykernel_10604/3229691854.py\u001b[0m in \u001b[0;36m<module>\u001b[1;34m\u001b[0m\n\u001b[0;32m      9\u001b[0m \u001b[0mfile_name\u001b[0m\u001b[1;33m=\u001b[0m\u001b[0minput\u001b[0m\u001b[1;33m(\u001b[0m\u001b[1;34m'Please enter the pdf file name'\u001b[0m\u001b[1;33m)\u001b[0m\u001b[1;33m\u001b[0m\u001b[1;33m\u001b[0m\u001b[0m\n\u001b[0;32m     10\u001b[0m \u001b[1;33m\u001b[0m\u001b[0m\n\u001b[1;32m---> 11\u001b[1;33m \u001b[0mfun16\u001b[0m\u001b[1;33m(\u001b[0m\u001b[0mfile_name\u001b[0m\u001b[1;33m)\u001b[0m\u001b[1;33m\u001b[0m\u001b[1;33m\u001b[0m\u001b[0m\n\u001b[0m",
      "\u001b[1;32mC:\\Users\\PRASHA~1\\AppData\\Local\\Temp/ipykernel_10604/3229691854.py\u001b[0m in \u001b[0;36mfun16\u001b[1;34m(filename)\u001b[0m\n\u001b[0;32m      1\u001b[0m \u001b[1;32mdef\u001b[0m \u001b[0mfun16\u001b[0m\u001b[1;33m(\u001b[0m\u001b[0mfilename\u001b[0m\u001b[1;33m)\u001b[0m\u001b[1;33m:\u001b[0m\u001b[1;33m\u001b[0m\u001b[1;33m\u001b[0m\u001b[0m\n\u001b[1;32m----> 2\u001b[1;33m     \u001b[1;32mimport\u001b[0m \u001b[0mPyPDF2\u001b[0m \u001b[1;32mas\u001b[0m \u001b[0mpdf\u001b[0m\u001b[1;33m\u001b[0m\u001b[1;33m\u001b[0m\u001b[0m\n\u001b[0m\u001b[0;32m      3\u001b[0m     \u001b[0mf\u001b[0m\u001b[1;33m=\u001b[0m\u001b[0mopen\u001b[0m\u001b[1;33m(\u001b[0m\u001b[0mfilename\u001b[0m\u001b[1;33m+\u001b[0m\u001b[1;34m'.pdf'\u001b[0m\u001b[1;33m,\u001b[0m\u001b[1;34m'rb'\u001b[0m\u001b[1;33m)\u001b[0m\u001b[1;33m\u001b[0m\u001b[1;33m\u001b[0m\u001b[0m\n\u001b[0;32m      4\u001b[0m     \u001b[0mprint\u001b[0m\u001b[1;33m(\u001b[0m\u001b[0mf\u001b[0m\u001b[1;33m)\u001b[0m\u001b[1;33m\u001b[0m\u001b[1;33m\u001b[0m\u001b[0m\n\u001b[0;32m      5\u001b[0m     \u001b[0mf_read\u001b[0m\u001b[1;33m=\u001b[0m\u001b[0mpdf\u001b[0m\u001b[1;33m.\u001b[0m\u001b[0mpdfFileReader\u001b[0m\u001b[1;33m(\u001b[0m\u001b[0mf\u001b[0m\u001b[1;33m)\u001b[0m\u001b[1;33m\u001b[0m\u001b[1;33m\u001b[0m\u001b[0m\n",
      "\u001b[1;31mModuleNotFoundError\u001b[0m: No module named 'PyPDF2'"
     ]
    }
   ],
   "source": [
    "def fun16(filename):\n",
    "    import PyPDF2 as pdf\n",
    "    f=open(filename+'.pdf','rb')\n",
    "    print(f)\n",
    "    f_read=pdf.pdfFileReader(f)\n",
    "    f_page=f_read.getpage(0)\n",
    "    print(f_page.extractText())\n",
    "    f.close()\n",
    "file_name=input('Please enter the pdf file name')\n",
    "\n",
    "fun16(file_name)\n",
    "#we have to download package pypdf2"
   ]
  },
  {
   "cell_type": "code",
   "execution_count": 47,
   "id": "5cfba631",
   "metadata": {},
   "outputs": [
    {
     "name": "stdout",
     "output_type": "stream",
     "text": [
      "Please enter the word file name without extension:INTERNSHIP REQUEST Form\n"
     ]
    },
    {
     "ename": "FileNotFoundError",
     "evalue": "[Errno 2] No such file or directory: 'INTERNSHIP REQUEST Form.doc'",
     "output_type": "error",
     "traceback": [
      "\u001b[1;31m---------------------------------------------------------------------------\u001b[0m",
      "\u001b[1;31mFileNotFoundError\u001b[0m                         Traceback (most recent call last)",
      "\u001b[1;32mC:\\Users\\PRASHA~1\\AppData\\Local\\Temp/ipykernel_10604/1021802595.py\u001b[0m in \u001b[0;36m<module>\u001b[1;34m\u001b[0m\n\u001b[0;32m      3\u001b[0m     \u001b[0mprint\u001b[0m\u001b[1;33m(\u001b[0m\u001b[0mf\u001b[0m\u001b[1;33m.\u001b[0m\u001b[0mread\u001b[0m\u001b[1;33m(\u001b[0m\u001b[1;33m)\u001b[0m\u001b[1;33m)\u001b[0m\u001b[1;33m\u001b[0m\u001b[1;33m\u001b[0m\u001b[0m\n\u001b[0;32m      4\u001b[0m \u001b[0mfilename\u001b[0m\u001b[1;33m=\u001b[0m\u001b[0minput\u001b[0m\u001b[1;33m(\u001b[0m\u001b[1;34m'Please enter the word file name without extension:'\u001b[0m\u001b[1;33m)\u001b[0m\u001b[1;33m\u001b[0m\u001b[1;33m\u001b[0m\u001b[0m\n\u001b[1;32m----> 5\u001b[1;33m \u001b[0mfun17\u001b[0m\u001b[1;33m(\u001b[0m\u001b[0mfilename\u001b[0m\u001b[1;33m)\u001b[0m\u001b[1;33m\u001b[0m\u001b[1;33m\u001b[0m\u001b[0m\n\u001b[0m",
      "\u001b[1;32mC:\\Users\\PRASHA~1\\AppData\\Local\\Temp/ipykernel_10604/1021802595.py\u001b[0m in \u001b[0;36mfun17\u001b[1;34m(filename)\u001b[0m\n\u001b[0;32m      1\u001b[0m \u001b[1;32mdef\u001b[0m \u001b[0mfun17\u001b[0m\u001b[1;33m(\u001b[0m\u001b[0mfilename\u001b[0m\u001b[1;33m)\u001b[0m\u001b[1;33m:\u001b[0m\u001b[1;33m\u001b[0m\u001b[1;33m\u001b[0m\u001b[0m\n\u001b[1;32m----> 2\u001b[1;33m     \u001b[0mf\u001b[0m\u001b[1;33m=\u001b[0m\u001b[0mopen\u001b[0m\u001b[1;33m(\u001b[0m\u001b[0mfilename\u001b[0m\u001b[1;33m+\u001b[0m\u001b[1;34m'.doc'\u001b[0m\u001b[1;33m,\u001b[0m\u001b[1;34m'r'\u001b[0m\u001b[1;33m)\u001b[0m\u001b[1;33m\u001b[0m\u001b[1;33m\u001b[0m\u001b[0m\n\u001b[0m\u001b[0;32m      3\u001b[0m     \u001b[0mprint\u001b[0m\u001b[1;33m(\u001b[0m\u001b[0mf\u001b[0m\u001b[1;33m.\u001b[0m\u001b[0mread\u001b[0m\u001b[1;33m(\u001b[0m\u001b[1;33m)\u001b[0m\u001b[1;33m)\u001b[0m\u001b[1;33m\u001b[0m\u001b[1;33m\u001b[0m\u001b[0m\n\u001b[0;32m      4\u001b[0m \u001b[0mfilename\u001b[0m\u001b[1;33m=\u001b[0m\u001b[0minput\u001b[0m\u001b[1;33m(\u001b[0m\u001b[1;34m'Please enter the word file name without extension:'\u001b[0m\u001b[1;33m)\u001b[0m\u001b[1;33m\u001b[0m\u001b[1;33m\u001b[0m\u001b[0m\n\u001b[0;32m      5\u001b[0m \u001b[0mfun17\u001b[0m\u001b[1;33m(\u001b[0m\u001b[0mfilename\u001b[0m\u001b[1;33m)\u001b[0m\u001b[1;33m\u001b[0m\u001b[1;33m\u001b[0m\u001b[0m\n",
      "\u001b[1;31mFileNotFoundError\u001b[0m: [Errno 2] No such file or directory: 'INTERNSHIP REQUEST Form.doc'"
     ]
    }
   ],
   "source": [
    "def fun17(filename):\n",
    "    f=open(filename+'.doc','r')\n",
    "    print(f.read())\n",
    "filename=input('Please enter the word file name without extension:')\n",
    "fun17(filename)"
   ]
  },
  {
   "cell_type": "code",
   "execution_count": 48,
   "id": "15e0f798",
   "metadata": {},
   "outputs": [
    {
     "name": "stdout",
     "output_type": "stream",
     "text": [
      "Please enter the directory path to list all .doc files in it:F:\\Myself\n",
      "\n",
      "List of all .doc files are:\n",
      " ['Thakur.doc']\n",
      "\n",
      "\n",
      "List of all file in the directory:\n",
      " [('F:\\\\Myself', [], ['0103IT171072,PRASHANT KUMAR,BEGUSARAI.jpeg', '0103IT171072,PRASHANT KUMAR,Begusarai.jpg', '0103IT171072_Prashant Kumar.jpg', '1 (2).jpg', '10th marks.jpg', '10th marks.pdf', '10th Marksheet.jpg', '10th(conversion).pdf', '10th,12th marks.pdf', '12th marks.jpg', '12th marks.pdf', '1st Sem.pdf', '1To5sem.pdf', '2nd Sem.pdf', '2nd year fee.pdf', '3rd sem cs syllabus.pdf', '3rd Sem exam date.pdf', '3rd sem result.pdf', '3rd sem scheme.pdf', '3rd Sem.pdf', '3rd year fee.pdf', '4th sem result.pdf', '4th Sem.pdf', '5th Sem.pdf', '6th sem.pdf', '7th sem admit card.pdf', '7th Sem.pdf', '8 mid sem.pdf', '8 sem syllabus.pdf', '888.jpg', '8th Sem Marksheet.pdf', '8th Sem.pdf', '@PRASHANT KUMAR.pdf', 'AcknowledgementSlip420240b6-ab91-4900-ae63-86a3081c7382.pdf', 'Admit Card 3rd sem.pdf', 'Admit Card 4th sem.pdf', 'Age declaration.jpg', 'ak.jpg', 'Application-SGI216M003644(NAVY).pdf', 'Application.jpg', 'B.Tech(conversion).pdf', 'bank statement.pdf', 'Campus Interview.eml', 'certificate(vaccine1).pdf', 'Cloud Computing.pdf', 'COLLEGE ID.jpg', 'College ID.pdf', 'debug.log', 'DT20184324989.zip', 'DT20184324989_Application.pdf', 'EAadhaar.pdf', 'Fee Structure.pdf', 'frm_download_fileStu (1).pdf', 'IMG-20200616-WA0002.jpg', 'IMG_20201225_124102.jpg', 'IMG_20210303_105521.jpg', 'IMG_20210303_105547.jpg', 'IMG_20210303_105725.jpg', 'IMG_20210303_105906.jpg', 'IMG_20210303_105951.jpg', 'IMG_20210303_110033.jpg', 'INTERNSHIP REQUEST Form.docx', 'IoT Lab.pdf', 'lavi.txt', 'LNCT 4th fee.pdf', 'major PROJECT DOCUMENT.pdf', 'MAJOR PROJECT REPORT.pdf', 'MicrosoftCertificate.pdf', 'NATS Details.pdf', 'nirmal resume.pdf', 'PAN CARD.jpg', 'PASSPORT FORM.pdf', 'PASSPORT PAYMENT RECEIPT.pdf', 'PASSPORT RECEIPT.pdf', 'PK.jpeg', 'pnb passbook.pdf', 'PRASHANT KUMAR  (0103IT171072).docx', 'PRASHANT KUMAR  [DXC ].docx', 'PRASHANT KUMAR  [DXC ].pdf', 'PRASHANT KUMAR (1).docx', 'PRASHANT KUMAR (IT).docx', 'PRASHANT KUMAR@.pdf', 'PRASHANT KUMAR@1.pdf', 'PRASHANT Resume.pdf', 'PSP (1).jpg', 'PSP.jpg', 'rc.jpg', 'residence proof.pdf', 'Resume.pdf', 'signature.jpeg', 'Soft Computing.pdf', 'students feedback form(Prashant Kumar).pdf', 'Sumit Bhaijee.pdf', 'Thakur.doc', 'Vaccine 1.pdf', 'Vaccine2.pdf', 'vikash.pdf'])]\n"
     ]
    }
   ],
   "source": [
    "def fun18(file_path):\n",
    "    import os\n",
    "    a=os.walk(file_path)\n",
    "    l=[]\n",
    "    dir_lst=list(a)\n",
    "    import re\n",
    "    pattern = re.compile(r\"\\.doc$\")\n",
    "    for lst in dir_lst:\n",
    "        if type(lst)==tuple:\n",
    "            for direct in lst:\n",
    "                if type(direct)==list:\n",
    "                    for file in direct:\n",
    "                        matches=pattern.finditer(file)\n",
    "                        for match in matches:\n",
    "                            l.append(file)\n",
    "    return l,dir_lst\n",
    "directory_path=input(\"Please enter the directory path to list all .doc files in it:\")\n",
    "doc_lst,dir_lst=fun18(directory_path)\n",
    "print(\"\\nList of all .doc files are:\\n\",doc_lst)\n",
    "print(\"\\n\")\n",
    "print(\"List of all file in the directory:\\n\",dir_lst)"
   ]
  },
  {
   "cell_type": "code",
   "execution_count": 50,
   "id": "17182b0a",
   "metadata": {},
   "outputs": [
    {
     "name": "stdout",
     "output_type": "stream",
     "text": [
      "System name is DESKTOP-CE4KH8M and IP address is 192.168.43.44\n"
     ]
    }
   ],
   "source": [
    "def fun19():\n",
    "    import socket\n",
    "    name=socket.gethostname()\n",
    "    IP_address=socket.gethostbyname(name)\n",
    "    print(f\"System name is {name} and IP address is {IP_address}\")\n",
    "fun19()"
   ]
  },
  {
   "cell_type": "code",
   "execution_count": 1,
   "id": "9008b08a",
   "metadata": {},
   "outputs": [
    {
     "ename": "NameError",
     "evalue": "name 'file_1' is not defined",
     "output_type": "error",
     "traceback": [
      "\u001b[1;31m---------------------------------------------------------------------------\u001b[0m",
      "\u001b[1;31mNameError\u001b[0m                                 Traceback (most recent call last)",
      "\u001b[1;32mC:\\Users\\PRASHA~1\\AppData\\Local\\Temp/ipykernel_1188/4038127594.py\u001b[0m in \u001b[0;36m<module>\u001b[1;34m\u001b[0m\n\u001b[0;32m     20\u001b[0m     \u001b[0mfile_2\u001b[0m\u001b[1;33m=\u001b[0m\u001b[0minput\u001b[0m\u001b[1;33m(\u001b[0m\u001b[1;34m\"Please enter the first pdf file name:\"\u001b[0m\u001b[1;33m)\u001b[0m\u001b[1;33m\u001b[0m\u001b[1;33m\u001b[0m\u001b[0m\n\u001b[0;32m     21\u001b[0m     \u001b[0mfile_3\u001b[0m\u001b[1;33m=\u001b[0m\u001b[0minput\u001b[0m\u001b[1;33m(\u001b[0m\u001b[1;34m\"Please enter the first pdf file name:\"\u001b[0m\u001b[1;33m)\u001b[0m\u001b[1;33m\u001b[0m\u001b[1;33m\u001b[0m\u001b[0m\n\u001b[1;32m---> 22\u001b[1;33m \u001b[0mfun20\u001b[0m\u001b[1;33m(\u001b[0m\u001b[0mfile_1\u001b[0m\u001b[1;33m,\u001b[0m\u001b[0mfile_2\u001b[0m\u001b[1;33m,\u001b[0m\u001b[0mfile_3\u001b[0m\u001b[1;33m)\u001b[0m\u001b[1;33m\u001b[0m\u001b[1;33m\u001b[0m\u001b[0m\n\u001b[0m",
      "\u001b[1;31mNameError\u001b[0m: name 'file_1' is not defined"
     ]
    }
   ],
   "source": [
    "def fun20(filename1,filename2,filename3):\n",
    "    import pyPDF2 as pdf\n",
    "    f1=open(filename1+'.pdf','rb')\n",
    "    f2=open(filename2+'.pdf','rb')\n",
    "    f3=open(filename3+'.pdf','rb')\n",
    "    f1_read=pdf.PdfFileReader(f1)\n",
    "    f2_read=pdf.PdfFileReader(f2)\n",
    "    f_writer=pdf.PdfFileWriter()\n",
    "    for page_no in range(f1_read.numPages):\n",
    "        f1_pages=f1_read.getPage(page_no)\n",
    "        f_writer.addPage(f1_pages)\n",
    "    for page_no in range(f2_read.numPages):\n",
    "        f2_pages=f2_read.getPage(page_no)\n",
    "        f_writer.addPage(f2_pages)\n",
    "    f_writer.write(f3)\n",
    "    f1.close()\n",
    "    f2.close()\n",
    "    f3.close()\n",
    "    file_1=input(\"Please enter the first pdf file name:\")\n",
    "    file_2=input(\"Please enter the first pdf file name:\")\n",
    "    file_3=input(\"Please enter the first pdf file name:\")\n",
    "fun20(file_1,file_2,file_3)"
   ]
  },
  {
   "cell_type": "code",
   "execution_count": null,
   "id": "89a09d6f",
   "metadata": {},
   "outputs": [],
   "source": []
  }
 ],
 "metadata": {
  "kernelspec": {
   "display_name": "Python 3 (ipykernel)",
   "language": "python",
   "name": "python3"
  },
  "language_info": {
   "codemirror_mode": {
    "name": "ipython",
    "version": 3
   },
   "file_extension": ".py",
   "mimetype": "text/x-python",
   "name": "python",
   "nbconvert_exporter": "python",
   "pygments_lexer": "ipython3",
   "version": "3.9.7"
  }
 },
 "nbformat": 4,
 "nbformat_minor": 5
}
