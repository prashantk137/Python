{
 "cells": [
  {
   "cell_type": "code",
   "execution_count": 12,
   "id": "ddebb3a2",
   "metadata": {},
   "outputs": [],
   "source": [
    "class car:\n",
    "    def __init__(self,body_type,engine,fuel_type):\n",
    "        self.body_type1=body_type\n",
    "        self.engine=engine\n",
    "        self.fuel_type=fuel_type\n",
    "    def test(self):\n",
    "        print(\"this is my first method in my car class\")"
   ]
  },
  {
   "cell_type": "code",
   "execution_count": 13,
   "id": "e8b1cff8",
   "metadata": {},
   "outputs": [],
   "source": [
    "fortuner=car(\"suv\",\"bs4\",\"petrol\")\n",
    "nexon=car(\"suv\",\"bs4\",\"diesel\")"
   ]
  },
  {
   "cell_type": "code",
   "execution_count": 14,
   "id": "64fd5de7",
   "metadata": {},
   "outputs": [
    {
     "data": {
      "text/plain": [
       "'suv'"
      ]
     },
     "execution_count": 14,
     "metadata": {},
     "output_type": "execute_result"
    }
   ],
   "source": [
    "fortuner.body_type1"
   ]
  },
  {
   "cell_type": "code",
   "execution_count": 9,
   "id": "4b7206cc",
   "metadata": {},
   "outputs": [
    {
     "data": {
      "text/plain": [
       "'bs4'"
      ]
     },
     "execution_count": 9,
     "metadata": {},
     "output_type": "execute_result"
    }
   ],
   "source": [
    "nexon.engine"
   ]
  },
  {
   "cell_type": "code",
   "execution_count": 15,
   "id": "4eb5f812",
   "metadata": {},
   "outputs": [
    {
     "name": "stdout",
     "output_type": "stream",
     "text": [
      "this is my first method in my car class\n"
     ]
    }
   ],
   "source": [
    "fortuner.test()"
   ]
  },
  {
   "cell_type": "code",
   "execution_count": 16,
   "id": "115f8b6e",
   "metadata": {},
   "outputs": [],
   "source": [
    "class car:\n",
    "\n",
    "    def test(self):\n",
    "        print(\"this is my first method in my car class\")"
   ]
  },
  {
   "cell_type": "code",
   "execution_count": 17,
   "id": "26ca2736",
   "metadata": {},
   "outputs": [],
   "source": [
    "x=car()"
   ]
  },
  {
   "cell_type": "code",
   "execution_count": 18,
   "id": "56eca828",
   "metadata": {},
   "outputs": [
    {
     "name": "stdout",
     "output_type": "stream",
     "text": [
      "this is my first method in my car class\n"
     ]
    }
   ],
   "source": [
    "x.test()"
   ]
  },
  {
   "cell_type": "code",
   "execution_count": 19,
   "id": "e9a164f2",
   "metadata": {},
   "outputs": [],
   "source": [
    "class list_parser:\n",
    "    def parser(self,a):\n",
    "        if type(a)==list:\n",
    "            for i in a:\n",
    "                print(i)\n",
    "                "
   ]
  },
  {
   "cell_type": "code",
   "execution_count": 20,
   "id": "70180e47",
   "metadata": {},
   "outputs": [
    {
     "name": "stdout",
     "output_type": "stream",
     "text": [
      "1\n",
      "2\n",
      "3\n",
      "4\n",
      "5\n",
      "6\n",
      "8\n",
      "9\n"
     ]
    }
   ],
   "source": [
    "c=list_parser()\n",
    "c.parser([1,2,3,4,5,6,8,9])"
   ]
  },
  {
   "cell_type": "code",
   "execution_count": 28,
   "id": "12e7f3e0",
   "metadata": {},
   "outputs": [],
   "source": [
    "class list_parser:\n",
    "    def __init__(self,l):\n",
    "        self.l=l\n",
    "    def parser(self):\n",
    "        if type(self.l)==list:\n",
    "            for i in self.l:\n",
    "                print(i)\n",
    "    \n",
    "    def reverse_list(self):\n",
    "        if type(self.l)==list:\n",
    "            return self.l[::-1]"
   ]
  },
  {
   "cell_type": "code",
   "execution_count": 29,
   "id": "888df2cb",
   "metadata": {},
   "outputs": [
    {
     "data": {
      "text/plain": [
       "[9, 8, 7, 6, 5, 4, 3, 2, 1]"
      ]
     },
     "execution_count": 29,
     "metadata": {},
     "output_type": "execute_result"
    }
   ],
   "source": [
    "c=list_parser([1,2,3,4,5,6,7,8,9])\n",
    "c.reverse_list()"
   ]
  },
  {
   "cell_type": "code",
   "execution_count": 30,
   "id": "fb9f0d72",
   "metadata": {},
   "outputs": [
    {
     "name": "stdout",
     "output_type": "stream",
     "text": [
      "1\n",
      "2\n",
      "3\n",
      "4\n",
      "5\n",
      "6\n",
      "7\n",
      "8\n",
      "9\n"
     ]
    }
   ],
   "source": [
    "c.parser()"
   ]
  },
  {
   "cell_type": "code",
   "execution_count": 31,
   "id": "ec91fd09",
   "metadata": {},
   "outputs": [
    {
     "ename": "SyntaxError",
     "evalue": "invalid syntax (Temp/ipykernel_7304/4101099875.py, line 1)",
     "output_type": "error",
     "traceback": [
      "\u001b[1;36m  File \u001b[1;32m\"C:\\Users\\PRASHA~1\\AppData\\Local\\Temp/ipykernel_7304/4101099875.py\"\u001b[1;36m, line \u001b[1;32m1\u001b[0m\n\u001b[1;33m    Create class for dictornary parsing\u001b[0m\n\u001b[1;37m           ^\u001b[0m\n\u001b[1;31mSyntaxError\u001b[0m\u001b[1;31m:\u001b[0m invalid syntax\n"
     ]
    }
   ],
   "source": [
    "Create class for dictornary parsing\n",
    "\n",
    "1.write a function to give all the keys\n",
    "2.write a function to give all the values\n",
    "3.write a function to throw an exception in case of input is not dictionary\n",
    "4.write a function to take user input and than parse a key and value out of dictionay\n",
    "5.wirte a function to insert new key value pair into dictonary\n"
   ]
  },
  {
   "cell_type": "code",
   "execution_count": 1,
   "id": "7cf5a470",
   "metadata": {},
   "outputs": [],
   "source": [
    "class dict_parsing:\n",
    "    def __init__(self,a):\n",
    "        self.a=a\n",
    "        \n",
    "    def getkeys(self):\n",
    "        if self.notdict():\n",
    "            return list(self.a.keys())\n",
    "        \n",
    "    def getvalues(self):\n",
    "        if self.notdict():\n",
    "            return list(self.a.values())\n",
    "        \n",
    "    def notdict(self):\n",
    "        if type(self.a)!=dict:\n",
    "            raise Exception(self.a,\"Not a dictionary\")\n",
    "        return 1\n",
    "    \n",
    "    def userinput(self):\n",
    "        self.a=eval(input())\n",
    "        print(self.a,type(self.a))\n",
    "        print(self.getkeys())\n",
    "        print(self.getvalues())\n",
    "        \n",
    "    def insertion(self,k,v):\n",
    "        self.a[k]=v\n",
    "        "
   ]
  },
  {
   "cell_type": "code",
   "execution_count": 6,
   "id": "4af7b7b4",
   "metadata": {},
   "outputs": [],
   "source": [
    "d=dict_parsing({\"k1\":\"prashant\",\"k2\":[1,2,3,4,5]})"
   ]
  },
  {
   "cell_type": "code",
   "execution_count": 34,
   "id": "22f09084",
   "metadata": {},
   "outputs": [
    {
     "data": {
      "text/plain": [
       "['prashant', [1, 2, 3, 4, 5]]"
      ]
     },
     "execution_count": 34,
     "metadata": {},
     "output_type": "execute_result"
    }
   ],
   "source": [
    "d.getkeys()"
   ]
  },
  {
   "cell_type": "code",
   "execution_count": 35,
   "id": "637d7be4",
   "metadata": {},
   "outputs": [
    {
     "ename": "Exception",
     "evalue": "([1, 2, 3, 3, 6], 'Not a dictionary')",
     "output_type": "error",
     "traceback": [
      "\u001b[1;31m---------------------------------------------------------------------------\u001b[0m",
      "\u001b[1;31mException\u001b[0m                                 Traceback (most recent call last)",
      "\u001b[1;32mC:\\Users\\PRASHA~1\\AppData\\Local\\Temp/ipykernel_7304/4089304489.py\u001b[0m in \u001b[0;36m<module>\u001b[1;34m\u001b[0m\n\u001b[0;32m      1\u001b[0m \u001b[0md\u001b[0m\u001b[1;33m=\u001b[0m\u001b[0mdict_parsing\u001b[0m\u001b[1;33m(\u001b[0m\u001b[1;33m[\u001b[0m\u001b[1;36m1\u001b[0m\u001b[1;33m,\u001b[0m\u001b[1;36m2\u001b[0m\u001b[1;33m,\u001b[0m\u001b[1;36m3\u001b[0m\u001b[1;33m,\u001b[0m\u001b[1;36m3\u001b[0m\u001b[1;33m,\u001b[0m\u001b[1;36m6\u001b[0m\u001b[1;33m]\u001b[0m\u001b[1;33m)\u001b[0m\u001b[1;33m\u001b[0m\u001b[1;33m\u001b[0m\u001b[0m\n\u001b[1;32m----> 2\u001b[1;33m \u001b[0md\u001b[0m\u001b[1;33m.\u001b[0m\u001b[0mnotdict\u001b[0m\u001b[1;33m(\u001b[0m\u001b[1;33m)\u001b[0m\u001b[1;33m\u001b[0m\u001b[1;33m\u001b[0m\u001b[0m\n\u001b[0m",
      "\u001b[1;32mC:\\Users\\PRASHA~1\\AppData\\Local\\Temp/ipykernel_7304/1631052021.py\u001b[0m in \u001b[0;36mnotdict\u001b[1;34m(self)\u001b[0m\n\u001b[0;32m     13\u001b[0m     \u001b[1;32mdef\u001b[0m \u001b[0mnotdict\u001b[0m\u001b[1;33m(\u001b[0m\u001b[0mself\u001b[0m\u001b[1;33m)\u001b[0m\u001b[1;33m:\u001b[0m\u001b[1;33m\u001b[0m\u001b[1;33m\u001b[0m\u001b[0m\n\u001b[0;32m     14\u001b[0m         \u001b[1;32mif\u001b[0m \u001b[0mtype\u001b[0m\u001b[1;33m(\u001b[0m\u001b[0mself\u001b[0m\u001b[1;33m.\u001b[0m\u001b[0ma\u001b[0m\u001b[1;33m)\u001b[0m\u001b[1;33m!=\u001b[0m\u001b[0mdict\u001b[0m\u001b[1;33m:\u001b[0m\u001b[1;33m\u001b[0m\u001b[1;33m\u001b[0m\u001b[0m\n\u001b[1;32m---> 15\u001b[1;33m             \u001b[1;32mraise\u001b[0m \u001b[0mException\u001b[0m\u001b[1;33m(\u001b[0m\u001b[0mself\u001b[0m\u001b[1;33m.\u001b[0m\u001b[0ma\u001b[0m\u001b[1;33m,\u001b[0m\u001b[1;34m\"Not a dictionary\"\u001b[0m\u001b[1;33m)\u001b[0m\u001b[1;33m\u001b[0m\u001b[1;33m\u001b[0m\u001b[0m\n\u001b[0m\u001b[0;32m     16\u001b[0m         \u001b[1;32mreturn\u001b[0m \u001b[1;36m1\u001b[0m\u001b[1;33m\u001b[0m\u001b[1;33m\u001b[0m\u001b[0m\n\u001b[0;32m     17\u001b[0m \u001b[1;33m\u001b[0m\u001b[0m\n",
      "\u001b[1;31mException\u001b[0m: ([1, 2, 3, 3, 6], 'Not a dictionary')"
     ]
    }
   ],
   "source": [
    "d=dict_parsing([1,2,3,3,6])\n",
    "d.notdict()"
   ]
  },
  {
   "cell_type": "code",
   "execution_count": 7,
   "id": "aa9d2909",
   "metadata": {},
   "outputs": [
    {
     "name": "stdout",
     "output_type": "stream",
     "text": [
      "{\"k1\":\"jdcdc\"}\n",
      "{'k1': 'jdcdc'} <class 'dict'>\n",
      "['k1']\n",
      "['jdcdc']\n"
     ]
    }
   ],
   "source": [
    "d.userinput()"
   ]
  },
  {
   "cell_type": "code",
   "execution_count": 2,
   "id": "d120a0bb",
   "metadata": {},
   "outputs": [
    {
     "data": {
      "text/plain": [
       "<_io.TextIOWrapper name='mydict.py' mode='w' encoding='cp1252'>"
      ]
     },
     "execution_count": 2,
     "metadata": {},
     "output_type": "execute_result"
    }
   ],
   "source": [
    "open(\"mydict.py\",\"w\")"
   ]
  },
  {
   "cell_type": "code",
   "execution_count": 3,
   "id": "50fad6d1",
   "metadata": {},
   "outputs": [
    {
     "name": "stdout",
     "output_type": "stream",
     "text": [
      " Volume in drive C has no label.\n",
      " Volume Serial Number is 1E4D-DCE3\n",
      "\n",
      " Directory of C:\\Users\\PRASHANT KUMAR\n",
      "\n",
      "13-03-2022  15:32    <DIR>          .\n",
      "16-01-2022  13:18    <DIR>          ..\n",
      "15-12-2019  12:13    <DIR>          .anaconda\n",
      "14-02-2020  11:35    <DIR>          .android\n",
      "17-01-2020  11:04    <DIR>          .AndroidStudio3.5\n",
      "21-07-2020  17:20               145 .appletviewer\n",
      "11-05-2021  21:25               388 .bash_history\n",
      "29-06-2021  14:36    <DIR>          .cache\n",
      "25-02-2022  09:33    <DIR>          .conda\n",
      "15-10-2020  13:05                43 .condarc\n",
      "08-02-2020  15:55    <DIR>          .config\n",
      "28-11-2021  13:34    <DIR>          .continuum\n",
      "14-06-2020  13:49    <DIR>          .dotnet\n",
      "11-03-2020  18:33    <DIR>          .eclipse\n",
      "17-01-2020  11:55                16 .emulator_console_auth_token\n",
      "17-01-2020  11:55    <DIR>          .gradle\n",
      "07-02-2020  16:05    <DIR>          .idlerc\n",
      "11-03-2022  10:57    <DIR>          .ipynb_checkpoints\n",
      "15-12-2019  01:37    <DIR>          .ipython\n",
      "19-12-2021  11:28    <DIR>          .jupyter\n",
      "28-07-2020  20:31    <DIR>          .m2\n",
      "14-12-2019  15:17    <DIR>          .nbi\n",
      "29-06-2021  14:50    <DIR>          .p2\n",
      "02-12-2021  09:25    <DIR>          .spyder-py3\n",
      "11-03-2020  18:33    <DIR>          .tooling\n",
      "25-12-2021  16:01    <DIR>          .VirtualBox\n",
      "14-12-2019  18:39    <DIR>          .vscode\n",
      "28-01-2022  11:41    <DIR>          __pycache__\n",
      "26-12-2021  09:38             3,504 21st dec(for,while).ipynb\n",
      "24-08-2021  15:06    <DIR>          3D Objects\n",
      "14-02-2020  12:38    <DIR>          AndroidStudioProjects\n",
      "28-01-2022  11:39               149 arithmatic.py\n",
      "21-12-2021  12:45             7,578 conditional statement.ipynb\n",
      "16-01-2022  15:37    <DIR>          Contacts\n",
      "16-01-2022  15:37    <DIR>          Desktop\n",
      "07-03-2022  18:09    <DIR>          Documents\n",
      "12-03-2022  13:47    <DIR>          Downloads\n",
      "29-06-2021  14:05    <DIR>          eclipse\n",
      "29-06-2021  12:21    <DIR>          eclipse-workspace\n",
      "02-02-2022  20:52            33,366 Exception Handling.ipynb\n",
      "16-01-2022  15:37    <DIR>          Favorites\n",
      "24-12-2021  14:54            13,457 for, while,lambda.ipynb\n",
      "11-01-2022  16:25            34,720 function with argument,iterable,iterator.ipynb\n",
      "29-12-2021  12:40            14,911 Function(23th Dec).ipynb\n",
      "18-01-2022  16:02            67,764 generator,file operation.ipynb\n",
      "16-10-2021  14:43    <DIR>          IBA_IOAPDATA\n",
      "29-01-2022  14:55            14,353 Inheritance.ipynb\n",
      "16-01-2022  15:37    <DIR>          Links\n",
      "25-01-2022  21:56             3,862 Logging.ipynb\n",
      "28-01-2022  12:37             8,176 modules and package.ipynb\n",
      "16-01-2022  15:37    <DIR>          Music\n",
      "13-03-2022  15:32                 0 mydict.py\n",
      "27-01-2022  11:26    <DIR>          OneDrive\n",
      "11-03-2022  10:59               706 Oops(Part1).ipynb\n",
      "13-03-2022  14:51            10,603 oops.ipynb\n",
      "14-12-2019  15:55    <DIR>          Oracle\n",
      "16-01-2022  15:37    <DIR>          Pictures\n",
      "09-03-2022  09:11    <DIR>          PycharmProjects\n",
      "19-01-2022  16:27            37,898 Questions.ipynb\n",
      "16-01-2022  15:37    <DIR>          Saved Games\n",
      "16-01-2022  15:37    <DIR>          Searches\n",
      "14-12-2019  18:13    <DIR>          source\n",
      "16-11-2020  19:41       114,273,560 Teams_windows_x64.exe\n",
      "25-01-2022  21:15               179 test.log\n",
      "18-01-2022  14:34                 0 test.txt\n",
      "02-02-2022  19:45                22 test1.txt\n",
      "25-01-2022  21:34               719 test2.log\n",
      "18-01-2022  14:40                21 test2.txt\n",
      "28-01-2022  11:31               154 test22.py\n",
      "25-01-2022  21:38                 0 test3.log\n",
      "18-01-2022  14:30                 0 text.txt\n",
      "28-11-2021  09:11    <DIR>          Tracing\n",
      "04-12-2021  10:46               929 Untitled.ipynb\n",
      "04-12-2021  14:23            14,021 Untitled1.ipynb\n",
      "11-01-2022  16:09            34,720 Untitled15.ipynb\n",
      "12-01-2022  14:08             4,789 Untitled16.ipynb\n",
      "05-12-2021  13:48            15,628 Untitled2.ipynb\n",
      "18-12-2021  15:27            17,346 Untitled3.ipynb\n",
      "22-01-2022  13:11            12,826 Untitled4.ipynb\n",
      "19-12-2021  12:54             7,580 Untitled5.ipynb\n",
      "21-12-2021  12:33             3,794 Untitled6.ipynb\n",
      "16-01-2022  15:37    <DIR>          Videos\n",
      "16-11-2020  19:16       102,233,600 webexapp.msi\n",
      "27-12-2021  10:39            10,289 while.ipynb\n",
      "              39 File(s)    216,881,816 bytes\n",
      "              45 Dir(s)  120,047,542,272 bytes free\n"
     ]
    }
   ],
   "source": [
    "ls"
   ]
  },
  {
   "cell_type": "code",
   "execution_count": null,
   "id": "7ad16cc7",
   "metadata": {},
   "outputs": [],
   "source": [
    "1. Create your own package for all the list function.\n",
    "2. Create your own package for all the tuple function.\n",
    "3. Create your own package for all the dictionary function.\n",
    "4. Create your own package for all the set function.\n",
    "\n",
    "#Restrictions-\n",
    "1. Always use exception handlimg.\n",
    "2. Never use print statement.\n",
    "3. Always use logging while writing a code and log every activity performed by code in respective logging file."
   ]
  },
  {
   "cell_type": "code",
   "execution_count": null,
   "id": "22e83b5c",
   "metadata": {},
   "outputs": [],
   "source": []
  }
 ],
 "metadata": {
  "kernelspec": {
   "display_name": "Python 3 (ipykernel)",
   "language": "python",
   "name": "python3"
  },
  "language_info": {
   "codemirror_mode": {
    "name": "ipython",
    "version": 3
   },
   "file_extension": ".py",
   "mimetype": "text/x-python",
   "name": "python",
   "nbconvert_exporter": "python",
   "pygments_lexer": "ipython3",
   "version": "3.9.7"
  }
 },
 "nbformat": 4,
 "nbformat_minor": 5
}
