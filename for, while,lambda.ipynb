{
 "cells": [
  {
   "cell_type": "code",
   "execution_count": 30,
   "id": "33656384",
   "metadata": {},
   "outputs": [],
   "source": [
    "s=\"This is basic python class\""
   ]
  },
  {
   "cell_type": "code",
   "execution_count": 2,
   "id": "595b15e5",
   "metadata": {},
   "outputs": [
    {
     "data": {
      "text/plain": [
       "26"
      ]
     },
     "execution_count": 2,
     "metadata": {},
     "output_type": "execute_result"
    }
   ],
   "source": [
    "len(s)"
   ]
  },
  {
   "cell_type": "code",
   "execution_count": 8,
   "id": "b5d5dd67",
   "metadata": {},
   "outputs": [
    {
     "name": "stdout",
     "output_type": "stream",
     "text": [
      "26\n"
     ]
    }
   ],
   "source": [
    "count=0\n",
    "for i in s:\n",
    "    count=count+1\n",
    "print(count)"
   ]
  },
  {
   "cell_type": "code",
   "execution_count": 4,
   "id": "a56aa30b",
   "metadata": {},
   "outputs": [
    {
     "name": "stdout",
     "output_type": "stream",
     "text": [
      "T\n",
      "h\n",
      "i\n",
      "s\n",
      " \n",
      "i\n",
      "s\n",
      " \n",
      "b\n",
      "a\n",
      "s\n",
      "i\n",
      "c\n",
      " \n",
      "p\n",
      "y\n",
      "t\n",
      "h\n",
      "o\n",
      "n\n",
      " \n",
      "c\n",
      "l\n",
      "a\n",
      "s\n",
      "s\n"
     ]
    }
   ],
   "source": [
    "for i in s:\n",
    "    print(i)"
   ]
  },
  {
   "cell_type": "code",
   "execution_count": 5,
   "id": "d4837913",
   "metadata": {},
   "outputs": [
    {
     "data": {
      "text/plain": [
       "'ssalc nohtyp cisab si sihT'"
      ]
     },
     "execution_count": 5,
     "metadata": {},
     "output_type": "execute_result"
    }
   ],
   "source": [
    "s[::-1]"
   ]
  },
  {
   "cell_type": "code",
   "execution_count": 12,
   "id": "7e9ad68d",
   "metadata": {},
   "outputs": [
    {
     "name": "stdout",
     "output_type": "stream",
     "text": [
      "25\n",
      "24\n",
      "23\n",
      "22\n",
      "21\n",
      "20\n",
      "19\n",
      "18\n",
      "17\n",
      "16\n",
      "15\n",
      "14\n",
      "13\n",
      "12\n",
      "11\n",
      "10\n",
      "9\n",
      "8\n",
      "7\n",
      "6\n",
      "5\n",
      "4\n",
      "3\n",
      "2\n",
      "1\n",
      "0\n"
     ]
    }
   ],
   "source": [
    "for i in range(len(s)-1,-1,-1):\n",
    "    print(i)"
   ]
  },
  {
   "cell_type": "code",
   "execution_count": 12,
   "id": "c9f400c0",
   "metadata": {},
   "outputs": [
    {
     "name": "stdout",
     "output_type": "stream",
     "text": [
      "s\n",
      "s\n",
      "a\n",
      "l\n",
      "c\n",
      " \n",
      "n\n",
      "o\n",
      "h\n",
      "t\n",
      "y\n",
      "p\n",
      " \n",
      "c\n",
      "i\n",
      "s\n",
      "a\n",
      "b\n",
      " \n",
      "s\n",
      "i\n",
      " \n",
      "s\n",
      "i\n",
      "h\n",
      "T\n"
     ]
    }
   ],
   "source": [
    "for i in range(len(s)-1,-1,-1):\n",
    "    print(s[i])"
   ]
  },
  {
   "cell_type": "code",
   "execution_count": 6,
   "id": "914bad41",
   "metadata": {},
   "outputs": [
    {
     "name": "stdout",
     "output_type": "stream",
     "text": [
      "ssalc nohtyp cisab si sihT"
     ]
    }
   ],
   "source": [
    "i=len(s)-1\n",
    "while(i>=0):\n",
    "    print(s[i],end=\"\")\n",
    "    i=i-1"
   ]
  },
  {
   "cell_type": "code",
   "execution_count": 4,
   "id": "a7202f8d",
   "metadata": {},
   "outputs": [
    {
     "data": {
      "text/plain": [
       "'This is basic python class'"
      ]
     },
     "execution_count": 4,
     "metadata": {},
     "output_type": "execute_result"
    }
   ],
   "source": [
    "s"
   ]
  },
  {
   "cell_type": "code",
   "execution_count": 13,
   "id": "c8a5a5b0",
   "metadata": {},
   "outputs": [],
   "source": [
    "s=\"ineuron\"\n",
    "v=\"AaeEIiOoUu\""
   ]
  },
  {
   "cell_type": "code",
   "execution_count": 8,
   "id": "17b6839b",
   "metadata": {},
   "outputs": [
    {
     "name": "stdout",
     "output_type": "stream",
     "text": [
      "Vowel i\n",
      "not vowel n\n",
      "Vowel e\n",
      "Vowel u\n",
      "not vowel r\n",
      "Vowel o\n",
      "not vowel n\n"
     ]
    }
   ],
   "source": [
    "for i in s:\n",
    "    if i in v:\n",
    "        print(\"Vowel\",i)\n",
    "    else:\n",
    "        print(\"not vowel\",i)"
   ]
  },
  {
   "cell_type": "code",
   "execution_count": 15,
   "id": "21689d72",
   "metadata": {},
   "outputs": [
    {
     "data": {
      "text/plain": [
       "False"
      ]
     },
     "execution_count": 15,
     "metadata": {},
     "output_type": "execute_result"
    }
   ],
   "source": [
    "\"P\" in \"pras\""
   ]
  },
  {
   "cell_type": "code",
   "execution_count": 16,
   "id": "b588b8b6",
   "metadata": {},
   "outputs": [
    {
     "data": {
      "text/plain": [
       "True"
      ]
     },
     "execution_count": 16,
     "metadata": {},
     "output_type": "execute_result"
    }
   ],
   "source": [
    "\"P\" in \"Pras\""
   ]
  },
  {
   "cell_type": "code",
   "execution_count": 27,
   "id": "5ed3db2f",
   "metadata": {},
   "outputs": [
    {
     "name": "stdout",
     "output_type": "stream",
     "text": [
      "tnent\n",
      "palimdrome\n"
     ]
    }
   ],
   "source": [
    "s=input()\n",
    "v=s[::-1]\n",
    "if s==v:\n",
    "    print(\"palimdrome\")\n",
    "else:\n",
    "    print(\"not palimdrome\")"
   ]
  },
  {
   "cell_type": "code",
   "execution_count": 44,
   "id": "75ff6dfa",
   "metadata": {},
   "outputs": [
    {
     "name": "stdout",
     "output_type": "stream",
     "text": [
      "eyeee\n",
      "Not Palindrome\n"
     ]
    }
   ],
   "source": [
    "s=input()\n",
    "for i in range(len(s)):\n",
    "    if s[i]!=s[len(s)-i-1]:\n",
    "        print(\"Not Palindrome\")\n",
    "        break\n",
    "else:\n",
    "    print(\"Palindrome\")"
   ]
  },
  {
   "cell_type": "code",
   "execution_count": 2,
   "id": "079caee2",
   "metadata": {},
   "outputs": [
    {
     "name": "stdout",
     "output_type": "stream",
     "text": [
      "Eye\n",
      "Not Palindrome\n"
     ]
    }
   ],
   "source": [
    "s=input()\n",
    "s1=\"\"\n",
    "i=len(s)-1\n",
    "while(i>=0):\n",
    "    s1=s1+s[i]\n",
    "    i=i-1\n",
    "if s==s1:\n",
    "    print(\"palindrome\")\n",
    "else:\n",
    "    print(\"Not Palindrome\")"
   ]
  },
  {
   "cell_type": "code",
   "execution_count": 3,
   "id": "8d865065",
   "metadata": {},
   "outputs": [],
   "source": [
    "s=\"tnent\"\n",
    "l=len(s)"
   ]
  },
  {
   "cell_type": "code",
   "execution_count": 4,
   "id": "cd464618",
   "metadata": {},
   "outputs": [
    {
     "name": "stdout",
     "output_type": "stream",
     "text": [
      "5\n"
     ]
    }
   ],
   "source": [
    "print(l)"
   ]
  },
  {
   "cell_type": "code",
   "execution_count": 5,
   "id": "c7cc7eef",
   "metadata": {},
   "outputs": [
    {
     "name": "stdout",
     "output_type": "stream",
     "text": [
      "0\n",
      "1\n",
      "2\n",
      "3\n",
      "4\n"
     ]
    }
   ],
   "source": [
    "for i in range(l):\n",
    "    print(i)\n"
   ]
  },
  {
   "cell_type": "code",
   "execution_count": 7,
   "id": "2579b046",
   "metadata": {},
   "outputs": [
    {
     "name": "stdout",
     "output_type": "stream",
     "text": [
      "tnent"
     ]
    }
   ],
   "source": [
    "for i in s:\n",
    "    print(i,end=\"\")"
   ]
  },
  {
   "cell_type": "code",
   "execution_count": 16,
   "id": "3b279758",
   "metadata": {},
   "outputs": [],
   "source": [
    "d={\"india\":\"IN\",\"canada\":\"CN\",\"china\":\"CH\",\"united state\":\"US\"}"
   ]
  },
  {
   "cell_type": "code",
   "execution_count": 17,
   "id": "2778bef2",
   "metadata": {},
   "outputs": [
    {
     "name": "stdout",
     "output_type": "stream",
     "text": [
      "not in dict\n"
     ]
    }
   ],
   "source": [
    "for i in d:\n",
    "    if i==\"nepal\":\n",
    "        print(i)\n",
    "else:\n",
    "    print(\"not in dict\")\n",
    "    "
   ]
  },
  {
   "cell_type": "code",
   "execution_count": 18,
   "id": "a38f16bc",
   "metadata": {},
   "outputs": [
    {
     "name": "stdout",
     "output_type": "stream",
     "text": [
      "india\n",
      "canada\n",
      "china\n",
      "united state\n"
     ]
    }
   ],
   "source": [
    "for i in d:\n",
    "    print(i)"
   ]
  },
  {
   "cell_type": "code",
   "execution_count": 19,
   "id": "551b5470",
   "metadata": {},
   "outputs": [
    {
     "name": "stdout",
     "output_type": "stream",
     "text": [
      "US\n"
     ]
    }
   ],
   "source": [
    "print(d[i])"
   ]
  },
  {
   "cell_type": "code",
   "execution_count": 24,
   "id": "b7f08a38",
   "metadata": {},
   "outputs": [],
   "source": [
    "l_greater=[]\n",
    "l_smaller=[]\n",
    "for i in d:\n",
    "    if len(i)<=5:\n",
    "        l_smaller.append(i)\n",
    "    else:\n",
    "        l_greater.append(i)"
   ]
  },
  {
   "cell_type": "code",
   "execution_count": 22,
   "id": "d3fb7384",
   "metadata": {},
   "outputs": [
    {
     "data": {
      "text/plain": [
       "['canada', 'united state']"
      ]
     },
     "execution_count": 22,
     "metadata": {},
     "output_type": "execute_result"
    }
   ],
   "source": [
    "l_greater"
   ]
  },
  {
   "cell_type": "code",
   "execution_count": 26,
   "id": "a3e368fd",
   "metadata": {},
   "outputs": [],
   "source": [
    "d_1={\"ineuron\":{\"a\":14,\"b\":10,\"c\":4},\"course\":{\"d\":45,\"e\":34,\"f\":1}}"
   ]
  },
  {
   "cell_type": "code",
   "execution_count": 29,
   "id": "a55ece83",
   "metadata": {},
   "outputs": [
    {
     "name": "stdout",
     "output_type": "stream",
     "text": [
      "{'a': 14, 'b': 10, 'c': 4}\n",
      "{'d': 45, 'e': 34, 'f': 1}\n"
     ]
    }
   ],
   "source": [
    "for i in d_1.values():\n",
    "    print(i)"
   ]
  },
  {
   "cell_type": "code",
   "execution_count": 30,
   "id": "a1d8320f",
   "metadata": {},
   "outputs": [
    {
     "name": "stdout",
     "output_type": "stream",
     "text": [
      "14\n",
      "10\n",
      "4\n",
      "45\n",
      "34\n",
      "1\n"
     ]
    }
   ],
   "source": [
    "for i in d_1.values():\n",
    "    for j in i.values():\n",
    "        print(j)"
   ]
  },
  {
   "cell_type": "code",
   "execution_count": 32,
   "id": "87956027",
   "metadata": {},
   "outputs": [
    {
     "name": "stdout",
     "output_type": "stream",
     "text": [
      "14\n",
      "45\n"
     ]
    }
   ],
   "source": [
    "lst=[]\n",
    "for i in d_1.values():\n",
    "    for j in i.values():\n",
    "        lst.append(j)\n",
    "    print(max(lst))"
   ]
  },
  {
   "cell_type": "code",
   "execution_count": 33,
   "id": "57578f1d",
   "metadata": {},
   "outputs": [
    {
     "name": "stdout",
     "output_type": "stream",
     "text": [
      "4\n",
      "1\n"
     ]
    }
   ],
   "source": [
    "lst=[]\n",
    "for i in d_1.values():\n",
    "    for j in i.values():\n",
    "        lst.append(j)\n",
    "    print(min(lst))"
   ]
  },
  {
   "cell_type": "code",
   "execution_count": 36,
   "id": "7a0e963a",
   "metadata": {},
   "outputs": [
    {
     "name": "stdout",
     "output_type": "stream",
     "text": [
      "14\n",
      "45\n"
     ]
    }
   ],
   "source": [
    "for i in d_1.values():\n",
    "    print(max(i.values()))\n"
   ]
  },
  {
   "cell_type": "code",
   "execution_count": 39,
   "id": "46abad93",
   "metadata": {},
   "outputs": [],
   "source": [
    "d_1={\"ineuron\":{\"a\":14,\"b\":10,\"c\":4},\"course\":{\"d\":45,\"e\":34,\"f\":1},\"g\":34,\"h\":[45,6,7,8,9,3],'i':(45,34,2),\"j\":\"prashant\"}"
   ]
  },
  {
   "cell_type": "code",
   "execution_count": 44,
   "id": "9b0c49ec",
   "metadata": {},
   "outputs": [
    {
     "name": "stdout",
     "output_type": "stream",
     "text": [
      "{'a': 14, 'b': 10, 'c': 4}\n",
      "{'d': 45, 'e': 34, 'f': 1}\n",
      "34\n",
      "[45, 6, 7, 8, 9, 3]\n",
      "(45, 34, 2)\n",
      "prashant\n"
     ]
    }
   ],
   "source": [
    "for i in d_1.values():\n",
    "    print(i) "
   ]
  },
  {
   "cell_type": "code",
   "execution_count": 46,
   "id": "c8d9e596",
   "metadata": {},
   "outputs": [
    {
     "name": "stdout",
     "output_type": "stream",
     "text": [
      "45\n"
     ]
    }
   ],
   "source": [
    "l=[]\n",
    "for i in d_1.values():\n",
    "    if type(i)!=str and type(i)!=complex:\n",
    "        if type(i)==list or type(i)==tuple or type(i)==set:\n",
    "            l.append(max(i))\n",
    "        elif type(i)==dict:\n",
    "            for j in i.values():\n",
    "                l.append(j)\n",
    "    else:\n",
    "        l.append(j)\n",
    "s=set(l)\n",
    "print(max(s))\n",
    "            "
   ]
  },
  {
   "cell_type": "code",
   "execution_count": null,
   "id": "023c1e18",
   "metadata": {},
   "outputs": [],
   "source": []
  }
 ],
 "metadata": {
  "kernelspec": {
   "display_name": "Python 3 (ipykernel)",
   "language": "python",
   "name": "python3"
  },
  "language_info": {
   "codemirror_mode": {
    "name": "ipython",
    "version": 3
   },
   "file_extension": ".py",
   "mimetype": "text/x-python",
   "name": "python",
   "nbconvert_exporter": "python",
   "pygments_lexer": "ipython3",
   "version": "3.9.7"
  }
 },
 "nbformat": 4,
 "nbformat_minor": 5
}
