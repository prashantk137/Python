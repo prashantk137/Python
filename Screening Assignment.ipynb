{
 "cells": [
  {
   "cell_type": "markdown",
   "id": "fb032678",
   "metadata": {},
   "source": [
    "1. Create a function in python to read the text file and replace specific content of the file."
   ]
  },
  {
   "cell_type": "code",
   "execution_count": 2,
   "id": "ac20bc93",
   "metadata": {},
   "outputs": [],
   "source": [
    "#File Name\n",
    "with open('example.txt', 'w') as f:\n",
    "        f.write('This is a placement assignment')"
   ]
  },
  {
   "cell_type": "code",
   "execution_count": 4,
   "id": "9864d305",
   "metadata": {},
   "outputs": [],
   "source": [
    "#Replaced file content\n",
    "fin = open(\"example.txt\", \"rt\")\n",
    "word = fin.read()\n",
    "word = word.replace('placement', 'screening')\n",
    "fin.close()\n",
    "fin = open(\"example.txt\", \"wt\")\n",
    "fin.write(word)\n",
    "fin.close()"
   ]
  },
  {
   "cell_type": "markdown",
   "id": "2275a53b",
   "metadata": {},
   "source": [
    "2. Demonstrate use of abstract class, multiple inheritance and decorator in python using examples."
   ]
  },
  {
   "cell_type": "markdown",
   "id": "ca948693",
   "metadata": {},
   "source": [
    "Ans-\n",
    "An abstract class is a class which contains one or more abstract methods. An abstract method is a method that has a declaration but does not have an implementation. So, we can say that abstract class is the blueprint for other class."
   ]
  },
  {
   "cell_type": "code",
   "execution_count": 5,
   "id": "eb501691",
   "metadata": {},
   "outputs": [],
   "source": [
    "class test:\n",
    "    def __init__(self,a,b,c):\n",
    "        self.a=a\n",
    "        self.b=b\n",
    "        self.c=c\n",
    "        \n",
    "    def __str__(self):\n",
    "        return \"ineuron\"\n",
    "    \n",
    "    def class_fun(self):\n",
    "        print(\"jdncjfnvmdkcmjfnvjf\")\n",
    "class test1(test):\n",
    "    def class_fun(self):\n",
    "        print(\"Prashant Kumar\")"
   ]
  },
  {
   "cell_type": "code",
   "execution_count": 7,
   "id": "fd41bf02",
   "metadata": {},
   "outputs": [],
   "source": [
    "test_obj=test(1,2,3)"
   ]
  },
  {
   "cell_type": "code",
   "execution_count": 8,
   "id": "447aa29b",
   "metadata": {},
   "outputs": [],
   "source": [
    "test1_obj=test1(4,5,6)"
   ]
  },
  {
   "cell_type": "code",
   "execution_count": 9,
   "id": "2bf80301",
   "metadata": {},
   "outputs": [
    {
     "name": "stdout",
     "output_type": "stream",
     "text": [
      "jdncjfnvmdkcmjfnvjf\n"
     ]
    }
   ],
   "source": [
    "test_obj.class_fun()"
   ]
  },
  {
   "cell_type": "code",
   "execution_count": 10,
   "id": "bf50b5e6",
   "metadata": {},
   "outputs": [
    {
     "name": "stdout",
     "output_type": "stream",
     "text": [
      "Prashant Kumar\n"
     ]
    }
   ],
   "source": [
    "test1_obj.class_fun()"
   ]
  },
  {
   "cell_type": "markdown",
   "id": "c9264da9",
   "metadata": {},
   "source": [
    "Multiple Inheritance-\n",
    "When a class is derived from more than one class. This is called multiple inheritance. The derived class inherits all the properties of all the base class."
   ]
  },
  {
   "cell_type": "code",
   "execution_count": 11,
   "id": "81001266",
   "metadata": {},
   "outputs": [
    {
     "name": "stdout",
     "output_type": "stream",
     "text": [
      "In XYZ2\n"
     ]
    }
   ],
   "source": [
    "class XYZ:\n",
    "    def m(self):\n",
    "        print(\"In XYZ\")\n",
    "class XYZ2(XYZ):\n",
    "    def m(self):\n",
    "        print(\"In XYZ2\")\n",
    "\n",
    "class XYZ3(XYZ):\n",
    "    def m(self):\n",
    "        print(\"In XYZ3\")\n",
    "class XYZ4(XYZ2, XYZ3):\n",
    "    pass\n",
    "obj = XYZ4()\n",
    "obj.m()"
   ]
  },
  {
   "cell_type": "code",
   "execution_count": 12,
   "id": "9898892c",
   "metadata": {},
   "outputs": [
    {
     "name": "stdout",
     "output_type": "stream",
     "text": [
      "In XYZ3\n"
     ]
    }
   ],
   "source": [
    "class XYZ:\n",
    "    def m(self):\n",
    "        print(\"In XYZ\")\n",
    "class XYZ2(XYZ):\n",
    "    def m(self):\n",
    "        print(\"In XYZ2\")\n",
    "\n",
    "class XYZ3(XYZ):\n",
    "    def m(self):\n",
    "        print(\"In XYZ3\")\n",
    "class XYZ4(XYZ3, XYZ2):\n",
    "    pass\n",
    "obj = XYZ4()\n",
    "obj.m()"
   ]
  },
  {
   "cell_type": "markdown",
   "id": "a76fd191",
   "metadata": {},
   "source": [
    "Decorator-\n",
    "Decorators is a function that takes another function as an argument and extends its behavior without permanently modifying it.The real time usages of decorator is logging, debugging, authentication, measuring execution time, and many more."
   ]
  },
  {
   "cell_type": "code",
   "execution_count": 18,
   "id": "664737c5",
   "metadata": {},
   "outputs": [
    {
     "name": "stdout",
     "output_type": "stream",
     "text": [
      "This is before function execution.\n",
      "This is inside the function.\n",
      "This is after function execution\n"
     ]
    }
   ],
   "source": [
    "def decorator(func):\n",
    "    def class1():\n",
    "        print(\"This is before function execution.\")\n",
    "        func()\n",
    "        print(\"This is after function execution\")\n",
    "    return class1\n",
    "def class2():\n",
    "    print(\"This is inside the function.\")\n",
    "class2 = decorator(class2)\n",
    "class2()"
   ]
  },
  {
   "cell_type": "code",
   "execution_count": null,
   "id": "934d38ae",
   "metadata": {},
   "outputs": [],
   "source": []
  }
 ],
 "metadata": {
  "kernelspec": {
   "display_name": "Python 3 (ipykernel)",
   "language": "python",
   "name": "python3"
  },
  "language_info": {
   "codemirror_mode": {
    "name": "ipython",
    "version": 3
   },
   "file_extension": ".py",
   "mimetype": "text/x-python",
   "name": "python",
   "nbconvert_exporter": "python",
   "pygments_lexer": "ipython3",
   "version": "3.9.7"
  }
 },
 "nbformat": 4,
 "nbformat_minor": 5
}
