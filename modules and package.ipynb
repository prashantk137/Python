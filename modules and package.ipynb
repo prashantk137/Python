{
 "cells": [
  {
   "cell_type": "code",
   "execution_count": 1,
   "id": "585784dc",
   "metadata": {},
   "outputs": [],
   "source": [
    "import os"
   ]
  },
  {
   "cell_type": "code",
   "execution_count": 3,
   "id": "3b81814b",
   "metadata": {},
   "outputs": [],
   "source": [
    "def test(a,b):\n",
    "    return a+b"
   ]
  },
  {
   "cell_type": "code",
   "execution_count": 4,
   "id": "c625c9c3",
   "metadata": {},
   "outputs": [
    {
     "data": {
      "text/plain": [
       "9"
      ]
     },
     "execution_count": 4,
     "metadata": {},
     "output_type": "execute_result"
    }
   ],
   "source": [
    "test(4,5)"
   ]
  },
  {
   "cell_type": "code",
   "execution_count": 7,
   "id": "a42920f6",
   "metadata": {},
   "outputs": [],
   "source": [
    "import test22"
   ]
  },
  {
   "cell_type": "code",
   "execution_count": 8,
   "id": "713e8c46",
   "metadata": {},
   "outputs": [
    {
     "ename": "NameError",
     "evalue": "name 'test1' is not defined",
     "output_type": "error",
     "traceback": [
      "\u001b[1;31m---------------------------------------------------------------------------\u001b[0m",
      "\u001b[1;31mNameError\u001b[0m                                 Traceback (most recent call last)",
      "\u001b[1;32mC:\\Users\\PRASHA~1\\AppData\\Local\\Temp/ipykernel_16188/53240133.py\u001b[0m in \u001b[0;36m<module>\u001b[1;34m\u001b[0m\n\u001b[1;32m----> 1\u001b[1;33m \u001b[0mtest1\u001b[0m\u001b[1;33m(\u001b[0m\u001b[1;36m8\u001b[0m\u001b[1;33m,\u001b[0m\u001b[1;36m3\u001b[0m\u001b[1;33m)\u001b[0m\u001b[1;33m\u001b[0m\u001b[1;33m\u001b[0m\u001b[0m\n\u001b[0m",
      "\u001b[1;31mNameError\u001b[0m: name 'test1' is not defined"
     ]
    }
   ],
   "source": [
    "test1(8,3)"
   ]
  },
  {
   "cell_type": "code",
   "execution_count": 9,
   "id": "a42ff071",
   "metadata": {},
   "outputs": [
    {
     "data": {
      "text/plain": [
       "'C:\\\\Users\\\\PRASHANT KUMAR'"
      ]
     },
     "execution_count": 9,
     "metadata": {},
     "output_type": "execute_result"
    }
   ],
   "source": [
    "pwd()"
   ]
  },
  {
   "cell_type": "code",
   "execution_count": 10,
   "id": "f5ddecce",
   "metadata": {},
   "outputs": [
    {
     "name": "stdout",
     "output_type": "stream",
     "text": [
      " Volume in drive C has no label.\n",
      " Volume Serial Number is 1E4D-DCE3\n",
      "\n",
      " Directory of C:\\Users\\PRASHANT KUMAR\n",
      "\n",
      "28-01-2022  11:39    <DIR>          .\n",
      "16-01-2022  13:18    <DIR>          ..\n",
      "15-12-2019  12:13    <DIR>          .anaconda\n",
      "14-02-2020  11:35    <DIR>          .android\n",
      "17-01-2020  11:04    <DIR>          .AndroidStudio3.5\n",
      "21-07-2020  17:20               145 .appletviewer\n",
      "11-05-2021  21:25               388 .bash_history\n",
      "29-06-2021  14:36    <DIR>          .cache\n",
      "04-12-2021  14:55    <DIR>          .conda\n",
      "15-10-2020  13:05                43 .condarc\n",
      "08-02-2020  15:55    <DIR>          .config\n",
      "28-11-2021  13:34    <DIR>          .continuum\n",
      "14-06-2020  13:49    <DIR>          .dotnet\n",
      "11-03-2020  18:33    <DIR>          .eclipse\n",
      "17-01-2020  11:55                16 .emulator_console_auth_token\n",
      "17-01-2020  11:55    <DIR>          .gradle\n",
      "07-02-2020  16:05    <DIR>          .idlerc\n",
      "28-01-2022  10:08    <DIR>          .ipynb_checkpoints\n",
      "15-12-2019  01:37    <DIR>          .ipython\n",
      "19-12-2021  11:28    <DIR>          .jupyter\n",
      "28-07-2020  20:31    <DIR>          .m2\n",
      "14-12-2019  15:17    <DIR>          .nbi\n",
      "29-06-2021  14:50    <DIR>          .p2\n",
      "02-12-2021  09:25    <DIR>          .spyder-py3\n",
      "11-03-2020  18:33    <DIR>          .tooling\n",
      "25-12-2021  16:01    <DIR>          .VirtualBox\n",
      "14-12-2019  18:39    <DIR>          .vscode\n",
      "28-01-2022  11:33    <DIR>          __pycache__\n",
      "26-12-2021  09:38             3,504 21st dec(for,while).ipynb\n",
      "24-08-2021  15:06    <DIR>          3D Objects\n",
      "14-02-2020  12:38    <DIR>          AndroidStudioProjects\n",
      "28-01-2022  11:39               149 arithmatic.py\n",
      "21-12-2021  12:45             7,578 conditional statement.ipynb\n",
      "16-01-2022  15:37    <DIR>          Contacts\n",
      "16-01-2022  15:37    <DIR>          Desktop\n",
      "16-01-2022  15:37    <DIR>          Documents\n",
      "28-01-2022  09:58    <DIR>          Downloads\n",
      "29-06-2021  14:05    <DIR>          eclipse\n",
      "29-06-2021  12:21    <DIR>          eclipse-workspace\n",
      "25-01-2022  20:59            22,127 Exception Handling.ipynb\n",
      "16-01-2022  15:37    <DIR>          Favorites\n",
      "24-12-2021  14:54            13,457 for, while,lambda.ipynb\n",
      "11-01-2022  16:25            34,720 function with argument,iterable,iterator.ipynb\n",
      "29-12-2021  12:40            14,911 Function(23th Dec).ipynb\n",
      "18-01-2022  16:02            67,764 generator,file operation.ipynb\n",
      "16-10-2021  14:43    <DIR>          IBA_IOAPDATA\n",
      "16-01-2022  15:37    <DIR>          Links\n",
      "25-01-2022  21:56             3,862 Logging.ipynb\n",
      "28-01-2022  11:36             2,346 modules and package.ipynb\n",
      "16-01-2022  15:37    <DIR>          Music\n",
      "27-01-2022  11:26    <DIR>          OneDrive\n",
      "23-01-2022  11:27             1,808 oops.ipynb\n",
      "14-12-2019  15:55    <DIR>          Oracle\n",
      "16-01-2022  15:37    <DIR>          Pictures\n",
      "19-01-2022  16:27            37,898 Questions.ipynb\n",
      "16-01-2022  15:37    <DIR>          Saved Games\n",
      "16-01-2022  15:37    <DIR>          Searches\n",
      "14-12-2019  18:13    <DIR>          source\n",
      "16-11-2020  19:41       114,273,560 Teams_windows_x64.exe\n",
      "25-01-2022  21:15               179 test.log\n",
      "18-01-2022  14:34                 0 test.txt\n",
      "25-01-2022  15:51                22 test1.txt\n",
      "25-01-2022  21:34               719 test2.log\n",
      "18-01-2022  14:40                21 test2.txt\n",
      "28-01-2022  11:31               154 test22.py\n",
      "25-01-2022  21:38                 0 test3.log\n",
      "18-01-2022  14:30                 0 text.txt\n",
      "28-11-2021  09:11    <DIR>          Tracing\n",
      "04-12-2021  10:46               929 Untitled.ipynb\n",
      "04-12-2021  14:23            14,021 Untitled1.ipynb\n",
      "11-01-2022  16:09            34,720 Untitled15.ipynb\n",
      "12-01-2022  14:08             4,789 Untitled16.ipynb\n",
      "05-12-2021  13:48            15,628 Untitled2.ipynb\n",
      "18-12-2021  15:27            17,346 Untitled3.ipynb\n",
      "22-01-2022  13:11            12,826 Untitled4.ipynb\n",
      "19-12-2021  12:54             7,580 Untitled5.ipynb\n",
      "21-12-2021  12:33             3,794 Untitled6.ipynb\n",
      "16-01-2022  15:37    <DIR>          Videos\n",
      "16-11-2020  19:16       102,233,600 webexapp.msi\n",
      "27-12-2021  10:39            10,289 while.ipynb\n",
      "              36 File(s)    216,840,893 bytes\n",
      "              44 Dir(s)  96,004,681,728 bytes free\n"
     ]
    }
   ],
   "source": [
    "ls"
   ]
  },
  {
   "cell_type": "code",
   "execution_count": 11,
   "id": "c9a66fcc",
   "metadata": {},
   "outputs": [],
   "source": [
    "import arithmatic"
   ]
  },
  {
   "cell_type": "code",
   "execution_count": null,
   "id": "93f5320a",
   "metadata": {},
   "outputs": [],
   "source": [
    "   "
   ]
  }
 ],
 "metadata": {
  "kernelspec": {
   "display_name": "Python 3 (ipykernel)",
   "language": "python",
   "name": "python3"
  },
  "language_info": {
   "codemirror_mode": {
    "name": "ipython",
    "version": 3
   },
   "file_extension": ".py",
   "mimetype": "text/x-python",
   "name": "python",
   "nbconvert_exporter": "python",
   "pygments_lexer": "ipython3",
   "version": "3.9.7"
  }
 },
 "nbformat": 4,
 "nbformat_minor": 5
}
