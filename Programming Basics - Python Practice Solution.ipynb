{
 "cells": [
  {
   "cell_type": "markdown",
   "id": "fd4fb3db",
   "metadata": {},
   "source": [
    "Question 1"
   ]
  },
  {
   "cell_type": "code",
   "execution_count": 1,
   "id": "1dcb3b82",
   "metadata": {
    "ExecuteTime": {
     "end_time": "2022-06-09T08:08:25.633168Z",
     "start_time": "2022-06-09T08:08:25.630165Z"
    }
   },
   "outputs": [],
   "source": [
    "# Create two variables - x and y set their values to 5 and \"Hello\"\n",
    "x=5\n",
    "y=\"Hello\""
   ]
  },
  {
   "cell_type": "markdown",
   "id": "1a4ef1a1",
   "metadata": {
    "ExecuteTime": {
     "end_time": "2022-03-15T09:11:51.719122Z",
     "start_time": "2022-03-15T09:11:51.687482Z"
    }
   },
   "source": [
    "Question 2"
   ]
  },
  {
   "cell_type": "code",
   "execution_count": 2,
   "id": "536d87d5",
   "metadata": {
    "ExecuteTime": {
     "end_time": "2022-06-09T08:08:31.863695Z",
     "start_time": "2022-06-09T08:08:31.857695Z"
    }
   },
   "outputs": [],
   "source": [
    "# Create another variable z which is the product of above two variables x,y\n",
    "z=x*y"
   ]
  },
  {
   "cell_type": "markdown",
   "id": "50d9f2ea",
   "metadata": {},
   "source": [
    "Question 3"
   ]
  },
  {
   "cell_type": "code",
   "execution_count": 4,
   "id": "46b6f97f",
   "metadata": {
    "ExecuteTime": {
     "end_time": "2022-06-09T08:08:49.871770Z",
     "start_time": "2022-06-09T08:08:49.863256Z"
    }
   },
   "outputs": [
    {
     "name": "stdout",
     "output_type": "stream",
     "text": [
      "HelloHelloHelloHelloHello\n"
     ]
    }
   ],
   "source": [
    "# print z \n",
    "print(z)"
   ]
  },
  {
   "cell_type": "markdown",
   "id": "fee2e9a9",
   "metadata": {},
   "source": [
    "Question 4"
   ]
  },
  {
   "cell_type": "code",
   "execution_count": 5,
   "id": "fa0f80dc",
   "metadata": {
    "ExecuteTime": {
     "end_time": "2022-06-09T08:08:57.957143Z",
     "start_time": "2022-06-09T08:08:57.946905Z"
    }
   },
   "outputs": [],
   "source": [
    "# Create a list named llist with elements 1,2,3,4,5\n",
    "llist = [1,2,3,4,5]"
   ]
  },
  {
   "cell_type": "markdown",
   "id": "f925f9af",
   "metadata": {},
   "source": [
    "Question 5"
   ]
  },
  {
   "cell_type": "code",
   "execution_count": 6,
   "id": "1bea5ce2",
   "metadata": {
    "ExecuteTime": {
     "end_time": "2022-06-09T08:09:30.085142Z",
     "start_time": "2022-06-09T08:09:30.070991Z"
    }
   },
   "outputs": [],
   "source": [
    "# Create a list  named rlist with elements 1,2,6,7,8,9,10\n",
    "rlist = [1,2,6,7,8,9,10]"
   ]
  },
  {
   "cell_type": "markdown",
   "id": "d72d811d",
   "metadata": {},
   "source": [
    "Question 6"
   ]
  },
  {
   "cell_type": "code",
   "execution_count": 7,
   "id": "36ae0786",
   "metadata": {
    "ExecuteTime": {
     "end_time": "2022-06-09T08:09:34.146840Z",
     "start_time": "2022-06-09T08:09:34.135836Z"
    }
   },
   "outputs": [],
   "source": [
    "# Create a list clist with by combining all the elements from llist and rlist \n",
    "clist = llist+rlist "
   ]
  },
  {
   "cell_type": "markdown",
   "id": "8aadc6fc",
   "metadata": {},
   "source": [
    "Question 7"
   ]
  },
  {
   "cell_type": "code",
   "execution_count": 8,
   "id": "0e44982e",
   "metadata": {
    "ExecuteTime": {
     "end_time": "2022-06-09T08:09:37.224159Z",
     "start_time": "2022-06-09T08:09:37.215730Z"
    }
   },
   "outputs": [
    {
     "name": "stdout",
     "output_type": "stream",
     "text": [
      "combined list is [1, 2, 3, 4, 5, 1, 2, 6, 7, 8, 9, 10]\n"
     ]
    }
   ],
   "source": [
    "# Print clist \n",
    "print(f\"combined list is {clist}\")"
   ]
  },
  {
   "cell_type": "markdown",
   "id": "aed1664b",
   "metadata": {},
   "source": [
    "Question 8"
   ]
  },
  {
   "cell_type": "code",
   "execution_count": 9,
   "id": "7564708c",
   "metadata": {
    "ExecuteTime": {
     "end_time": "2022-06-09T08:09:59.230237Z",
     "start_time": "2022-06-09T08:09:59.216731Z"
    }
   },
   "outputs": [
    {
     "name": "stdout",
     "output_type": "stream",
     "text": [
      "Unique list is [1, 2, 6, 7, 8, 9, 10, 3, 4, 5]\n"
     ]
    }
   ],
   "source": [
    "# Create a list ulist with by combining rlist and llist but ensure that there are no duplicates \n",
    "ulist = []\n",
    "\n",
    "for x in rlist:\n",
    "    if x in ulist:\n",
    "        continue \n",
    "    else:\n",
    "        ulist.append(x)\n",
    "\n",
    "for x in llist:\n",
    "    if x in ulist:\n",
    "        continue \n",
    "    else:\n",
    "        ulist.append(x)\n",
    "\n",
    "print(f\"Unique list is {ulist}\")"
   ]
  },
  {
   "cell_type": "code",
   "execution_count": 10,
   "id": "657c899d",
   "metadata": {
    "ExecuteTime": {
     "end_time": "2022-06-09T08:10:00.426615Z",
     "start_time": "2022-06-09T08:10:00.413612Z"
    }
   },
   "outputs": [
    {
     "name": "stdout",
     "output_type": "stream",
     "text": [
      "[1, 2, 3, 4, 5, 6, 7, 8, 9, 10]\n"
     ]
    }
   ],
   "source": [
    "# An alternate way\n",
    "ulist=list(set(rlist+llist))\n",
    "print(ulist)"
   ]
  },
  {
   "cell_type": "markdown",
   "id": "6ecf6fd2",
   "metadata": {},
   "source": [
    "Question 9"
   ]
  },
  {
   "cell_type": "code",
   "execution_count": 11,
   "id": "0963d7a4",
   "metadata": {
    "ExecuteTime": {
     "end_time": "2022-06-09T08:10:39.485750Z",
     "start_time": "2022-06-09T08:10:39.474682Z"
    }
   },
   "outputs": [],
   "source": [
    "# Create a function fact to return all factors of a number \n",
    "def fact(x):\n",
    "    answer=[]\n",
    "    for i in range(1,(x+1)):\n",
    "        if x%i==0:\n",
    "            answer.append(i)\n",
    "    return answer "
   ]
  },
  {
   "cell_type": "markdown",
   "id": "024eff37",
   "metadata": {},
   "source": [
    "Question 10"
   ]
  },
  {
   "cell_type": "code",
   "execution_count": 12,
   "id": "81488dc7",
   "metadata": {
    "ExecuteTime": {
     "end_time": "2022-06-09T08:10:40.920022Z",
     "start_time": "2022-06-09T08:10:40.915021Z"
    }
   },
   "outputs": [
    {
     "name": "stdout",
     "output_type": "stream",
     "text": [
      "factors 84 are [1, 2, 3, 4, 6, 7, 12, 14, 21, 28, 42, 84]\n"
     ]
    }
   ],
   "source": [
    "# Call the above function to get all the factors of 84 in variable factors_84\n",
    "factors_84 = fact(84)\n",
    "print(f\"factors 84 are {factors_84}\")"
   ]
  },
  {
   "cell_type": "markdown",
   "id": "471c477f",
   "metadata": {},
   "source": [
    "Question 11"
   ]
  },
  {
   "cell_type": "code",
   "execution_count": 13,
   "id": "fa9e0204",
   "metadata": {
    "ExecuteTime": {
     "end_time": "2022-06-09T08:10:43.843118Z",
     "start_time": "2022-06-09T08:10:43.824834Z"
    }
   },
   "outputs": [
    {
     "name": "stdout",
     "output_type": "stream",
     "text": [
      "total number of factors are 12\n"
     ]
    }
   ],
   "source": [
    "# How many factos of 84 are there?\n",
    "print(f\"total number of factors are {len(factors_84)}\")"
   ]
  },
  {
   "cell_type": "markdown",
   "id": "29e512a7",
   "metadata": {},
   "source": [
    "Question 12"
   ]
  },
  {
   "cell_type": "code",
   "execution_count": 14,
   "id": "f1933cf5",
   "metadata": {
    "ExecuteTime": {
     "end_time": "2022-06-09T08:10:52.074685Z",
     "start_time": "2022-06-09T08:10:52.061555Z"
    }
   },
   "outputs": [],
   "source": [
    "# Use the same function to find the factors of 48 in variable factors_48\n",
    "factors_48= fact(48)"
   ]
  },
  {
   "cell_type": "markdown",
   "id": "2c6ab1d5",
   "metadata": {},
   "source": [
    "Question 13"
   ]
  },
  {
   "cell_type": "code",
   "execution_count": 15,
   "id": "c739a5ea",
   "metadata": {
    "ExecuteTime": {
     "end_time": "2022-06-09T08:11:09.162610Z",
     "start_time": "2022-06-09T08:11:09.152611Z"
    }
   },
   "outputs": [
    {
     "name": "stdout",
     "output_type": "stream",
     "text": [
      "Common factors of 48 and 84 are [1, 2, 3, 4, 6, 12]\n"
     ]
    }
   ],
   "source": [
    "# Find the common factors of 84 and 48 and store these common_factors in common_factors\n",
    "common_factors= []\n",
    "for x in factors_84:\n",
    "    if x in factors_48:\n",
    "        common_factors.append(x)\n",
    "        \n",
    "print(f\"Common factors of 48 and 84 are {common_factors}\")"
   ]
  },
  {
   "cell_type": "markdown",
   "id": "4fb35d24",
   "metadata": {},
   "source": [
    "Question 14"
   ]
  },
  {
   "cell_type": "code",
   "execution_count": 16,
   "id": "97900547",
   "metadata": {
    "ExecuteTime": {
     "end_time": "2022-06-09T08:11:16.462171Z",
     "start_time": "2022-06-09T08:11:16.458173Z"
    }
   },
   "outputs": [
    {
     "name": "stdout",
     "output_type": "stream",
     "text": [
      "Highest common factor of 48 and 84 are 12\n"
     ]
    }
   ],
   "source": [
    "# Find the maximum common factor for 48 and 84 and store it in variable gcd\n",
    "gcd = max(common_factors)\n",
    "print(f\"Highest common factor of 48 and 84 are {gcd}\")"
   ]
  },
  {
   "cell_type": "markdown",
   "id": "55ee08dd",
   "metadata": {},
   "source": [
    "Question 15"
   ]
  },
  {
   "cell_type": "code",
   "execution_count": 17,
   "id": "2a6a9a43",
   "metadata": {
    "ExecuteTime": {
     "end_time": "2022-06-09T08:11:32.109845Z",
     "start_time": "2022-06-09T08:11:32.101355Z"
    }
   },
   "outputs": [
    {
     "name": "stdout",
     "output_type": "stream",
     "text": [
      "Original Dictionary {'name': 'ben', 'roll': 1, 'marks': [18, 17, 19], 'age': 11}\n"
     ]
    }
   ],
   "source": [
    "# Create a dictionary names student1 with following keys - name , roll , marks , age  and values - 'ben' ,1 ,[18,17,19],11\n",
    "student1={'name':'ben','roll':1,'marks':[18,17,19],'age':11}\n",
    "print(f\"Original Dictionary {student1}\")"
   ]
  },
  {
   "cell_type": "markdown",
   "id": "e97ad957",
   "metadata": {},
   "source": [
    "Question 16"
   ]
  },
  {
   "cell_type": "code",
   "execution_count": 18,
   "id": "88d36cd3",
   "metadata": {
    "ExecuteTime": {
     "end_time": "2022-06-09T08:11:38.835005Z",
     "start_time": "2022-06-09T08:11:38.816005Z"
    }
   },
   "outputs": [
    {
     "name": "stdout",
     "output_type": "stream",
     "text": [
      "Dictionary after updating age to 14 {'name': 'ben', 'roll': 1, 'marks': [18, 17, 19], 'age': 14}\n"
     ]
    }
   ],
   "source": [
    "# Update the age to 14 \n",
    "student1['age']=14\n",
    "print(f\"Dictionary after updating age to 14 {student1}\")"
   ]
  },
  {
   "cell_type": "markdown",
   "id": "d944cf13",
   "metadata": {},
   "source": [
    "Question 17"
   ]
  },
  {
   "cell_type": "code",
   "execution_count": 19,
   "id": "65f45b4b",
   "metadata": {
    "ExecuteTime": {
     "end_time": "2022-06-09T08:12:15.151383Z",
     "start_time": "2022-06-09T08:12:15.137382Z"
    }
   },
   "outputs": [
    {
     "name": "stdout",
     "output_type": "stream",
     "text": [
      "Dictionary after adding a new key {'name': 'ben', 'roll': 1, 'marks': [18, 17, 19], 'age': 14, 'maxmarks': 19}\n"
     ]
    }
   ],
   "source": [
    "# Add a new key maxmarks which contains maximum marks scored by student \n",
    "student1 ['maxmarks'] = max(student1['marks'])\n",
    "print(f\"Dictionary after adding a new key {student1}\")"
   ]
  },
  {
   "cell_type": "markdown",
   "id": "9f60e52f",
   "metadata": {},
   "source": [
    "Question 18"
   ]
  },
  {
   "cell_type": "code",
   "execution_count": 20,
   "id": "a38c4b08",
   "metadata": {
    "ExecuteTime": {
     "end_time": "2022-06-09T08:12:27.317620Z",
     "start_time": "2022-06-09T08:12:27.302621Z"
    }
   },
   "outputs": [
    {
     "name": "stdout",
     "output_type": "stream",
     "text": [
      "Dictionary after adding a new key {'roll': 1, 'marks': [18, 17, 19], 'age': 14, 'maxmarks': 19}\n"
     ]
    }
   ],
   "source": [
    "# Delete the key name from the dictionary \n",
    "del student1['name']\n",
    "print(f\"Dictionary after adding a new key {student1}\")"
   ]
  },
  {
   "cell_type": "markdown",
   "id": "f74ee466",
   "metadata": {},
   "source": [
    "Question 19"
   ]
  },
  {
   "cell_type": "code",
   "execution_count": 21,
   "id": "651f8c08",
   "metadata": {
    "ExecuteTime": {
     "end_time": "2022-06-09T08:12:31.811642Z",
     "start_time": "2022-06-09T08:12:31.794133Z"
    }
   },
   "outputs": [],
   "source": [
    "# Create a copy of the dictionary and store it in variable student2 \n",
    "student2=student1.copy()"
   ]
  },
  {
   "cell_type": "markdown",
   "id": "415fed78",
   "metadata": {},
   "source": [
    "Question 20"
   ]
  },
  {
   "cell_type": "code",
   "execution_count": 22,
   "id": "128441c2",
   "metadata": {
    "ExecuteTime": {
     "end_time": "2022-06-09T08:13:51.161952Z",
     "start_time": "2022-06-09T08:13:51.143462Z"
    }
   },
   "outputs": [
    {
     "name": "stdout",
     "output_type": "stream",
     "text": [
      "Student 1 - {'roll': 1, 'marks': [18, 17, 19], 'age': 14, 'maxmarks': 19}\n",
      "Student 2 - {'roll': 2, 'marks': [11, 17, 20], 'age': 14, 'maxmarks': 20}\n"
     ]
    }
   ],
   "source": [
    "# Change the key roll from 1 to 2 in student2 \n",
    "# Change the key marks  [11,17,20] in student2 \n",
    "# Update the maxmarks accordingly \n",
    "\n",
    "student2['roll']=2\n",
    "student2['marks']=[11,17,20]\n",
    "student2 ['maxmarks'] = max(student2['marks'])\n",
    "print(f\"Student 1 - {student1}\")\n",
    "print(f\"Student 2 - {student2}\")"
   ]
  },
  {
   "cell_type": "markdown",
   "id": "871cc905",
   "metadata": {},
   "source": [
    "Question 21"
   ]
  },
  {
   "cell_type": "code",
   "execution_count": 23,
   "id": "de9f7dfe",
   "metadata": {
    "ExecuteTime": {
     "end_time": "2022-06-09T08:14:41.941621Z",
     "start_time": "2022-06-09T08:14:41.925110Z"
    }
   },
   "outputs": [
    {
     "name": "stdout",
     "output_type": "stream",
     "text": [
      "[{'roll': 1, 'marks': [18, 17, 19], 'age': 14, 'maxmarks': 19}, {'roll': 2, 'marks': [11, 17, 20], 'age': 14, 'maxmarks': 20}]\n"
     ]
    }
   ],
   "source": [
    "# Create a list named listofstudents and add the two dictionaries as the items of the list \n",
    "listofstudents = [student1,student2]\n",
    "print(f\"{listofstudents}\")"
   ]
  }
 ],
 "metadata": {
  "hide_input": false,
  "kernelspec": {
   "display_name": "Python 3 (ipykernel)",
   "language": "python",
   "name": "python3"
  },
  "language_info": {
   "codemirror_mode": {
    "name": "ipython",
    "version": 3
   },
   "file_extension": ".py",
   "mimetype": "text/x-python",
   "name": "python",
   "nbconvert_exporter": "python",
   "pygments_lexer": "ipython3",
   "version": "3.9.7"
  },
  "latex_envs": {
   "LaTeX_envs_menu_present": true,
   "autoclose": false,
   "autocomplete": true,
   "bibliofile": "biblio.bib",
   "cite_by": "apalike",
   "current_citInitial": 1,
   "eqLabelWithNumbers": true,
   "eqNumInitial": 1,
   "hotkeys": {
    "equation": "Ctrl-E",
    "itemize": "Ctrl-I"
   },
   "labels_anchors": false,
   "latex_user_defs": false,
   "report_style_numbering": false,
   "user_envs_cfg": false
  },
  "toc": {
   "base_numbering": 1,
   "nav_menu": {},
   "number_sections": true,
   "sideBar": true,
   "skip_h1_title": false,
   "title_cell": "Table of Contents",
   "title_sidebar": "Contents",
   "toc_cell": false,
   "toc_position": {},
   "toc_section_display": true,
   "toc_window_display": false
  },
  "varInspector": {
   "cols": {
    "lenName": 16,
    "lenType": 16,
    "lenVar": 40
   },
   "kernels_config": {
    "python": {
     "delete_cmd_postfix": "",
     "delete_cmd_prefix": "del ",
     "library": "var_list.py",
     "varRefreshCmd": "print(var_dic_list())"
    },
    "r": {
     "delete_cmd_postfix": ") ",
     "delete_cmd_prefix": "rm(",
     "library": "var_list.r",
     "varRefreshCmd": "cat(var_dic_list()) "
    }
   },
   "types_to_exclude": [
    "module",
    "function",
    "builtin_function_or_method",
    "instance",
    "_Feature"
   ],
   "window_display": false
  }
 },
 "nbformat": 4,
 "nbformat_minor": 5
}
