{
 "cells": [
  {
   "cell_type": "code",
   "execution_count": 1,
   "id": "fdd5456f",
   "metadata": {},
   "outputs": [],
   "source": [
    "s=\"prashant\""
   ]
  },
  {
   "cell_type": "code",
   "execution_count": 1,
   "id": "5679b993",
   "metadata": {},
   "outputs": [],
   "source": [
    "l=[1,2,3,4]"
   ]
  },
  {
   "cell_type": "code",
   "execution_count": 2,
   "id": "2d93ca38",
   "metadata": {},
   "outputs": [
    {
     "ename": "TypeError",
     "evalue": "'list' object is not an iterator",
     "output_type": "error",
     "traceback": [
      "\u001b[1;31m---------------------------------------------------------------------------\u001b[0m",
      "\u001b[1;31mTypeError\u001b[0m                                 Traceback (most recent call last)",
      "\u001b[1;32mC:\\Users\\PRASHA~1\\AppData\\Local\\Temp/ipykernel_3248/2016234150.py\u001b[0m in \u001b[0;36m<module>\u001b[1;34m\u001b[0m\n\u001b[1;32m----> 1\u001b[1;33m \u001b[0mnext\u001b[0m\u001b[1;33m(\u001b[0m\u001b[0ml\u001b[0m\u001b[1;33m)\u001b[0m\u001b[1;33m\u001b[0m\u001b[1;33m\u001b[0m\u001b[0m\n\u001b[0m",
      "\u001b[1;31mTypeError\u001b[0m: 'list' object is not an iterator"
     ]
    }
   ],
   "source": [
    "next(l)"
   ]
  },
  {
   "cell_type": "code",
   "execution_count": 5,
   "id": "1ff7621d",
   "metadata": {},
   "outputs": [],
   "source": [
    "l=iter(l)"
   ]
  },
  {
   "cell_type": "code",
   "execution_count": 6,
   "id": "6bf5aebb",
   "metadata": {},
   "outputs": [
    {
     "data": {
      "text/plain": [
       "1"
      ]
     },
     "execution_count": 6,
     "metadata": {},
     "output_type": "execute_result"
    }
   ],
   "source": [
    "next(l)"
   ]
  },
  {
   "cell_type": "code",
   "execution_count": 7,
   "id": "0e1ed445",
   "metadata": {},
   "outputs": [
    {
     "data": {
      "text/plain": [
       "2"
      ]
     },
     "execution_count": 7,
     "metadata": {},
     "output_type": "execute_result"
    }
   ],
   "source": [
    "next(l)"
   ]
  },
  {
   "cell_type": "code",
   "execution_count": 8,
   "id": "4ab85daa",
   "metadata": {},
   "outputs": [
    {
     "data": {
      "text/plain": [
       "3"
      ]
     },
     "execution_count": 8,
     "metadata": {},
     "output_type": "execute_result"
    }
   ],
   "source": [
    "next(l)"
   ]
  },
  {
   "cell_type": "code",
   "execution_count": 9,
   "id": "3183a5f9",
   "metadata": {},
   "outputs": [
    {
     "data": {
      "text/plain": [
       "4"
      ]
     },
     "execution_count": 9,
     "metadata": {},
     "output_type": "execute_result"
    }
   ],
   "source": [
    "next(l)"
   ]
  },
  {
   "cell_type": "code",
   "execution_count": 10,
   "id": "829e57e3",
   "metadata": {},
   "outputs": [
    {
     "ename": "StopIteration",
     "evalue": "",
     "output_type": "error",
     "traceback": [
      "\u001b[1;31m---------------------------------------------------------------------------\u001b[0m",
      "\u001b[1;31mStopIteration\u001b[0m                             Traceback (most recent call last)",
      "\u001b[1;32mC:\\Users\\PRASHA~1\\AppData\\Local\\Temp/ipykernel_9124/2016234150.py\u001b[0m in \u001b[0;36m<module>\u001b[1;34m\u001b[0m\n\u001b[1;32m----> 1\u001b[1;33m \u001b[0mnext\u001b[0m\u001b[1;33m(\u001b[0m\u001b[0ml\u001b[0m\u001b[1;33m)\u001b[0m\u001b[1;33m\u001b[0m\u001b[1;33m\u001b[0m\u001b[0m\n\u001b[0m",
      "\u001b[1;31mStopIteration\u001b[0m: "
     ]
    }
   ],
   "source": [
    "next(l)"
   ]
  },
  {
   "cell_type": "code",
   "execution_count": 11,
   "id": "5edad478",
   "metadata": {},
   "outputs": [],
   "source": [
    "a=56"
   ]
  },
  {
   "cell_type": "code",
   "execution_count": 12,
   "id": "3df727f9",
   "metadata": {},
   "outputs": [
    {
     "ename": "TypeError",
     "evalue": "'int' object is not an iterator",
     "output_type": "error",
     "traceback": [
      "\u001b[1;31m---------------------------------------------------------------------------\u001b[0m",
      "\u001b[1;31mTypeError\u001b[0m                                 Traceback (most recent call last)",
      "\u001b[1;32mC:\\Users\\PRASHA~1\\AppData\\Local\\Temp/ipykernel_9124/1242322984.py\u001b[0m in \u001b[0;36m<module>\u001b[1;34m\u001b[0m\n\u001b[1;32m----> 1\u001b[1;33m \u001b[0mnext\u001b[0m\u001b[1;33m(\u001b[0m\u001b[0ma\u001b[0m\u001b[1;33m)\u001b[0m\u001b[1;33m\u001b[0m\u001b[1;33m\u001b[0m\u001b[0m\n\u001b[0m",
      "\u001b[1;31mTypeError\u001b[0m: 'int' object is not an iterator"
     ]
    }
   ],
   "source": [
    "next(a)"
   ]
  },
  {
   "cell_type": "code",
   "execution_count": 13,
   "id": "39925ad5",
   "metadata": {},
   "outputs": [
    {
     "ename": "TypeError",
     "evalue": "'int' object is not iterable",
     "output_type": "error",
     "traceback": [
      "\u001b[1;31m---------------------------------------------------------------------------\u001b[0m",
      "\u001b[1;31mTypeError\u001b[0m                                 Traceback (most recent call last)",
      "\u001b[1;32mC:\\Users\\PRASHA~1\\AppData\\Local\\Temp/ipykernel_9124/3390596645.py\u001b[0m in \u001b[0;36m<module>\u001b[1;34m\u001b[0m\n\u001b[1;32m----> 1\u001b[1;33m \u001b[0ma\u001b[0m\u001b[1;33m=\u001b[0m\u001b[0miter\u001b[0m\u001b[1;33m(\u001b[0m\u001b[0ma\u001b[0m\u001b[1;33m)\u001b[0m\u001b[1;33m\u001b[0m\u001b[1;33m\u001b[0m\u001b[0m\n\u001b[0m",
      "\u001b[1;31mTypeError\u001b[0m: 'int' object is not iterable"
     ]
    }
   ],
   "source": [
    "a=iter(a)"
   ]
  },
  {
   "cell_type": "code",
   "execution_count": 16,
   "id": "366043d9",
   "metadata": {},
   "outputs": [
    {
     "data": {
      "text/plain": [
       "[1, 2, 3, 4]"
      ]
     },
     "execution_count": 16,
     "metadata": {},
     "output_type": "execute_result"
    }
   ],
   "source": [
    "l"
   ]
  },
  {
   "cell_type": "code",
   "execution_count": 17,
   "id": "4a06b79e",
   "metadata": {},
   "outputs": [
    {
     "name": "stdout",
     "output_type": "stream",
     "text": [
      "1\n",
      "2\n",
      "3\n",
      "4\n"
     ]
    }
   ],
   "source": [
    "for i in l:\n",
    "    print(i)"
   ]
  },
  {
   "cell_type": "code",
   "execution_count": 18,
   "id": "0531e5c9",
   "metadata": {},
   "outputs": [
    {
     "data": {
      "text/plain": [
       "range(0, 45, 3)"
      ]
     },
     "execution_count": 18,
     "metadata": {},
     "output_type": "execute_result"
    }
   ],
   "source": [
    "range(0,45,3)"
   ]
  },
  {
   "cell_type": "code",
   "execution_count": 20,
   "id": "634653a6",
   "metadata": {},
   "outputs": [
    {
     "data": {
      "text/plain": [
       "[0, 3, 6, 9, 12, 15, 18, 21, 24, 27, 30, 33, 36, 39, 42]"
      ]
     },
     "execution_count": 20,
     "metadata": {},
     "output_type": "execute_result"
    }
   ],
   "source": [
    "list(range(0,45,3))"
   ]
  },
  {
   "cell_type": "code",
   "execution_count": 21,
   "id": "0b959d54",
   "metadata": {},
   "outputs": [],
   "source": [
    "def gencube(n):\n",
    "    for i in range(n):\n",
    "        return n**3"
   ]
  },
  {
   "cell_type": "code",
   "execution_count": 22,
   "id": "efc125e6",
   "metadata": {},
   "outputs": [
    {
     "data": {
      "text/plain": [
       "216"
      ]
     },
     "execution_count": 22,
     "metadata": {},
     "output_type": "execute_result"
    }
   ],
   "source": [
    "gencube(6)"
   ]
  },
  {
   "cell_type": "code",
   "execution_count": 23,
   "id": "e33a3612",
   "metadata": {},
   "outputs": [],
   "source": [
    "def gencube(n):\n",
    "    for i in range(n):\n",
    "        return i**3"
   ]
  },
  {
   "cell_type": "code",
   "execution_count": 24,
   "id": "ea169ca7",
   "metadata": {},
   "outputs": [
    {
     "data": {
      "text/plain": [
       "0"
      ]
     },
     "execution_count": 24,
     "metadata": {},
     "output_type": "execute_result"
    }
   ],
   "source": [
    "gencube(6)"
   ]
  },
  {
   "cell_type": "code",
   "execution_count": 26,
   "id": "787c1446",
   "metadata": {},
   "outputs": [],
   "source": [
    "def gencube(n):\n",
    "    for i in range(n):\n",
    "        print(i**3)"
   ]
  },
  {
   "cell_type": "code",
   "execution_count": 27,
   "id": "c082684a",
   "metadata": {},
   "outputs": [
    {
     "name": "stdout",
     "output_type": "stream",
     "text": [
      "0\n",
      "1\n",
      "8\n",
      "27\n",
      "64\n",
      "125\n"
     ]
    }
   ],
   "source": [
    "gencube(6)"
   ]
  },
  {
   "cell_type": "code",
   "execution_count": 28,
   "id": "615983e7",
   "metadata": {},
   "outputs": [],
   "source": [
    "def gencube(n):\n",
    "    l=[]\n",
    "    for i in range(n):\n",
    "        l.append(i**3)\n",
    "    return l"
   ]
  },
  {
   "cell_type": "code",
   "execution_count": 29,
   "id": "17b2d9af",
   "metadata": {},
   "outputs": [
    {
     "data": {
      "text/plain": [
       "[0, 1, 8, 27, 64, 125]"
      ]
     },
     "execution_count": 29,
     "metadata": {},
     "output_type": "execute_result"
    }
   ],
   "source": [
    "gencube(6)"
   ]
  },
  {
   "cell_type": "code",
   "execution_count": 32,
   "id": "316506f6",
   "metadata": {},
   "outputs": [],
   "source": [
    "def gencube(n):\n",
    "    for i in range(n):\n",
    "        yield i**3"
   ]
  },
  {
   "cell_type": "code",
   "execution_count": 33,
   "id": "d1b2bbfe",
   "metadata": {},
   "outputs": [
    {
     "data": {
      "text/plain": [
       "<generator object gencube at 0x0000023D46E97D60>"
      ]
     },
     "execution_count": 33,
     "metadata": {},
     "output_type": "execute_result"
    }
   ],
   "source": [
    "gencube(6)"
   ]
  },
  {
   "cell_type": "code",
   "execution_count": 34,
   "id": "456c2792",
   "metadata": {},
   "outputs": [
    {
     "name": "stdout",
     "output_type": "stream",
     "text": [
      "0\n",
      "1\n",
      "8\n",
      "27\n",
      "64\n",
      "125\n"
     ]
    }
   ],
   "source": [
    "for i in gencube(6):\n",
    "    print(i)"
   ]
  },
  {
   "cell_type": "code",
   "execution_count": 41,
   "id": "e24d8afd",
   "metadata": {},
   "outputs": [],
   "source": [
    "def fib(n):\n",
    "    a=0\n",
    "    b=1\n",
    "    for i in range(n):\n",
    "        yield a,i\n",
    "        a,b=b,a+b"
   ]
  },
  {
   "cell_type": "code",
   "execution_count": 42,
   "id": "b3124479",
   "metadata": {},
   "outputs": [
    {
     "name": "stdout",
     "output_type": "stream",
     "text": [
      "(0, 0)\n",
      "(1, 1)\n",
      "(1, 2)\n",
      "(2, 3)\n",
      "(3, 4)\n",
      "(5, 5)\n",
      "(8, 6)\n",
      "(13, 7)\n",
      "(21, 8)\n",
      "(34, 9)\n"
     ]
    }
   ],
   "source": [
    "for i in fib(10):\n",
    "    print(i)"
   ]
  },
  {
   "cell_type": "code",
   "execution_count": 46,
   "id": "d93ec9bc",
   "metadata": {},
   "outputs": [],
   "source": [
    "def fib1(n):\n",
    "    a=0\n",
    "    b=1\n",
    "    l=[]\n",
    "    for i in range(n):\n",
    "        l.append(a)\n",
    "        a,b=b,a+b\n",
    "    return l\n",
    "#this program is consuming heavy memory than previous one     "
   ]
  },
  {
   "cell_type": "code",
   "execution_count": 47,
   "id": "ce954e54",
   "metadata": {},
   "outputs": [
    {
     "data": {
      "text/plain": [
       "[0, 1, 1, 2, 3, 5, 8, 13, 21, 34]"
      ]
     },
     "execution_count": 47,
     "metadata": {},
     "output_type": "execute_result"
    }
   ],
   "source": [
    "fib1(10)"
   ]
  },
  {
   "cell_type": "code",
   "execution_count": 48,
   "id": "ab0a0561",
   "metadata": {},
   "outputs": [
    {
     "name": "stdout",
     "output_type": "stream",
     "text": [
      "I have to get job of above 50k per month in 2022\n"
     ]
    }
   ],
   "source": [
    "print(\"I have to get job of above 50k per month in 2022\")"
   ]
  },
  {
   "cell_type": "code",
   "execution_count": 58,
   "id": "d82c1ec1",
   "metadata": {},
   "outputs": [],
   "source": [
    "f=open(\"test1.txt\",\"w\")"
   ]
  },
  {
   "cell_type": "code",
   "execution_count": 51,
   "id": "d5f96747",
   "metadata": {},
   "outputs": [
    {
     "data": {
      "text/plain": [
       "['In',\n",
       " 'Out',\n",
       " '_',\n",
       " '_14',\n",
       " '_16',\n",
       " '_18',\n",
       " '_20',\n",
       " '_22',\n",
       " '_24',\n",
       " '_29',\n",
       " '_33',\n",
       " '_44',\n",
       " '_45',\n",
       " '_47',\n",
       " '_50',\n",
       " '_6',\n",
       " '_7',\n",
       " '_8',\n",
       " '_9',\n",
       " '__',\n",
       " '___',\n",
       " '__builtin__',\n",
       " '__builtins__',\n",
       " '__doc__',\n",
       " '__loader__',\n",
       " '__name__',\n",
       " '__package__',\n",
       " '__spec__',\n",
       " '_dh',\n",
       " '_i',\n",
       " '_i1',\n",
       " '_i10',\n",
       " '_i11',\n",
       " '_i12',\n",
       " '_i13',\n",
       " '_i14',\n",
       " '_i15',\n",
       " '_i16',\n",
       " '_i17',\n",
       " '_i18',\n",
       " '_i19',\n",
       " '_i2',\n",
       " '_i20',\n",
       " '_i21',\n",
       " '_i22',\n",
       " '_i23',\n",
       " '_i24',\n",
       " '_i25',\n",
       " '_i26',\n",
       " '_i27',\n",
       " '_i28',\n",
       " '_i29',\n",
       " '_i3',\n",
       " '_i30',\n",
       " '_i31',\n",
       " '_i32',\n",
       " '_i33',\n",
       " '_i34',\n",
       " '_i35',\n",
       " '_i36',\n",
       " '_i37',\n",
       " '_i38',\n",
       " '_i39',\n",
       " '_i4',\n",
       " '_i40',\n",
       " '_i41',\n",
       " '_i42',\n",
       " '_i43',\n",
       " '_i44',\n",
       " '_i45',\n",
       " '_i46',\n",
       " '_i47',\n",
       " '_i48',\n",
       " '_i49',\n",
       " '_i5',\n",
       " '_i50',\n",
       " '_i51',\n",
       " '_i6',\n",
       " '_i7',\n",
       " '_i8',\n",
       " '_i9',\n",
       " '_ih',\n",
       " '_ii',\n",
       " '_iii',\n",
       " '_oh',\n",
       " 'a',\n",
       " 'exit',\n",
       " 'f',\n",
       " 'fib',\n",
       " 'fib1',\n",
       " 'gencube',\n",
       " 'get_ipython',\n",
       " 'i',\n",
       " 'l',\n",
       " 'quit',\n",
       " 's']"
      ]
     },
     "execution_count": 51,
     "metadata": {},
     "output_type": "execute_result"
    }
   ],
   "source": [
    "dir()"
   ]
  },
  {
   "cell_type": "code",
   "execution_count": 52,
   "id": "846a32c5",
   "metadata": {},
   "outputs": [
    {
     "name": "stdout",
     "output_type": "stream",
     "text": [
      " Volume in drive C has no label.\n",
      " Volume Serial Number is 1E4D-DCE3\n",
      "\n",
      " Directory of C:\\Users\\PRASHANT KUMAR\n",
      "\n",
      "18-01-2022  14:30    <DIR>          .\n",
      "16-01-2022  13:18    <DIR>          ..\n",
      "15-12-2019  12:13    <DIR>          .anaconda\n",
      "14-02-2020  11:35    <DIR>          .android\n",
      "17-01-2020  11:04    <DIR>          .AndroidStudio3.5\n",
      "21-07-2020  17:20               145 .appletviewer\n",
      "11-05-2021  21:25               388 .bash_history\n",
      "29-06-2021  14:36    <DIR>          .cache\n",
      "04-12-2021  14:55    <DIR>          .conda\n",
      "15-10-2020  13:05                43 .condarc\n",
      "08-02-2020  15:55    <DIR>          .config\n",
      "28-11-2021  13:34    <DIR>          .continuum\n",
      "14-06-2020  13:49    <DIR>          .dotnet\n",
      "11-03-2020  18:33    <DIR>          .eclipse\n",
      "17-01-2020  11:55                16 .emulator_console_auth_token\n",
      "17-01-2020  11:55    <DIR>          .gradle\n",
      "07-02-2020  16:05    <DIR>          .idlerc\n",
      "18-01-2022  12:25    <DIR>          .ipynb_checkpoints\n",
      "15-12-2019  01:37    <DIR>          .ipython\n",
      "19-12-2021  11:28    <DIR>          .jupyter\n",
      "28-07-2020  20:31    <DIR>          .m2\n",
      "14-12-2019  15:17    <DIR>          .nbi\n",
      "29-06-2021  14:50    <DIR>          .p2\n",
      "02-12-2021  09:25    <DIR>          .spyder-py3\n",
      "11-03-2020  18:33    <DIR>          .tooling\n",
      "25-12-2021  16:01    <DIR>          .VirtualBox\n",
      "14-12-2019  18:39    <DIR>          .vscode\n",
      "26-12-2021  09:38             3,504 21st dec(for,while).ipynb\n",
      "24-08-2021  15:06    <DIR>          3D Objects\n",
      "14-02-2020  12:38    <DIR>          AndroidStudioProjects\n",
      "21-12-2021  12:45             7,578 conditional statement.ipynb\n",
      "16-01-2022  15:37    <DIR>          Contacts\n",
      "16-01-2022  15:37    <DIR>          Desktop\n",
      "16-01-2022  15:37    <DIR>          Documents\n",
      "17-01-2022  21:02    <DIR>          Downloads\n",
      "29-06-2021  14:05    <DIR>          eclipse\n",
      "29-06-2021  12:21    <DIR>          eclipse-workspace\n",
      "16-01-2022  15:37    <DIR>          Favorites\n",
      "24-12-2021  14:54            13,457 for, while,lambda.ipynb\n",
      "11-01-2022  16:25            34,720 function with argument,iterable,iterator.ipynb\n",
      "29-12-2021  12:40            14,911 Function(23th Dec).ipynb\n",
      "18-01-2022  14:29            12,468 generator.ipynb\n",
      "16-10-2021  14:43    <DIR>          IBA_IOAPDATA\n",
      "16-01-2022  15:37    <DIR>          Links\n",
      "16-01-2022  15:37    <DIR>          Music\n",
      "09-08-2021  08:35    <DIR>          OneDrive\n",
      "14-12-2019  15:55    <DIR>          Oracle\n",
      "16-01-2022  15:37    <DIR>          Pictures\n",
      "16-01-2022  15:37    <DIR>          Saved Games\n",
      "16-01-2022  15:37    <DIR>          Searches\n",
      "14-12-2019  18:13    <DIR>          source\n",
      "16-11-2020  19:41       114,273,560 Teams_windows_x64.exe\n",
      "18-01-2022  14:30                 0 text.txt\n",
      "28-11-2021  09:11    <DIR>          Tracing\n",
      "04-12-2021  10:46               929 Untitled.ipynb\n",
      "04-12-2021  14:23            14,021 Untitled1.ipynb\n",
      "26-12-2021  13:29                72 Untitled10.ipynb\n",
      "28-12-2021  09:41                72 Untitled11.ipynb\n",
      "05-01-2022  11:23               588 Untitled12.ipynb\n",
      "06-01-2022  12:28             2,176 Untitled13.ipynb\n",
      "08-01-2022  11:27             1,063 Untitled14.ipynb\n",
      "11-01-2022  16:09            34,720 Untitled15.ipynb\n",
      "12-01-2022  14:08             4,789 Untitled16.ipynb\n",
      "12-01-2022  17:35             1,608 Untitled17.ipynb\n",
      "14-01-2022  19:47               588 Untitled18.ipynb\n",
      "05-12-2021  13:48            15,628 Untitled2.ipynb\n",
      "18-12-2021  15:27            17,346 Untitled3.ipynb\n",
      "19-12-2021  10:31             1,029 Untitled4.ipynb\n",
      "19-12-2021  12:54             7,580 Untitled5.ipynb\n",
      "21-12-2021  12:33             3,794 Untitled6.ipynb\n",
      "23-12-2021  18:31             1,078 Untitled7.ipynb\n",
      "26-12-2021  08:22                72 Untitled8.ipynb\n",
      "26-12-2021  10:25               932 Untitled9.ipynb\n",
      "16-01-2022  15:37    <DIR>          Videos\n",
      "16-11-2020  19:16       102,233,600 webexapp.msi\n",
      "27-12-2021  10:39            10,289 while.ipynb\n",
      "              33 File(s)    216,712,764 bytes\n",
      "              43 Dir(s)  96,887,431,168 bytes free\n"
     ]
    }
   ],
   "source": [
    "ls"
   ]
  },
  {
   "cell_type": "code",
   "execution_count": 53,
   "id": "8fa8010a",
   "metadata": {},
   "outputs": [
    {
     "data": {
      "text/plain": [
       "'C:\\\\Users\\\\PRASHANT KUMAR'"
      ]
     },
     "execution_count": 53,
     "metadata": {},
     "output_type": "execute_result"
    }
   ],
   "source": [
    "pwd()"
   ]
  },
  {
   "cell_type": "code",
   "execution_count": 59,
   "id": "44ac94ef",
   "metadata": {},
   "outputs": [
    {
     "name": "stdout",
     "output_type": "stream",
     "text": [
      " Volume in drive C has no label.\n",
      " Volume Serial Number is 1E4D-DCE3\n",
      "\n",
      " Directory of C:\\Users\\PRASHANT KUMAR\n",
      "\n",
      "18-01-2022  14:34    <DIR>          .\n",
      "16-01-2022  13:18    <DIR>          ..\n",
      "15-12-2019  12:13    <DIR>          .anaconda\n",
      "14-02-2020  11:35    <DIR>          .android\n",
      "17-01-2020  11:04    <DIR>          .AndroidStudio3.5\n",
      "21-07-2020  17:20               145 .appletviewer\n",
      "11-05-2021  21:25               388 .bash_history\n",
      "29-06-2021  14:36    <DIR>          .cache\n",
      "04-12-2021  14:55    <DIR>          .conda\n",
      "15-10-2020  13:05                43 .condarc\n",
      "08-02-2020  15:55    <DIR>          .config\n",
      "28-11-2021  13:34    <DIR>          .continuum\n",
      "14-06-2020  13:49    <DIR>          .dotnet\n",
      "11-03-2020  18:33    <DIR>          .eclipse\n",
      "17-01-2020  11:55                16 .emulator_console_auth_token\n",
      "17-01-2020  11:55    <DIR>          .gradle\n",
      "07-02-2020  16:05    <DIR>          .idlerc\n",
      "18-01-2022  12:25    <DIR>          .ipynb_checkpoints\n",
      "15-12-2019  01:37    <DIR>          .ipython\n",
      "19-12-2021  11:28    <DIR>          .jupyter\n",
      "28-07-2020  20:31    <DIR>          .m2\n",
      "14-12-2019  15:17    <DIR>          .nbi\n",
      "29-06-2021  14:50    <DIR>          .p2\n",
      "02-12-2021  09:25    <DIR>          .spyder-py3\n",
      "11-03-2020  18:33    <DIR>          .tooling\n",
      "25-12-2021  16:01    <DIR>          .VirtualBox\n",
      "14-12-2019  18:39    <DIR>          .vscode\n",
      "26-12-2021  09:38             3,504 21st dec(for,while).ipynb\n",
      "24-08-2021  15:06    <DIR>          3D Objects\n",
      "14-02-2020  12:38    <DIR>          AndroidStudioProjects\n",
      "21-12-2021  12:45             7,578 conditional statement.ipynb\n",
      "16-01-2022  15:37    <DIR>          Contacts\n",
      "16-01-2022  15:37    <DIR>          Desktop\n",
      "16-01-2022  15:37    <DIR>          Documents\n",
      "17-01-2022  21:02    <DIR>          Downloads\n",
      "29-06-2021  14:05    <DIR>          eclipse\n",
      "29-06-2021  12:21    <DIR>          eclipse-workspace\n",
      "16-01-2022  15:37    <DIR>          Favorites\n",
      "24-12-2021  14:54            13,457 for, while,lambda.ipynb\n",
      "11-01-2022  16:25            34,720 function with argument,iterable,iterator.ipynb\n",
      "29-12-2021  12:40            14,911 Function(23th Dec).ipynb\n",
      "18-01-2022  14:34            25,496 generator.ipynb\n",
      "16-10-2021  14:43    <DIR>          IBA_IOAPDATA\n",
      "16-01-2022  15:37    <DIR>          Links\n",
      "16-01-2022  15:37    <DIR>          Music\n",
      "09-08-2021  08:35    <DIR>          OneDrive\n",
      "14-12-2019  15:55    <DIR>          Oracle\n",
      "16-01-2022  15:37    <DIR>          Pictures\n",
      "16-01-2022  15:37    <DIR>          Saved Games\n",
      "16-01-2022  15:37    <DIR>          Searches\n",
      "14-12-2019  18:13    <DIR>          source\n",
      "16-11-2020  19:41       114,273,560 Teams_windows_x64.exe\n",
      "18-01-2022  14:34                 0 test.txt\n",
      "18-01-2022  14:34                 0 test1.txt\n",
      "18-01-2022  14:30                 0 text.txt\n",
      "28-11-2021  09:11    <DIR>          Tracing\n",
      "04-12-2021  10:46               929 Untitled.ipynb\n",
      "04-12-2021  14:23            14,021 Untitled1.ipynb\n",
      "26-12-2021  13:29                72 Untitled10.ipynb\n",
      "28-12-2021  09:41                72 Untitled11.ipynb\n",
      "05-01-2022  11:23               588 Untitled12.ipynb\n",
      "06-01-2022  12:28             2,176 Untitled13.ipynb\n",
      "08-01-2022  11:27             1,063 Untitled14.ipynb\n",
      "11-01-2022  16:09            34,720 Untitled15.ipynb\n",
      "12-01-2022  14:08             4,789 Untitled16.ipynb\n",
      "12-01-2022  17:35             1,608 Untitled17.ipynb\n",
      "14-01-2022  19:47               588 Untitled18.ipynb\n",
      "05-12-2021  13:48            15,628 Untitled2.ipynb\n",
      "18-12-2021  15:27            17,346 Untitled3.ipynb\n",
      "19-12-2021  10:31             1,029 Untitled4.ipynb\n",
      "19-12-2021  12:54             7,580 Untitled5.ipynb\n",
      "21-12-2021  12:33             3,794 Untitled6.ipynb\n",
      "23-12-2021  18:31             1,078 Untitled7.ipynb\n",
      "26-12-2021  08:22                72 Untitled8.ipynb\n",
      "26-12-2021  10:25               932 Untitled9.ipynb\n",
      "16-01-2022  15:37    <DIR>          Videos\n",
      "16-11-2020  19:16       102,233,600 webexapp.msi\n",
      "27-12-2021  10:39            10,289 while.ipynb\n",
      "              35 File(s)    216,725,792 bytes\n",
      "              43 Dir(s)  96,887,156,736 bytes free\n"
     ]
    }
   ],
   "source": [
    "%ls"
   ]
  },
  {
   "cell_type": "code",
   "execution_count": 60,
   "id": "1a277044",
   "metadata": {},
   "outputs": [],
   "source": [
    "f=open(\"test1.txt\",\"w\")"
   ]
  },
  {
   "cell_type": "code",
   "execution_count": 61,
   "id": "ad8ad1e0",
   "metadata": {},
   "outputs": [
    {
     "data": {
      "text/plain": [
       "52"
      ]
     },
     "execution_count": 61,
     "metadata": {},
     "output_type": "execute_result"
    }
   ],
   "source": [
    "f.write(\"this is my first operation to something in test1.txt\")"
   ]
  },
  {
   "cell_type": "code",
   "execution_count": 62,
   "id": "881b7f86",
   "metadata": {},
   "outputs": [],
   "source": [
    "f.close()"
   ]
  },
  {
   "cell_type": "code",
   "execution_count": 63,
   "id": "fcbcb79c",
   "metadata": {},
   "outputs": [
    {
     "name": "stdout",
     "output_type": "stream",
     "text": [
      "Writing test2.txt\n"
     ]
    }
   ],
   "source": [
    "%%writefile test2.txt\n",
    "i am prashant kumar"
   ]
  },
  {
   "cell_type": "code",
   "execution_count": 64,
   "id": "ebdd249e",
   "metadata": {},
   "outputs": [
    {
     "name": "stdout",
     "output_type": "stream",
     "text": [
      " Volume in drive C has no label.\n",
      " Volume Serial Number is 1E4D-DCE3\n",
      "\n",
      " Directory of C:\\Users\\PRASHANT KUMAR\n",
      "\n",
      "18-01-2022  14:41    <DIR>          .\n",
      "16-01-2022  13:18    <DIR>          ..\n",
      "15-12-2019  12:13    <DIR>          .anaconda\n",
      "14-02-2020  11:35    <DIR>          .android\n",
      "17-01-2020  11:04    <DIR>          .AndroidStudio3.5\n",
      "21-07-2020  17:20               145 .appletviewer\n",
      "11-05-2021  21:25               388 .bash_history\n",
      "29-06-2021  14:36    <DIR>          .cache\n",
      "04-12-2021  14:55    <DIR>          .conda\n",
      "15-10-2020  13:05                43 .condarc\n",
      "08-02-2020  15:55    <DIR>          .config\n",
      "28-11-2021  13:34    <DIR>          .continuum\n",
      "14-06-2020  13:49    <DIR>          .dotnet\n",
      "11-03-2020  18:33    <DIR>          .eclipse\n",
      "17-01-2020  11:55                16 .emulator_console_auth_token\n",
      "17-01-2020  11:55    <DIR>          .gradle\n",
      "07-02-2020  16:05    <DIR>          .idlerc\n",
      "18-01-2022  12:25    <DIR>          .ipynb_checkpoints\n",
      "15-12-2019  01:37    <DIR>          .ipython\n",
      "19-12-2021  11:28    <DIR>          .jupyter\n",
      "28-07-2020  20:31    <DIR>          .m2\n",
      "14-12-2019  15:17    <DIR>          .nbi\n",
      "29-06-2021  14:50    <DIR>          .p2\n",
      "02-12-2021  09:25    <DIR>          .spyder-py3\n",
      "11-03-2020  18:33    <DIR>          .tooling\n",
      "25-12-2021  16:01    <DIR>          .VirtualBox\n",
      "14-12-2019  18:39    <DIR>          .vscode\n",
      "26-12-2021  09:38             3,504 21st dec(for,while).ipynb\n",
      "24-08-2021  15:06    <DIR>          3D Objects\n",
      "14-02-2020  12:38    <DIR>          AndroidStudioProjects\n",
      "21-12-2021  12:45             7,578 conditional statement.ipynb\n",
      "16-01-2022  15:37    <DIR>          Contacts\n",
      "16-01-2022  15:37    <DIR>          Desktop\n",
      "16-01-2022  15:37    <DIR>          Documents\n",
      "17-01-2022  21:02    <DIR>          Downloads\n",
      "29-06-2021  14:05    <DIR>          eclipse\n",
      "29-06-2021  12:21    <DIR>          eclipse-workspace\n",
      "16-01-2022  15:37    <DIR>          Favorites\n",
      "24-12-2021  14:54            13,457 for, while,lambda.ipynb\n",
      "11-01-2022  16:25            34,720 function with argument,iterable,iterator.ipynb\n",
      "29-12-2021  12:40            14,911 Function(23th Dec).ipynb\n",
      "18-01-2022  14:41            26,566 generator.ipynb\n",
      "16-10-2021  14:43    <DIR>          IBA_IOAPDATA\n",
      "16-01-2022  15:37    <DIR>          Links\n",
      "16-01-2022  15:37    <DIR>          Music\n",
      "09-08-2021  08:35    <DIR>          OneDrive\n",
      "14-12-2019  15:55    <DIR>          Oracle\n",
      "16-01-2022  15:37    <DIR>          Pictures\n",
      "16-01-2022  15:37    <DIR>          Saved Games\n",
      "16-01-2022  15:37    <DIR>          Searches\n",
      "14-12-2019  18:13    <DIR>          source\n",
      "16-11-2020  19:41       114,273,560 Teams_windows_x64.exe\n",
      "18-01-2022  14:34                 0 test.txt\n",
      "18-01-2022  14:38                52 test1.txt\n",
      "18-01-2022  14:40                21 test2.txt\n",
      "18-01-2022  14:30                 0 text.txt\n",
      "28-11-2021  09:11    <DIR>          Tracing\n",
      "04-12-2021  10:46               929 Untitled.ipynb\n",
      "04-12-2021  14:23            14,021 Untitled1.ipynb\n",
      "26-12-2021  13:29                72 Untitled10.ipynb\n",
      "28-12-2021  09:41                72 Untitled11.ipynb\n",
      "05-01-2022  11:23               588 Untitled12.ipynb\n",
      "06-01-2022  12:28             2,176 Untitled13.ipynb\n",
      "08-01-2022  11:27             1,063 Untitled14.ipynb\n",
      "11-01-2022  16:09            34,720 Untitled15.ipynb\n",
      "12-01-2022  14:08             4,789 Untitled16.ipynb\n",
      "12-01-2022  17:35             1,608 Untitled17.ipynb\n",
      "14-01-2022  19:47               588 Untitled18.ipynb\n",
      "05-12-2021  13:48            15,628 Untitled2.ipynb\n",
      "18-12-2021  15:27            17,346 Untitled3.ipynb\n",
      "19-12-2021  10:31             1,029 Untitled4.ipynb\n",
      "19-12-2021  12:54             7,580 Untitled5.ipynb\n",
      "21-12-2021  12:33             3,794 Untitled6.ipynb\n",
      "23-12-2021  18:31             1,078 Untitled7.ipynb\n",
      "26-12-2021  08:22                72 Untitled8.ipynb\n",
      "26-12-2021  10:25               932 Untitled9.ipynb\n",
      "16-01-2022  15:37    <DIR>          Videos\n",
      "16-11-2020  19:16       102,233,600 webexapp.msi\n",
      "27-12-2021  10:39            10,289 while.ipynb\n",
      "              36 File(s)    216,726,935 bytes\n",
      "              43 Dir(s)  96,884,785,152 bytes free\n"
     ]
    }
   ],
   "source": [
    "%ls"
   ]
  },
  {
   "cell_type": "code",
   "execution_count": 65,
   "id": "59c18790",
   "metadata": {},
   "outputs": [],
   "source": [
    "f=open(\"test1.txt\")"
   ]
  },
  {
   "cell_type": "code",
   "execution_count": 66,
   "id": "955bc1fa",
   "metadata": {},
   "outputs": [
    {
     "data": {
      "text/plain": [
       "'this is my first operation to something in test1.txt'"
      ]
     },
     "execution_count": 66,
     "metadata": {},
     "output_type": "execute_result"
    }
   ],
   "source": [
    "f.read()"
   ]
  },
  {
   "cell_type": "code",
   "execution_count": 67,
   "id": "9acb55ad",
   "metadata": {},
   "outputs": [
    {
     "ename": "UnsupportedOperation",
     "evalue": "not writable",
     "output_type": "error",
     "traceback": [
      "\u001b[1;31m---------------------------------------------------------------------------\u001b[0m",
      "\u001b[1;31mUnsupportedOperation\u001b[0m                      Traceback (most recent call last)",
      "\u001b[1;32mC:\\Users\\PRASHA~1\\AppData\\Local\\Temp/ipykernel_9124/3870758794.py\u001b[0m in \u001b[0;36m<module>\u001b[1;34m\u001b[0m\n\u001b[1;32m----> 1\u001b[1;33m \u001b[0mf\u001b[0m\u001b[1;33m.\u001b[0m\u001b[0mwrite\u001b[0m\u001b[1;33m(\u001b[0m\u001b[1;34m\"fhuierhferj\"\u001b[0m\u001b[1;33m)\u001b[0m\u001b[1;33m\u001b[0m\u001b[1;33m\u001b[0m\u001b[0m\n\u001b[0m",
      "\u001b[1;31mUnsupportedOperation\u001b[0m: not writable"
     ]
    }
   ],
   "source": [
    "f.write(\"fhuierhferj\")"
   ]
  },
  {
   "cell_type": "code",
   "execution_count": 68,
   "id": "7e0d453b",
   "metadata": {},
   "outputs": [
    {
     "data": {
      "text/plain": [
       "''"
      ]
     },
     "execution_count": 68,
     "metadata": {},
     "output_type": "execute_result"
    }
   ],
   "source": [
    "f.read()"
   ]
  },
  {
   "cell_type": "code",
   "execution_count": 71,
   "id": "3b38f84c",
   "metadata": {},
   "outputs": [],
   "source": [
    "f.close()"
   ]
  },
  {
   "cell_type": "code",
   "execution_count": 73,
   "id": "2c308dc2",
   "metadata": {},
   "outputs": [],
   "source": [
    "f=open(\"test1.txt\")"
   ]
  },
  {
   "cell_type": "code",
   "execution_count": 74,
   "id": "99ffde91",
   "metadata": {},
   "outputs": [
    {
     "data": {
      "text/plain": [
       "5"
      ]
     },
     "execution_count": 74,
     "metadata": {},
     "output_type": "execute_result"
    }
   ],
   "source": [
    "f.seek(5)"
   ]
  },
  {
   "cell_type": "code",
   "execution_count": 75,
   "id": "1d6cbe93",
   "metadata": {},
   "outputs": [
    {
     "data": {
      "text/plain": [
       "'is my first operation to something in test1.txt'"
      ]
     },
     "execution_count": 75,
     "metadata": {},
     "output_type": "execute_result"
    }
   ],
   "source": [
    "f.read()"
   ]
  },
  {
   "cell_type": "code",
   "execution_count": 77,
   "id": "81d0f48d",
   "metadata": {},
   "outputs": [
    {
     "data": {
      "text/plain": [
       "52"
      ]
     },
     "execution_count": 77,
     "metadata": {},
     "output_type": "execute_result"
    }
   ],
   "source": [
    "f.tell()\n",
    "#position of cursor"
   ]
  },
  {
   "cell_type": "code",
   "execution_count": 78,
   "id": "5d465eb2",
   "metadata": {},
   "outputs": [
    {
     "data": {
      "text/plain": [
       "''"
      ]
     },
     "execution_count": 78,
     "metadata": {},
     "output_type": "execute_result"
    }
   ],
   "source": [
    "f.readline()"
   ]
  },
  {
   "cell_type": "code",
   "execution_count": 79,
   "id": "348b8b5e",
   "metadata": {},
   "outputs": [
    {
     "data": {
      "text/plain": [
       "0"
      ]
     },
     "execution_count": 79,
     "metadata": {},
     "output_type": "execute_result"
    }
   ],
   "source": [
    "f.seek(0)"
   ]
  },
  {
   "cell_type": "code",
   "execution_count": 80,
   "id": "5f90f153",
   "metadata": {},
   "outputs": [
    {
     "data": {
      "text/plain": [
       "'this is my first operation to something in test1.txt'"
      ]
     },
     "execution_count": 80,
     "metadata": {},
     "output_type": "execute_result"
    }
   ],
   "source": [
    "f.readline()"
   ]
  },
  {
   "cell_type": "code",
   "execution_count": 81,
   "id": "c00ad270",
   "metadata": {},
   "outputs": [
    {
     "data": {
      "text/plain": [
       "0"
      ]
     },
     "execution_count": 81,
     "metadata": {},
     "output_type": "execute_result"
    }
   ],
   "source": [
    "f.seek(0)"
   ]
  },
  {
   "cell_type": "code",
   "execution_count": 82,
   "id": "ab76a79c",
   "metadata": {},
   "outputs": [
    {
     "data": {
      "text/plain": [
       "\"this is my first operation to something in test1.txt\\nGoogle LLC is an American multinational technology company that specializes in Internet-related services and products, which include online advertising technologies, a search engine, cloud computing, software, and hardware. It is considered one of the Big Five companies in the American information technology industry, along with Amazon, Apple, Meta (Facebook) and Microsoft.[10]\\n\\nGoogle was founded on September 4, 1998, by Larry Page and Sergey Brin while they were Ph.D. students at Stanford University in California. Together they own about 14% of its publicly-listed shares and control 56% of the stockholder voting power through super-voting stock. The company went public via an initial public offering (IPO) in 2004. In 2015, Google was reorganized as a wholly-owned subsidiary of Alphabet Inc.. Google is Alphabet's largest subsidiary and is a holding company for Alphabet's Internet properties and interests. Sundar Pichai was appointed CEO of Google on October 24, 2015, replacing Larry Page, who became the CEO of Alphabet. On December 3, 2019, Pichai also became the CEO of Alphabet.[11]\\n\\nIn 2021, the Alphabet Workers Union was founded, mainly composed of Google employees.[12]\""
      ]
     },
     "execution_count": 82,
     "metadata": {},
     "output_type": "execute_result"
    }
   ],
   "source": [
    "f.read()"
   ]
  },
  {
   "cell_type": "code",
   "execution_count": 83,
   "id": "8cc1d039",
   "metadata": {},
   "outputs": [
    {
     "data": {
      "text/plain": [
       "''"
      ]
     },
     "execution_count": 83,
     "metadata": {},
     "output_type": "execute_result"
    }
   ],
   "source": [
    "f.readline()"
   ]
  },
  {
   "cell_type": "code",
   "execution_count": 84,
   "id": "588d1b9e",
   "metadata": {},
   "outputs": [
    {
     "data": {
      "text/plain": [
       "0"
      ]
     },
     "execution_count": 84,
     "metadata": {},
     "output_type": "execute_result"
    }
   ],
   "source": [
    "f.seek(0)"
   ]
  },
  {
   "cell_type": "code",
   "execution_count": 85,
   "id": "46810c25",
   "metadata": {},
   "outputs": [
    {
     "data": {
      "text/plain": [
       "'this is my first operation to something in test1.txt\\n'"
      ]
     },
     "execution_count": 85,
     "metadata": {},
     "output_type": "execute_result"
    }
   ],
   "source": [
    "f.readline()"
   ]
  },
  {
   "cell_type": "code",
   "execution_count": 86,
   "id": "5e7b6e51",
   "metadata": {},
   "outputs": [
    {
     "data": {
      "text/plain": [
       "'Google LLC is an American multinational technology company that specializes in Internet-related services and products, which include online advertising technologies, a search engine, cloud computing, software, and hardware. It is considered one of the Big Five companies in the American information technology industry, along with Amazon, Apple, Meta (Facebook) and Microsoft.[10]\\n'"
      ]
     },
     "execution_count": 86,
     "metadata": {},
     "output_type": "execute_result"
    }
   ],
   "source": [
    "f.readline()"
   ]
  },
  {
   "cell_type": "code",
   "execution_count": 87,
   "id": "8139cd44",
   "metadata": {},
   "outputs": [
    {
     "data": {
      "text/plain": [
       "'\\n'"
      ]
     },
     "execution_count": 87,
     "metadata": {},
     "output_type": "execute_result"
    }
   ],
   "source": [
    "f.readline()"
   ]
  },
  {
   "cell_type": "code",
   "execution_count": 88,
   "id": "75bd25c8",
   "metadata": {},
   "outputs": [
    {
     "data": {
      "text/plain": [
       "\"Google was founded on September 4, 1998, by Larry Page and Sergey Brin while they were Ph.D. students at Stanford University in California. Together they own about 14% of its publicly-listed shares and control 56% of the stockholder voting power through super-voting stock. The company went public via an initial public offering (IPO) in 2004. In 2015, Google was reorganized as a wholly-owned subsidiary of Alphabet Inc.. Google is Alphabet's largest subsidiary and is a holding company for Alphabet's Internet properties and interests. Sundar Pichai was appointed CEO of Google on October 24, 2015, replacing Larry Page, who became the CEO of Alphabet. On December 3, 2019, Pichai also became the CEO of Alphabet.[11]\\n\""
      ]
     },
     "execution_count": 88,
     "metadata": {},
     "output_type": "execute_result"
    }
   ],
   "source": [
    "f.readline()"
   ]
  },
  {
   "cell_type": "code",
   "execution_count": 89,
   "id": "c519a725",
   "metadata": {},
   "outputs": [
    {
     "data": {
      "text/plain": [
       "'\\n'"
      ]
     },
     "execution_count": 89,
     "metadata": {},
     "output_type": "execute_result"
    }
   ],
   "source": [
    "f.readline()"
   ]
  },
  {
   "cell_type": "code",
   "execution_count": 90,
   "id": "7625443f",
   "metadata": {},
   "outputs": [
    {
     "data": {
      "text/plain": [
       "'In 2021, the Alphabet Workers Union was founded, mainly composed of Google employees.[12]'"
      ]
     },
     "execution_count": 90,
     "metadata": {},
     "output_type": "execute_result"
    }
   ],
   "source": [
    "f.readline()"
   ]
  },
  {
   "cell_type": "code",
   "execution_count": 91,
   "id": "4bd946c7",
   "metadata": {},
   "outputs": [
    {
     "data": {
      "text/plain": [
       "''"
      ]
     },
     "execution_count": 91,
     "metadata": {},
     "output_type": "execute_result"
    }
   ],
   "source": [
    "f.readline()"
   ]
  },
  {
   "cell_type": "code",
   "execution_count": 92,
   "id": "20a2f527",
   "metadata": {},
   "outputs": [
    {
     "data": {
      "text/plain": [
       "0"
      ]
     },
     "execution_count": 92,
     "metadata": {},
     "output_type": "execute_result"
    }
   ],
   "source": [
    "f.seek(0)"
   ]
  },
  {
   "cell_type": "code",
   "execution_count": 93,
   "id": "c20ebee9",
   "metadata": {},
   "outputs": [],
   "source": [
    "f.close()"
   ]
  },
  {
   "cell_type": "code",
   "execution_count": 97,
   "id": "f244ddab",
   "metadata": {},
   "outputs": [
    {
     "name": "stdout",
     "output_type": "stream",
     "text": [
      "this is my first operation to something in test1.txt\n",
      " Google LLC is an American multinational technology company that specializes in Internet-related services and products, which include online advertising technologies, a search engine, cloud computing, software, and hardware. It is considered one of the Big Five companies in the American information technology industry, along with Amazon, Apple, Meta (Facebook) and Microsoft.[10]\n",
      " \n",
      " Google was founded on September 4, 1998, by Larry Page and Sergey Brin while they were Ph.D. students at Stanford University in California. Together they own about 14% of its publicly-listed shares and control 56% of the stockholder voting power through super-voting stock. The company went public via an initial public offering (IPO) in 2004. In 2015, Google was reorganized as a wholly-owned subsidiary of Alphabet Inc.. Google is Alphabet's largest subsidiary and is a holding company for Alphabet's Internet properties and interests. Sundar Pichai was appointed CEO of Google on October 24, 2015, replacing Larry Page, who became the CEO of Alphabet. On December 3, 2019, Pichai also became the CEO of Alphabet.[11]\n",
      " \n",
      " In 2021, the Alphabet Workers Union was founded, mainly composed of Google employees.[12] "
     ]
    }
   ],
   "source": [
    "f=open(\"test1.txt\",\"r+\")\n",
    "for i in f:\n",
    "    print(i,end=\" \")"
   ]
  },
  {
   "cell_type": "code",
   "execution_count": 99,
   "id": "6496f8a0",
   "metadata": {},
   "outputs": [
    {
     "data": {
      "text/plain": [
       "21"
      ]
     },
     "execution_count": 99,
     "metadata": {},
     "output_type": "execute_result"
    }
   ],
   "source": [
    "f.write(\"begrafkjeigerjnklfjij\")\n",
    "#r+ is used for both read and write mode"
   ]
  },
  {
   "cell_type": "code",
   "execution_count": 100,
   "id": "77c8aee6",
   "metadata": {},
   "outputs": [],
   "source": [
    "f.close()"
   ]
  },
  {
   "cell_type": "code",
   "execution_count": 101,
   "id": "fc6b007f",
   "metadata": {},
   "outputs": [],
   "source": [
    "f=open(\"test1.txt\",\"r+\")"
   ]
  },
  {
   "cell_type": "code",
   "execution_count": 102,
   "id": "101c445b",
   "metadata": {},
   "outputs": [
    {
     "data": {
      "text/plain": [
       "4"
      ]
     },
     "execution_count": 102,
     "metadata": {},
     "output_type": "execute_result"
    }
   ],
   "source": [
    "f.seek(4)"
   ]
  },
  {
   "cell_type": "code",
   "execution_count": 103,
   "id": "590d6a75",
   "metadata": {},
   "outputs": [
    {
     "data": {
      "text/plain": [
       "8"
      ]
     },
     "execution_count": 103,
     "metadata": {},
     "output_type": "execute_result"
    }
   ],
   "source": [
    "f.write(\"prashant\")"
   ]
  },
  {
   "cell_type": "code",
   "execution_count": 104,
   "id": "0766b724",
   "metadata": {},
   "outputs": [],
   "source": [
    "f.close()"
   ]
  },
  {
   "cell_type": "code",
   "execution_count": 132,
   "id": "5de58101",
   "metadata": {},
   "outputs": [],
   "source": [
    "f=open(\"test1.txt\",\"r+\")"
   ]
  },
  {
   "cell_type": "code",
   "execution_count": 133,
   "id": "d734b687",
   "metadata": {},
   "outputs": [
    {
     "data": {
      "text/plain": [
       "6"
      ]
     },
     "execution_count": 133,
     "metadata": {},
     "output_type": "execute_result"
    }
   ],
   "source": [
    "len(f.readlines())"
   ]
  },
  {
   "cell_type": "code",
   "execution_count": 134,
   "id": "a8a54160",
   "metadata": {},
   "outputs": [],
   "source": [
    "l=f.readlines()"
   ]
  },
  {
   "cell_type": "code",
   "execution_count": 135,
   "id": "15cb56d2",
   "metadata": {},
   "outputs": [
    {
     "data": {
      "text/plain": [
       "[]"
      ]
     },
     "execution_count": 135,
     "metadata": {},
     "output_type": "execute_result"
    }
   ],
   "source": [
    "l"
   ]
  },
  {
   "cell_type": "code",
   "execution_count": 136,
   "id": "9d5860dc",
   "metadata": {},
   "outputs": [
    {
     "ename": "IndexError",
     "evalue": "list index out of range",
     "output_type": "error",
     "traceback": [
      "\u001b[1;31m---------------------------------------------------------------------------\u001b[0m",
      "\u001b[1;31mIndexError\u001b[0m                                Traceback (most recent call last)",
      "\u001b[1;32mC:\\Users\\PRASHA~1\\AppData\\Local\\Temp/ipykernel_9124/717044451.py\u001b[0m in \u001b[0;36m<module>\u001b[1;34m\u001b[0m\n\u001b[1;32m----> 1\u001b[1;33m \u001b[0ml\u001b[0m\u001b[1;33m[\u001b[0m\u001b[1;36m0\u001b[0m\u001b[1;33m]\u001b[0m\u001b[1;33m.\u001b[0m\u001b[0msplit\u001b[0m\u001b[1;33m(\u001b[0m\u001b[1;33m)\u001b[0m\u001b[1;33m\u001b[0m\u001b[1;33m\u001b[0m\u001b[0m\n\u001b[0m",
      "\u001b[1;31mIndexError\u001b[0m: list index out of range"
     ]
    }
   ],
   "source": [
    "l[0].split()"
   ]
  },
  {
   "cell_type": "code",
   "execution_count": 10,
   "id": "34cf7678",
   "metadata": {},
   "outputs": [
    {
     "ename": "IndexError",
     "evalue": "list index out of range",
     "output_type": "error",
     "traceback": [
      "\u001b[1;31m---------------------------------------------------------------------------\u001b[0m",
      "\u001b[1;31mIndexError\u001b[0m                                Traceback (most recent call last)",
      "\u001b[1;32mC:\\Users\\PRASHA~1\\AppData\\Local\\Temp/ipykernel_12548/413285192.py\u001b[0m in \u001b[0;36m<module>\u001b[1;34m\u001b[0m\n\u001b[0;32m      1\u001b[0m \u001b[0ml\u001b[0m\u001b[1;33m=\u001b[0m\u001b[1;33m[\u001b[0m\u001b[1;33m]\u001b[0m\u001b[1;33m\u001b[0m\u001b[1;33m\u001b[0m\u001b[0m\n\u001b[1;32m----> 2\u001b[1;33m \u001b[1;32mfor\u001b[0m \u001b[0mi\u001b[0m \u001b[1;32min\u001b[0m \u001b[0ml\u001b[0m\u001b[1;33m[\u001b[0m\u001b[1;36m0\u001b[0m\u001b[1;33m]\u001b[0m\u001b[1;33m.\u001b[0m\u001b[0msplit\u001b[0m\u001b[1;33m(\u001b[0m\u001b[1;33m)\u001b[0m\u001b[1;33m:\u001b[0m\u001b[1;33m\u001b[0m\u001b[1;33m\u001b[0m\u001b[0m\n\u001b[0m\u001b[0;32m      3\u001b[0m     \u001b[0ml\u001b[0m\u001b[1;33m.\u001b[0m\u001b[0mappend\u001b[0m\u001b[1;33m(\u001b[0m\u001b[0mi\u001b[0m\u001b[1;33m[\u001b[0m\u001b[1;36m0\u001b[0m\u001b[1;33m]\u001b[0m\u001b[1;33m)\u001b[0m\u001b[1;33m\u001b[0m\u001b[1;33m\u001b[0m\u001b[0m\n",
      "\u001b[1;31mIndexError\u001b[0m: list index out of range"
     ]
    }
   ],
   "source": [
    "l=[]\n",
    "for i in l[0].split():\n",
    "    l.append(i[0])"
   ]
  },
  {
   "cell_type": "code",
   "execution_count": 2,
   "id": "6ba206d2",
   "metadata": {},
   "outputs": [
    {
     "ename": "NameError",
     "evalue": "name 'l' is not defined",
     "output_type": "error",
     "traceback": [
      "\u001b[1;31m---------------------------------------------------------------------------\u001b[0m",
      "\u001b[1;31mNameError\u001b[0m                                 Traceback (most recent call last)",
      "\u001b[1;32mC:\\Users\\PRASHA~1\\AppData\\Local\\Temp/ipykernel_12548/47256794.py\u001b[0m in \u001b[0;36m<module>\u001b[1;34m\u001b[0m\n\u001b[1;32m----> 1\u001b[1;33m \u001b[0ml\u001b[0m\u001b[1;33m.\u001b[0m\u001b[0mclose\u001b[0m\u001b[1;33m(\u001b[0m\u001b[1;33m)\u001b[0m\u001b[1;33m\u001b[0m\u001b[1;33m\u001b[0m\u001b[0m\n\u001b[0m",
      "\u001b[1;31mNameError\u001b[0m: name 'l' is not defined"
     ]
    }
   ],
   "source": [
    "l.close()"
   ]
  },
  {
   "cell_type": "code",
   "execution_count": 18,
   "id": "de1a5edb",
   "metadata": {},
   "outputs": [],
   "source": [
    "f=open(\"test1.txt\",\"r+\")"
   ]
  },
  {
   "cell_type": "code",
   "execution_count": 13,
   "id": "d2b61509",
   "metadata": {},
   "outputs": [
    {
     "data": {
      "text/plain": [
       "0"
      ]
     },
     "execution_count": 13,
     "metadata": {},
     "output_type": "execute_result"
    }
   ],
   "source": [
    "f.seek(0)"
   ]
  },
  {
   "cell_type": "code",
   "execution_count": 19,
   "id": "e1d106f5",
   "metadata": {},
   "outputs": [
    {
     "data": {
      "text/plain": [
       "['thisprashantirst operation to something in test1.txt\\n',\n",
       " 'Google LLC is an American multinational technology company that specializes in Internet-related services and products, which include online advertising technologies, a search engine, cloud computing, software, and hardware. It is considered one of the Big Five companies in the American information technology industry, along with Amazon, Apple, Meta (Facebook) and Microsoft.[10]\\n',\n",
       " '\\n',\n",
       " \"Google was founded on September 4, 1998, by Larry Page and Sergey Brin while they were Ph.D. students at Stanford University in California. Together they own about 14% of its publicly-listed shares and control 56% of the stockholder voting power through super-voting stock. The company went public via an initial public offering (IPO) in 2004. In 2015, Google was reorganized as a wholly-owned subsidiary of Alphabet Inc.. Google is Alphabet's largest subsidiary and is a holding company for Alphabet's Internet properties and interests. Sundar Pichai was appointed CEO of Google on October 24, 2015, replacing Larry Page, who became the CEO of Alphabet. On December 3, 2019, Pichai also became the CEO of Alphabet.[11]\\n\",\n",
       " '\\n',\n",
       " 'In 2021, the Alphabet Workers Union was founded, mainly composed of Google employees.[12]begrafkjeigerjnklfjijbegrafkjeigerjnklfjij']"
      ]
     },
     "execution_count": 19,
     "metadata": {},
     "output_type": "execute_result"
    }
   ],
   "source": [
    "f.readlines()"
   ]
  },
  {
   "cell_type": "code",
   "execution_count": 11,
   "id": "47d8cbeb",
   "metadata": {},
   "outputs": [
    {
     "data": {
      "text/plain": [
       "0"
      ]
     },
     "execution_count": 11,
     "metadata": {},
     "output_type": "execute_result"
    }
   ],
   "source": [
    "len(f.readlines())"
   ]
  },
  {
   "cell_type": "code",
   "execution_count": 23,
   "id": "0fb238bd",
   "metadata": {},
   "outputs": [],
   "source": [
    "l=f.readlines()"
   ]
  },
  {
   "cell_type": "code",
   "execution_count": 17,
   "id": "e49ab4f6",
   "metadata": {},
   "outputs": [
    {
     "ename": "TypeError",
     "evalue": "seek expected at least 1 argument, got 0",
     "output_type": "error",
     "traceback": [
      "\u001b[1;31m---------------------------------------------------------------------------\u001b[0m",
      "\u001b[1;31mTypeError\u001b[0m                                 Traceback (most recent call last)",
      "\u001b[1;32mC:\\Users\\PRASHA~1\\AppData\\Local\\Temp/ipykernel_12548/439553891.py\u001b[0m in \u001b[0;36m<module>\u001b[1;34m\u001b[0m\n\u001b[1;32m----> 1\u001b[1;33m \u001b[0mf\u001b[0m\u001b[1;33m.\u001b[0m\u001b[0mseek\u001b[0m\u001b[1;33m(\u001b[0m\u001b[1;33m)\u001b[0m\u001b[1;33m\u001b[0m\u001b[1;33m\u001b[0m\u001b[0m\n\u001b[0m",
      "\u001b[1;31mTypeError\u001b[0m: seek expected at least 1 argument, got 0"
     ]
    }
   ],
   "source": [
    "f.seek()"
   ]
  },
  {
   "cell_type": "code",
   "execution_count": 21,
   "id": "0d76c966",
   "metadata": {},
   "outputs": [
    {
     "data": {
      "text/plain": [
       "[]"
      ]
     },
     "execution_count": 21,
     "metadata": {},
     "output_type": "execute_result"
    }
   ],
   "source": []
  },
  {
   "cell_type": "code",
   "execution_count": 24,
   "id": "7c1d241d",
   "metadata": {},
   "outputs": [
    {
     "ename": "IndexError",
     "evalue": "list index out of range",
     "output_type": "error",
     "traceback": [
      "\u001b[1;31m---------------------------------------------------------------------------\u001b[0m",
      "\u001b[1;31mIndexError\u001b[0m                                Traceback (most recent call last)",
      "\u001b[1;32mC:\\Users\\PRASHA~1\\AppData\\Local\\Temp/ipykernel_12548/717044451.py\u001b[0m in \u001b[0;36m<module>\u001b[1;34m\u001b[0m\n\u001b[1;32m----> 1\u001b[1;33m \u001b[0ml\u001b[0m\u001b[1;33m[\u001b[0m\u001b[1;36m0\u001b[0m\u001b[1;33m]\u001b[0m\u001b[1;33m.\u001b[0m\u001b[0msplit\u001b[0m\u001b[1;33m(\u001b[0m\u001b[1;33m)\u001b[0m\u001b[1;33m\u001b[0m\u001b[1;33m\u001b[0m\u001b[0m\n\u001b[0m",
      "\u001b[1;31mIndexError\u001b[0m: list index out of range"
     ]
    }
   ],
   "source": [
    "l[0].split()"
   ]
  },
  {
   "cell_type": "code",
   "execution_count": 25,
   "id": "c3cece78",
   "metadata": {},
   "outputs": [
    {
     "name": "stdout",
     "output_type": "stream",
     "text": [
      " Volume in drive C has no label.\n",
      " Volume Serial Number is 1E4D-DCE3\n",
      "\n",
      " Directory of C:\\Users\\PRASHANT KUMAR\n",
      "\n",
      "18-01-2022  15:31    <DIR>          .\n",
      "16-01-2022  13:18    <DIR>          ..\n",
      "15-12-2019  12:13    <DIR>          .anaconda\n",
      "14-02-2020  11:35    <DIR>          .android\n",
      "17-01-2020  11:04    <DIR>          .AndroidStudio3.5\n",
      "21-07-2020  17:20               145 .appletviewer\n",
      "11-05-2021  21:25               388 .bash_history\n",
      "29-06-2021  14:36    <DIR>          .cache\n",
      "04-12-2021  14:55    <DIR>          .conda\n",
      "15-10-2020  13:05                43 .condarc\n",
      "08-02-2020  15:55    <DIR>          .config\n",
      "28-11-2021  13:34    <DIR>          .continuum\n",
      "14-06-2020  13:49    <DIR>          .dotnet\n",
      "11-03-2020  18:33    <DIR>          .eclipse\n",
      "17-01-2020  11:55                16 .emulator_console_auth_token\n",
      "17-01-2020  11:55    <DIR>          .gradle\n",
      "07-02-2020  16:05    <DIR>          .idlerc\n",
      "18-01-2022  14:44    <DIR>          .ipynb_checkpoints\n",
      "15-12-2019  01:37    <DIR>          .ipython\n",
      "19-12-2021  11:28    <DIR>          .jupyter\n",
      "28-07-2020  20:31    <DIR>          .m2\n",
      "14-12-2019  15:17    <DIR>          .nbi\n",
      "29-06-2021  14:50    <DIR>          .p2\n",
      "02-12-2021  09:25    <DIR>          .spyder-py3\n",
      "11-03-2020  18:33    <DIR>          .tooling\n",
      "25-12-2021  16:01    <DIR>          .VirtualBox\n",
      "14-12-2019  18:39    <DIR>          .vscode\n",
      "26-12-2021  09:38             3,504 21st dec(for,while).ipynb\n",
      "24-08-2021  15:06    <DIR>          3D Objects\n",
      "14-02-2020  12:38    <DIR>          AndroidStudioProjects\n",
      "21-12-2021  12:45             7,578 conditional statement.ipynb\n",
      "16-01-2022  15:37    <DIR>          Contacts\n",
      "16-01-2022  15:37    <DIR>          Desktop\n",
      "16-01-2022  15:37    <DIR>          Documents\n",
      "17-01-2022  21:02    <DIR>          Downloads\n",
      "29-06-2021  14:05    <DIR>          eclipse\n",
      "29-06-2021  12:21    <DIR>          eclipse-workspace\n",
      "16-01-2022  15:37    <DIR>          Favorites\n",
      "24-12-2021  14:54            13,457 for, while,lambda.ipynb\n",
      "11-01-2022  16:25            34,720 function with argument,iterable,iterator.ipynb\n",
      "29-12-2021  12:40            14,911 Function(23th Dec).ipynb\n",
      "18-01-2022  15:31            55,107 generator,file operation.ipynb\n",
      "16-10-2021  14:43    <DIR>          IBA_IOAPDATA\n",
      "16-01-2022  15:37    <DIR>          Links\n",
      "16-01-2022  15:37    <DIR>          Music\n",
      "09-08-2021  08:35    <DIR>          OneDrive\n",
      "14-12-2019  15:55    <DIR>          Oracle\n",
      "16-01-2022  15:37    <DIR>          Pictures\n",
      "16-01-2022  15:37    <DIR>          Saved Games\n",
      "16-01-2022  15:37    <DIR>          Searches\n",
      "14-12-2019  18:13    <DIR>          source\n",
      "16-11-2020  19:41       114,273,560 Teams_windows_x64.exe\n",
      "18-01-2022  14:34                 0 test.txt\n",
      "18-01-2022  15:14             1,292 test1.txt\n",
      "18-01-2022  14:40                21 test2.txt\n",
      "18-01-2022  14:30                 0 text.txt\n",
      "28-11-2021  09:11    <DIR>          Tracing\n",
      "04-12-2021  10:46               929 Untitled.ipynb\n",
      "04-12-2021  14:23            14,021 Untitled1.ipynb\n",
      "26-12-2021  13:29                72 Untitled10.ipynb\n",
      "28-12-2021  09:41                72 Untitled11.ipynb\n",
      "05-01-2022  11:23               588 Untitled12.ipynb\n",
      "06-01-2022  12:28             2,176 Untitled13.ipynb\n",
      "08-01-2022  11:27             1,063 Untitled14.ipynb\n",
      "11-01-2022  16:09            34,720 Untitled15.ipynb\n",
      "12-01-2022  14:08             4,789 Untitled16.ipynb\n",
      "12-01-2022  17:35             1,608 Untitled17.ipynb\n",
      "14-01-2022  19:47               588 Untitled18.ipynb\n",
      "05-12-2021  13:48            15,628 Untitled2.ipynb\n",
      "18-12-2021  15:27            17,346 Untitled3.ipynb\n",
      "19-12-2021  10:31             1,029 Untitled4.ipynb\n",
      "19-12-2021  12:54             7,580 Untitled5.ipynb\n",
      "21-12-2021  12:33             3,794 Untitled6.ipynb\n",
      "23-12-2021  18:31             1,078 Untitled7.ipynb\n",
      "26-12-2021  08:22                72 Untitled8.ipynb\n",
      "26-12-2021  10:25               932 Untitled9.ipynb\n",
      "16-01-2022  15:37    <DIR>          Videos\n",
      "16-11-2020  19:16       102,233,600 webexapp.msi\n",
      "27-12-2021  10:39            10,289 while.ipynb\n",
      "              36 File(s)    216,756,716 bytes\n",
      "              43 Dir(s)  96,550,088,704 bytes free\n"
     ]
    }
   ],
   "source": [
    "%ls"
   ]
  },
  {
   "cell_type": "code",
   "execution_count": 26,
   "id": "d0d2475b",
   "metadata": {},
   "outputs": [],
   "source": [
    "f=open(\"test1.txt\",\"r+\")"
   ]
  },
  {
   "cell_type": "code",
   "execution_count": 27,
   "id": "caa5dc43",
   "metadata": {},
   "outputs": [
    {
     "data": {
      "text/plain": [
       "'test1.txt'"
      ]
     },
     "execution_count": 27,
     "metadata": {},
     "output_type": "execute_result"
    }
   ],
   "source": [
    "f.name"
   ]
  },
  {
   "cell_type": "code",
   "execution_count": 28,
   "id": "6663a7a2",
   "metadata": {},
   "outputs": [],
   "source": [
    "l=[\"ffgnkjlhgdfkjlkmjhnhg\",\"tthjhgdweadvfrutcty\",\"dfffftyghffffffffffff\",\"ftreedfgrfbnkooiuuytrevggff\"]"
   ]
  },
  {
   "cell_type": "code",
   "execution_count": 29,
   "id": "e094213f",
   "metadata": {},
   "outputs": [
    {
     "data": {
      "text/plain": [
       "13"
      ]
     },
     "execution_count": 29,
     "metadata": {},
     "output_type": "execute_result"
    }
   ],
   "source": [
    "f.write(\"i am prashant\")"
   ]
  },
  {
   "cell_type": "code",
   "execution_count": 30,
   "id": "98d4370b",
   "metadata": {},
   "outputs": [],
   "source": [
    "f.writelines(l)"
   ]
  },
  {
   "cell_type": "code",
   "execution_count": 31,
   "id": "691981f6",
   "metadata": {},
   "outputs": [],
   "source": [
    "f.close()"
   ]
  },
  {
   "cell_type": "code",
   "execution_count": 32,
   "id": "ecb716ed",
   "metadata": {},
   "outputs": [
    {
     "data": {
      "text/plain": [
       "4"
      ]
     },
     "execution_count": 32,
     "metadata": {},
     "output_type": "execute_result"
    }
   ],
   "source": [
    "f=open(\"test1.txt\",\"r+\")\n",
    "f.fileno()"
   ]
  },
  {
   "cell_type": "code",
   "execution_count": 33,
   "id": "d1e22867",
   "metadata": {},
   "outputs": [
    {
     "name": "stdout",
     "output_type": "stream",
     "text": [
      " Volume in drive C has no label.\n",
      " Volume Serial Number is 1E4D-DCE3\n",
      "\n",
      " Directory of C:\\Users\\PRASHANT KUMAR\n",
      "\n",
      "18-01-2022  15:41    <DIR>          .\n",
      "16-01-2022  13:18    <DIR>          ..\n",
      "15-12-2019  12:13    <DIR>          .anaconda\n",
      "14-02-2020  11:35    <DIR>          .android\n",
      "17-01-2020  11:04    <DIR>          .AndroidStudio3.5\n",
      "21-07-2020  17:20               145 .appletviewer\n",
      "11-05-2021  21:25               388 .bash_history\n",
      "29-06-2021  14:36    <DIR>          .cache\n",
      "04-12-2021  14:55    <DIR>          .conda\n",
      "15-10-2020  13:05                43 .condarc\n",
      "08-02-2020  15:55    <DIR>          .config\n",
      "28-11-2021  13:34    <DIR>          .continuum\n",
      "14-06-2020  13:49    <DIR>          .dotnet\n",
      "11-03-2020  18:33    <DIR>          .eclipse\n",
      "17-01-2020  11:55                16 .emulator_console_auth_token\n",
      "17-01-2020  11:55    <DIR>          .gradle\n",
      "07-02-2020  16:05    <DIR>          .idlerc\n",
      "18-01-2022  14:44    <DIR>          .ipynb_checkpoints\n",
      "15-12-2019  01:37    <DIR>          .ipython\n",
      "19-12-2021  11:28    <DIR>          .jupyter\n",
      "28-07-2020  20:31    <DIR>          .m2\n",
      "14-12-2019  15:17    <DIR>          .nbi\n",
      "29-06-2021  14:50    <DIR>          .p2\n",
      "02-12-2021  09:25    <DIR>          .spyder-py3\n",
      "11-03-2020  18:33    <DIR>          .tooling\n",
      "25-12-2021  16:01    <DIR>          .VirtualBox\n",
      "14-12-2019  18:39    <DIR>          .vscode\n",
      "26-12-2021  09:38             3,504 21st dec(for,while).ipynb\n",
      "24-08-2021  15:06    <DIR>          3D Objects\n",
      "14-02-2020  12:38    <DIR>          AndroidStudioProjects\n",
      "21-12-2021  12:45             7,578 conditional statement.ipynb\n",
      "16-01-2022  15:37    <DIR>          Contacts\n",
      "16-01-2022  15:37    <DIR>          Desktop\n",
      "16-01-2022  15:37    <DIR>          Documents\n",
      "17-01-2022  21:02    <DIR>          Downloads\n",
      "29-06-2021  14:05    <DIR>          eclipse\n",
      "29-06-2021  12:21    <DIR>          eclipse-workspace\n",
      "16-01-2022  15:37    <DIR>          Favorites\n",
      "24-12-2021  14:54            13,457 for, while,lambda.ipynb\n",
      "11-01-2022  16:25            34,720 function with argument,iterable,iterator.ipynb\n",
      "29-12-2021  12:40            14,911 Function(23th Dec).ipynb\n",
      "18-01-2022  15:41            61,823 generator,file operation.ipynb\n",
      "16-10-2021  14:43    <DIR>          IBA_IOAPDATA\n",
      "16-01-2022  15:37    <DIR>          Links\n",
      "16-01-2022  15:37    <DIR>          Music\n",
      "09-08-2021  08:35    <DIR>          OneDrive\n",
      "14-12-2019  15:55    <DIR>          Oracle\n",
      "16-01-2022  15:37    <DIR>          Pictures\n",
      "16-01-2022  15:37    <DIR>          Saved Games\n",
      "16-01-2022  15:37    <DIR>          Searches\n",
      "14-12-2019  18:13    <DIR>          source\n",
      "16-11-2020  19:41       114,273,560 Teams_windows_x64.exe\n",
      "18-01-2022  14:34                 0 test.txt\n",
      "18-01-2022  15:37             1,292 test1.txt\n",
      "18-01-2022  14:40                21 test2.txt\n",
      "18-01-2022  14:30                 0 text.txt\n",
      "28-11-2021  09:11    <DIR>          Tracing\n",
      "04-12-2021  10:46               929 Untitled.ipynb\n",
      "04-12-2021  14:23            14,021 Untitled1.ipynb\n",
      "26-12-2021  13:29                72 Untitled10.ipynb\n",
      "28-12-2021  09:41                72 Untitled11.ipynb\n",
      "05-01-2022  11:23               588 Untitled12.ipynb\n",
      "06-01-2022  12:28             2,176 Untitled13.ipynb\n",
      "08-01-2022  11:27             1,063 Untitled14.ipynb\n",
      "11-01-2022  16:09            34,720 Untitled15.ipynb\n",
      "12-01-2022  14:08             4,789 Untitled16.ipynb\n",
      "12-01-2022  17:35             1,608 Untitled17.ipynb\n",
      "14-01-2022  19:47               588 Untitled18.ipynb\n",
      "05-12-2021  13:48            15,628 Untitled2.ipynb\n",
      "18-12-2021  15:27            17,346 Untitled3.ipynb\n",
      "19-12-2021  10:31             1,029 Untitled4.ipynb\n",
      "19-12-2021  12:54             7,580 Untitled5.ipynb\n",
      "21-12-2021  12:33             3,794 Untitled6.ipynb\n",
      "23-12-2021  18:31             1,078 Untitled7.ipynb\n",
      "26-12-2021  08:22                72 Untitled8.ipynb\n",
      "26-12-2021  10:25               932 Untitled9.ipynb\n",
      "16-01-2022  15:37    <DIR>          Videos\n",
      "16-11-2020  19:16       102,233,600 webexapp.msi\n",
      "27-12-2021  10:39            10,289 while.ipynb\n",
      "              36 File(s)    216,763,432 bytes\n",
      "              43 Dir(s)  96,548,143,104 bytes free\n"
     ]
    }
   ],
   "source": [
    "%ls"
   ]
  },
  {
   "cell_type": "code",
   "execution_count": 34,
   "id": "a418634a",
   "metadata": {},
   "outputs": [
    {
     "data": {
      "text/plain": [
       "'C:\\\\Users\\\\PRASHANT KUMAR'"
      ]
     },
     "execution_count": 34,
     "metadata": {},
     "output_type": "execute_result"
    }
   ],
   "source": [
    "pwd()"
   ]
  },
  {
   "cell_type": "code",
   "execution_count": null,
   "id": "39c46862",
   "metadata": {},
   "outputs": [],
   "source": []
  }
 ],
 "metadata": {
  "kernelspec": {
   "display_name": "Python 3 (ipykernel)",
   "language": "python",
   "name": "python3"
  },
  "language_info": {
   "codemirror_mode": {
    "name": "ipython",
    "version": 3
   },
   "file_extension": ".py",
   "mimetype": "text/x-python",
   "name": "python",
   "nbconvert_exporter": "python",
   "pygments_lexer": "ipython3",
   "version": "3.9.7"
  }
 },
 "nbformat": 4,
 "nbformat_minor": 5
}
