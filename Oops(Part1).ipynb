{
 "cells": [
  {
   "cell_type": "code",
   "execution_count": 1,
   "id": "7edaef94",
   "metadata": {},
   "outputs": [],
   "source": [
    "import mydict"
   ]
  },
  {
   "cell_type": "code",
   "execution_count": 2,
   "id": "e41f6210",
   "metadata": {},
   "outputs": [],
   "source": [
    "d=mydict.dict_parsing({\"k1\":\"uffji\",\"k2\":\"3885\",\"k3\":\"4856\"})"
   ]
  },
  {
   "cell_type": "code",
   "execution_count": 3,
   "id": "45cfc4bc",
   "metadata": {},
   "outputs": [
    {
     "data": {
      "text/plain": [
       "['k1', 'k2', 'k3']"
      ]
     },
     "execution_count": 3,
     "metadata": {},
     "output_type": "execute_result"
    }
   ],
   "source": [
    "d.getkeys()"
   ]
  },
  {
   "cell_type": "code",
   "execution_count": 4,
   "id": "e163eccf",
   "metadata": {},
   "outputs": [
    {
     "data": {
      "text/plain": [
       "['uffji', '3885', '4856']"
      ]
     },
     "execution_count": 4,
     "metadata": {},
     "output_type": "execute_result"
    }
   ],
   "source": [
    "d.getvalues()"
   ]
  },
  {
   "cell_type": "code",
   "execution_count": null,
   "id": "4912883f",
   "metadata": {},
   "outputs": [],
   "source": []
  }
 ],
 "metadata": {
  "kernelspec": {
   "display_name": "Python 3 (ipykernel)",
   "language": "python",
   "name": "python3"
  },
  "language_info": {
   "codemirror_mode": {
    "name": "ipython",
    "version": 3
   },
   "file_extension": ".py",
   "mimetype": "text/x-python",
   "name": "python",
   "nbconvert_exporter": "python",
   "pygments_lexer": "ipython3",
   "version": "3.9.7"
  }
 },
 "nbformat": 4,
 "nbformat_minor": 5
}
